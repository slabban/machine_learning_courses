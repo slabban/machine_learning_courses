{
  "cells": [
    {
      "cell_type": "markdown",
      "metadata": {
        "id": "nbjHCZxynrjT"
      },
      "source": [
        "# Welcome to the Pruning Mini-Workshop"
      ]
    },
    {
      "cell_type": "code",
      "execution_count": 1,
      "metadata": {
        "id": "vIzeiwxDmmlp"
      },
      "outputs": [],
      "source": [
        "# pruning header import\n",
        "import torch.nn.utils.prune as prune\n",
        "import torch.nn as nn\n",
        "import matplotlib.pyplot as plt\n",
        "# pruning operations are done in-place, so take a copy of the model / module\n",
        "from copy import deepcopy\n",
        "import numpy as np"
      ]
    },
    {
      "cell_type": "code",
      "execution_count": 2,
      "metadata": {
        "id": "Y2Bp0KuUoY2D"
      },
      "outputs": [],
      "source": [
        "# create a dummy module to understand pruning techniques\n",
        "fc_test = nn.Linear(10,10)\n",
        "\n",
        "module = deepcopy(fc_test)"
      ]
    },
    {
      "cell_type": "code",
      "execution_count": 3,
      "metadata": {
        "id": "HdvrIBtPm1RW"
      },
      "outputs": [
        {
          "name": "stdout",
          "output_type": "stream",
          "text": [
            "Before pruning, named_parameters()\n",
            "[('weight', Parameter containing:\n",
            "tensor([[-0.2387, -0.2447, -0.0856,  0.0635, -0.2356, -0.3141, -0.2429, -0.0327,\n",
            "          0.0016,  0.0742],\n",
            "        [-0.2507,  0.0460, -0.2846,  0.1338,  0.0516, -0.0189, -0.0805,  0.1418,\n",
            "         -0.2455, -0.2815],\n",
            "        [ 0.1480,  0.1574,  0.1506,  0.0832, -0.0912,  0.0861, -0.3115,  0.2653,\n",
            "         -0.1036,  0.0545],\n",
            "        [-0.0657, -0.0559,  0.0398,  0.0656,  0.1623, -0.0700, -0.0300, -0.0018,\n",
            "          0.2767, -0.1967],\n",
            "        [ 0.0571, -0.0768,  0.2550,  0.1185, -0.3135, -0.0415,  0.0546, -0.1544,\n",
            "          0.2891, -0.1429],\n",
            "        [ 0.2268, -0.1613,  0.2053, -0.2844, -0.2679, -0.0348,  0.1344,  0.1003,\n",
            "         -0.2550, -0.2656],\n",
            "        [ 0.1165,  0.2516,  0.0235, -0.1824,  0.0618,  0.0032,  0.1477,  0.0960,\n",
            "         -0.0345, -0.2521],\n",
            "        [ 0.0950,  0.1573, -0.1449,  0.0453, -0.2360, -0.0721,  0.0147, -0.0600,\n",
            "         -0.1957,  0.1602],\n",
            "        [ 0.3154, -0.2544, -0.2028,  0.2383,  0.2852, -0.1518,  0.1897,  0.2959,\n",
            "         -0.3079, -0.0642],\n",
            "        [-0.2649,  0.0785, -0.0487,  0.1561, -0.1126, -0.0400, -0.0573, -0.1729,\n",
            "          0.1335,  0.0954]], requires_grad=True)), ('bias', Parameter containing:\n",
            "tensor([-0.1720, -0.0007,  0.1350, -0.1551,  0.1717,  0.1146, -0.0335, -0.1510,\n",
            "         0.0867,  0.2885], requires_grad=True))]\n",
            "Before pruning, named_buffers()\n",
            "[]\n"
          ]
        }
      ],
      "source": [
        "# contains `weight` and `bias` parameters\n",
        "print('Before pruning, named_parameters()')\n",
        "print(list(module.named_parameters()))\n",
        "\n",
        "print('Before pruning, named_buffers()')\n",
        "# prior to pruning contains no buffers\n",
        "print(list(module.named_buffers()))"
      ]
    },
    {
      "cell_type": "markdown",
      "metadata": {
        "id": "TqqXfnOIoJ4L"
      },
      "source": [
        "## L1 Unstructured Pruning"
      ]
    },
    {
      "cell_type": "markdown",
      "metadata": {
        "id": "NOtcDMgao1YK"
      },
      "source": [
        "### Numpy"
      ]
    },
    {
      "cell_type": "code",
      "execution_count": 4,
      "metadata": {
        "id": "w-O_U-qRm4ev"
      },
      "outputs": [
        {
          "name": "stdout",
          "output_type": "stream",
          "text": [
            "[[-0.23872851 -0.24474624 -0.08555456  0.06352117 -0.2356103  -0.31405327\n",
            "  -0.24292581 -0.03267156  0.00161782  0.07420146]\n",
            " [-0.25066087  0.04596378 -0.2845904   0.1338374   0.05162715 -0.01889124\n",
            "  -0.08050591  0.1417622  -0.24547964 -0.28149325]\n",
            " [ 0.14804132  0.1573836   0.15059832  0.08316964 -0.09122024  0.08613461\n",
            "  -0.3114906   0.26529542 -0.10358551  0.05446349]\n",
            " [-0.06569664 -0.05594737  0.03982228  0.06557315  0.1622892  -0.07000484\n",
            "  -0.03000757 -0.00181448  0.27666876 -0.19670945]\n",
            " [ 0.0571437  -0.07679431  0.25502223  0.1184975  -0.3134741  -0.04154347\n",
            "   0.05457749 -0.15440327  0.2891498  -0.14285772]\n",
            " [ 0.22679725 -0.16128637  0.2053455  -0.28438511 -0.26792276 -0.03484228\n",
            "   0.134441    0.10026954 -0.25497586 -0.2655825 ]\n",
            " [ 0.11648424  0.2515501   0.0235061  -0.1823906   0.06176327  0.00319149\n",
            "   0.14774331  0.0959929  -0.03445227 -0.2521241 ]\n",
            " [ 0.09499988  0.15729517 -0.14487079  0.04527489 -0.23604555 -0.07214413\n",
            "   0.01469787 -0.06003881 -0.19573197  0.16019635]\n",
            " [ 0.3154495  -0.25444892 -0.20278257  0.23828685  0.28518677 -0.15176016\n",
            "   0.18970749  0.2959185  -0.30791068 -0.06422355]\n",
            " [-0.26487598  0.07852025 -0.04869234  0.15613809 -0.11261024 -0.03999788\n",
            "  -0.05725883 -0.17287177  0.13351633  0.09544678]]\n"
          ]
        }
      ],
      "source": [
        "weight = module.weight.cpu().detach().numpy()\n",
        "print(weight)"
      ]
    },
    {
      "cell_type": "code",
      "execution_count": 7,
      "metadata": {
        "id": "dorfq9ImocVQ"
      },
      "outputs": [
        {
          "name": "stdout",
          "output_type": "stream",
          "text": [
            "[0.00161782 0.00181448 0.00319149 0.01469787 0.01889124 0.0235061\n",
            " 0.03000757 0.03267156 0.03445227 0.03484228 0.03982228 0.03999788\n",
            " 0.04154347 0.04527489 0.04596378 0.04869234 0.05162715 0.05446349\n",
            " 0.05457749 0.05594737 0.0571437  0.05725883 0.06003881 0.06176327\n",
            " 0.06352117 0.06422355 0.06557315 0.06569664 0.07000484 0.07214413\n",
            " 0.07420146 0.07679431 0.07852025 0.08050591 0.08316964 0.08555456\n",
            " 0.08613461 0.09122024 0.09499988 0.09544678 0.0959929  0.10026954\n",
            " 0.10358551 0.11261024 0.11648424 0.1184975  0.13351633 0.1338374\n",
            " 0.134441   0.1417622  0.14285772 0.14487079 0.14774331 0.14804132\n",
            " 0.15059832 0.15176016 0.15440327 0.15613809 0.15729517 0.1573836\n",
            " 0.16019635 0.16128637 0.1622892  0.17287177 0.1823906  0.18970749\n",
            " 0.19573197 0.19670945 0.20278257 0.2053455  0.22679725 0.2356103\n",
            " 0.23604555 0.23828685 0.23872851 0.24292581 0.24474624 0.24547964\n",
            " 0.25066087 0.2515501  0.2521241  0.25444892 0.25497586 0.25502223\n",
            " 0.26487598 0.26529542 0.2655825  0.26792276 0.27666876 0.28149325\n",
            " 0.28438511 0.2845904  0.28518677 0.2891498  0.2959185  0.30791068\n",
            " 0.3114906  0.3134741  0.31405327 0.3154495 ]\n"
          ]
        }
      ],
      "source": [
        "sorted_array = np.sort(np.abs(weight.ravel()))\n",
        "print(sorted_array)"
      ]
    },
    {
      "cell_type": "code",
      "execution_count": 12,
      "metadata": {
        "id": "DPL6wyxjoeTQ"
      },
      "outputs": [
        {
          "name": "stdout",
          "output_type": "stream",
          "text": [
            "[[1 1 1 1 1 1 0 0 0 1]\n",
            " [1 1 1 1 1 0 0 0 1 1]\n",
            " [1 1 1 0 1 1 1 1 1 1]\n",
            " [1 0 0 0 0 0 0 0 1 1]\n",
            " [1 1 1 1 0 0 0 1 1 1]\n",
            " [1 1 1 1 1 0 1 1 1 1]\n",
            " [1 1 0 0 0 0 1 1 1 1]\n",
            " [1 1 1 0 0 0 0 1 1 1]\n",
            " [1 1 1 1 0 1 1 1 1 1]\n",
            " [1 1 1 0 0 0 1 1 1 1]]\n"
          ]
        }
      ],
      "source": [
        "pruned_array = np.abs(weight) > sorted_array[29]\n",
        "print(pruned_array.astype(int))"
      ]
    },
    {
      "cell_type": "markdown",
      "metadata": {
        "id": "fAi9QcvPn9u0"
      },
      "source": [
        "### PyTorch"
      ]
    },
    {
      "cell_type": "code",
      "execution_count": 14,
      "metadata": {
        "id": "Rhac1yMXm2ji"
      },
      "outputs": [
        {
          "data": {
            "text/plain": [
              "Linear(in_features=10, out_features=10, bias=True)"
            ]
          },
          "execution_count": 14,
          "metadata": {},
          "output_type": "execute_result"
        }
      ],
      "source": [
        "# l1_unstructured means that weights are pruned according to their `L1_norm`\n",
        "# eg: the following line prunes 30% of weights in module according to their L1 norm\n",
        "\n",
        "prune.l1_unstructured(module, 'weight', 0.3)"
      ]
    },
    {
      "cell_type": "code",
      "execution_count": 15,
      "metadata": {
        "id": "l4F02VOdm4cp"
      },
      "outputs": [
        {
          "name": "stdout",
          "output_type": "stream",
          "text": [
            "After pruning, named_parameters()\n",
            "[('bias', Parameter containing:\n",
            "tensor([-0.1720, -0.0007,  0.1350, -0.1551,  0.1717,  0.1146, -0.0335, -0.1510,\n",
            "         0.0867,  0.2885], requires_grad=True)), ('weight_orig', Parameter containing:\n",
            "tensor([[-0.3141, -0.2447, -0.2429, -0.2387, -0.2356, -0.0856, -0.0327,  0.0016,\n",
            "          0.0635,  0.0742],\n",
            "        [-0.2846, -0.2815, -0.2507, -0.2455, -0.0805, -0.0189,  0.0460,  0.0516,\n",
            "          0.1338,  0.1418],\n",
            "        [-0.3115, -0.1036, -0.0912,  0.0545,  0.0832,  0.0861,  0.1480,  0.1506,\n",
            "          0.1574,  0.2653],\n",
            "        [-0.1967, -0.0700, -0.0657, -0.0559, -0.0300, -0.0018,  0.0398,  0.0656,\n",
            "          0.1623,  0.2767],\n",
            "        [-0.3135, -0.1544, -0.1429, -0.0768, -0.0415,  0.0546,  0.0571,  0.1185,\n",
            "          0.2550,  0.2891],\n",
            "        [-0.2844, -0.2679, -0.2656, -0.2550, -0.1613, -0.0348,  0.1003,  0.1344,\n",
            "          0.2053,  0.2268],\n",
            "        [-0.2521, -0.1824, -0.0345,  0.0032,  0.0235,  0.0618,  0.0960,  0.1165,\n",
            "          0.1477,  0.2516],\n",
            "        [-0.2360, -0.1957, -0.1449, -0.0721, -0.0600,  0.0147,  0.0453,  0.0950,\n",
            "          0.1573,  0.1602],\n",
            "        [-0.3079, -0.2544, -0.2028, -0.1518, -0.0642,  0.1897,  0.2383,  0.2852,\n",
            "          0.2959,  0.3154],\n",
            "        [-0.2649, -0.1729, -0.1126, -0.0573, -0.0487, -0.0400,  0.0785,  0.0954,\n",
            "          0.1335,  0.1561]], requires_grad=True))]\n",
            "After pruning, named_buffers()\n",
            "[('weight_mask', tensor([[1., 1., 1., 1., 1., 1., 0., 0., 0., 1.],\n",
            "        [1., 1., 1., 1., 1., 0., 0., 0., 1., 1.],\n",
            "        [1., 1., 1., 0., 1., 1., 1., 1., 1., 1.],\n",
            "        [1., 0., 0., 0., 0., 0., 0., 0., 1., 1.],\n",
            "        [1., 1., 1., 1., 0., 0., 0., 1., 1., 1.],\n",
            "        [1., 1., 1., 1., 1., 0., 1., 1., 1., 1.],\n",
            "        [1., 1., 0., 0., 0., 0., 1., 1., 1., 1.],\n",
            "        [1., 1., 1., 0., 0., 0., 0., 1., 1., 1.],\n",
            "        [1., 1., 1., 1., 0., 1., 1., 1., 1., 1.],\n",
            "        [1., 1., 1., 0., 0., 0., 1., 1., 1., 1.]]))]\n"
          ]
        }
      ],
      "source": [
        "# contains `weight_orig` and `bias` parameters\n",
        "print('After pruning, named_parameters()')\n",
        "print(list(module.named_parameters()))\n",
        "\n",
        "# after pruning contains `weight_mask`\n",
        "print('After pruning, named_buffers()')\n",
        "print(list(module.named_buffers()))"
      ]
    },
    {
      "cell_type": "markdown",
      "metadata": {
        "id": "iWUE25T3oOy-"
      },
      "source": [
        "## L1 Structured"
      ]
    },
    {
      "cell_type": "markdown",
      "metadata": {
        "id": "3vBjFy6to6Qn"
      },
      "source": [
        "### Numpy"
      ]
    },
    {
      "cell_type": "code",
      "execution_count": 19,
      "metadata": {
        "id": "eb81c7hLo8wq"
      },
      "outputs": [
        {
          "name": "stdout",
          "output_type": "stream",
          "text": [
            "[[-0.23872851 -0.24474624 -0.08555456  0.06352117 -0.2356103  -0.31405327\n",
            "  -0.24292581 -0.03267156  0.00161782  0.07420146]\n",
            " [-0.25066087  0.04596378 -0.2845904   0.1338374   0.05162715 -0.01889124\n",
            "  -0.08050591  0.1417622  -0.24547964 -0.28149325]\n",
            " [ 0.14804132  0.1573836   0.15059832  0.08316964 -0.09122024  0.08613461\n",
            "  -0.3114906   0.26529542 -0.10358551  0.05446349]\n",
            " [-0.06569664 -0.05594737  0.03982228  0.06557315  0.1622892  -0.07000484\n",
            "  -0.03000757 -0.00181448  0.27666876 -0.19670945]\n",
            " [ 0.0571437  -0.07679431  0.25502223  0.1184975  -0.3134741  -0.04154347\n",
            "   0.05457749 -0.15440327  0.2891498  -0.14285772]\n",
            " [ 0.22679725 -0.16128637  0.2053455  -0.28438511 -0.26792276 -0.03484228\n",
            "   0.134441    0.10026954 -0.25497586 -0.2655825 ]\n",
            " [ 0.11648424  0.2515501   0.0235061  -0.1823906   0.06176327  0.00319149\n",
            "   0.14774331  0.0959929  -0.03445227 -0.2521241 ]\n",
            " [ 0.09499988  0.15729517 -0.14487079  0.04527489 -0.23604555 -0.07214413\n",
            "   0.01469787 -0.06003881 -0.19573197  0.16019635]\n",
            " [ 0.3154495  -0.25444892 -0.20278257  0.23828685  0.28518677 -0.15176016\n",
            "   0.18970749  0.2959185  -0.30791068 -0.06422355]\n",
            " [-0.26487598  0.07852025 -0.04869234  0.15613809 -0.11261024 -0.03999788\n",
            "  -0.05725883 -0.17287177  0.13351633  0.09544678]]\n"
          ]
        }
      ],
      "source": [
        "module = deepcopy(fc_test)\n",
        "\n",
        "weight = module.weight.cpu().detach().numpy()\n",
        "print(weight)"
      ]
    },
    {
      "cell_type": "code",
      "execution_count": 20,
      "metadata": {
        "id": "bbKpwwE7pA8a"
      },
      "outputs": [
        {
          "name": "stdout",
          "output_type": "stream",
          "text": [
            "[3 9 6 7 2 4 0 1 5 8]\n"
          ]
        }
      ],
      "source": [
        "# finding the L1 norm for each row (equivalent to \n",
        "# total norm of each neuron) and sort them \n",
        "sorted_array = np.argsort(np.sum(np.abs(weight), axis=1))\n",
        "print(sorted_array)"
      ]
    },
    {
      "cell_type": "code",
      "execution_count": 22,
      "metadata": {
        "id": "Rnh4AgshpCY6"
      },
      "outputs": [
        {
          "name": "stdout",
          "output_type": "stream",
          "text": [
            "[[1 1 1 1 1 1 1 1 1 1]\n",
            " [1 1 1 1 1 1 1 1 1 1]\n",
            " [1 1 1 1 1 1 1 1 1 1]\n",
            " [0 0 0 0 0 0 0 0 0 0]\n",
            " [1 1 1 1 1 1 1 1 1 1]\n",
            " [1 1 1 1 1 1 1 1 1 1]\n",
            " [0 0 0 0 0 0 0 0 0 0]\n",
            " [1 1 1 1 1 1 1 1 1 1]\n",
            " [1 1 1 1 1 1 1 1 1 1]\n",
            " [0 0 0 0 0 0 0 0 0 0]]\n"
          ]
        }
      ],
      "source": [
        "pruned_array = np.ones_like(weight)\n",
        "\n",
        "pruned_array[sorted_array[0:3],:] = 0\n",
        "\n",
        "print(pruned_array.astype(int))"
      ]
    },
    {
      "cell_type": "markdown",
      "metadata": {
        "id": "dd4kk6szo_gU"
      },
      "source": [
        "### PyTorch"
      ]
    },
    {
      "cell_type": "code",
      "execution_count": 23,
      "metadata": {
        "id": "LC2Y8TBrm-AR"
      },
      "outputs": [
        {
          "data": {
            "text/plain": [
              "Linear(in_features=10, out_features=10, bias=True)"
            ]
          },
          "execution_count": 23,
          "metadata": {},
          "output_type": "execute_result"
        }
      ],
      "source": [
        "module = deepcopy(fc_test)\n",
        "# n denotes the order of `L-norm` to use while pruning\n",
        "# dim indicates which dimension to prune\n",
        "\n",
        "prune.ln_structured(module, \"weight\", 0.3, 1, 0)"
      ]
    },
    {
      "cell_type": "code",
      "execution_count": 24,
      "metadata": {
        "id": "l1zD4V2Ym-D4"
      },
      "outputs": [
        {
          "data": {
            "text/plain": [
              "[('weight_mask',\n",
              "  tensor([[1., 1., 1., 1., 1., 1., 1., 1., 1., 1.],\n",
              "          [1., 1., 1., 1., 1., 1., 1., 1., 1., 1.],\n",
              "          [1., 1., 1., 1., 1., 1., 1., 1., 1., 1.],\n",
              "          [0., 0., 0., 0., 0., 0., 0., 0., 0., 0.],\n",
              "          [1., 1., 1., 1., 1., 1., 1., 1., 1., 1.],\n",
              "          [1., 1., 1., 1., 1., 1., 1., 1., 1., 1.],\n",
              "          [0., 0., 0., 0., 0., 0., 0., 0., 0., 0.],\n",
              "          [1., 1., 1., 1., 1., 1., 1., 1., 1., 1.],\n",
              "          [1., 1., 1., 1., 1., 1., 1., 1., 1., 1.],\n",
              "          [0., 0., 0., 0., 0., 0., 0., 0., 0., 0.]]))]"
            ]
          },
          "execution_count": 24,
          "metadata": {},
          "output_type": "execute_result"
        }
      ],
      "source": [
        "# We can observe entire rows of weights are set to zero, meaning all \n",
        "# connections to a neuron have been pruned\n",
        "list(module.named_buffers())"
      ]
    },
    {
      "cell_type": "markdown",
      "metadata": {
        "id": "CnOAQFLZpWfp"
      },
      "source": [
        "## Plot"
      ]
    },
    {
      "cell_type": "code",
      "execution_count": 28,
      "metadata": {},
      "outputs": [],
      "source": [
        "def plot_fc_weight(weight, ax=None, cmap='viridis'):\n",
        "  nrows, ncols = weight.shape\n",
        "  x = np.arange(0,ncols)\n",
        "  y = np.arange(0,nrows)\n",
        "  X, Y = np.meshgrid(x,y)\n",
        "  z_np = weight.detach().cpu().numpy()\n",
        "  ln = ax.pcolor(X, Y, z_np, cmap=cmap)\n",
        "  ax.axis('off')\n",
        "  return ln"
      ]
    },
    {
      "cell_type": "code",
      "execution_count": 31,
      "metadata": {
        "id": "t5SGLPIMnE9i"
      },
      "outputs": [
        {
          "name": "stderr",
          "output_type": "stream",
          "text": [
            "<ipython-input-28-3f3839346a59>:7: MatplotlibDeprecationWarning: shading='flat' when X and Y have the same dimensions as C is deprecated since 3.3.  Either specify the corners of the quadrilaterals with X and Y, or pass shading='auto', 'nearest' or 'gouraud', or set rcParams['pcolor.shading'].  This will become an error two minor releases later.\n",
            "  ln = ax.pcolor(X, Y, z_np, cmap=cmap)\n"
          ]
        },
        {
          "data": {
            "image/png": "[encoded data removed]",
            "text/plain": [
              "<Figure size 576x288 with 2 Axes>"
            ]
          },
          "metadata": {
            "needs_background": "light"
          },
          "output_type": "display_data"
        }
      ],
      "source": [
        "fig, (ax1, ax2) = plt.subplots(1,2,figsize=(8, 4))\n",
        "plot_fc_weight(module.weight, ax1)\n",
        "\n",
        "# l1 unstructured pruning\n",
        "module = deepcopy(fc_test)\n",
        "prune.l1_unstructured(module, 'weight', amount=0.3);\n",
        "plot_fc_weight(module.weight, ax1);\n",
        "ax1.set_title('L1 Unstructured Pruning')\n",
        "\n",
        "# l1 Structured pruning\n",
        "module = deepcopy(fc_test)\n",
        "prune.ln_structured(module, 'weight', amount=0.3, n=1, dim=0);\n",
        "plot_fc_weight(module.weight, ax2);\n",
        "ax2.set_title('L1 Structured Pruning');"
      ]
    }
  ],
  "metadata": {
    "colab": {
      "collapsed_sections": [],
      "name": "Mini_Pruning_Starter.ipynb",
      "private_outputs": true,
      "provenance": []
    },
    "kernelspec": {
      "display_name": "Python 3.8.8 ('base')",
      "language": "python",
      "name": "python3"
    },
    "language_info": {
      "codemirror_mode": {
        "name": "ipython",
        "version": 3
      },
      "file_extension": ".py",
      "mimetype": "text/x-python",
      "name": "python",
      "nbconvert_exporter": "python",
      "pygments_lexer": "ipython3",
      "version": "3.8.8"
    },
    "vscode": {
      "interpreter": {
        "hash": "7b32ba8630eae0cf143c35cc7c8bde428688116bdb8bd122db8a27652bb35d1a"
      }
    }
  },
  "nbformat": 4,
  "nbformat_minor": 0
}
