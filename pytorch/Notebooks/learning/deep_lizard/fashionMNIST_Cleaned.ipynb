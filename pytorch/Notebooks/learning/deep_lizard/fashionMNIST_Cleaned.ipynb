{
 "cells": [
  {
   "cell_type": "markdown",
   "id": "c86ef32d",
   "metadata": {},
   "source": [
    "In this notebook we will clean up the ideas that were presented throughout the pytorch course that focused on the creating a CNN that we \n",
    "trained on the Fashion MNIST dataset. Here we will consilidate the concepts of:\n",
    "\n",
    "1. ETL - Extract, Transform, Load\n",
    "2. Neural Network Construction using nn.Module\n",
    "3. Building clean, trackeable, and modifiable training loops\n",
    "4. Plotting a class Confusion Matrix"
   ]
  },
  {
   "cell_type": "code",
   "execution_count": 2,
   "metadata": {},
   "outputs": [],
   "source": [
    "import torch\n",
    "import torch.nn as nn\n",
    "import torch.optim as optim\n",
    "import torch.nn.functional as F\n",
    "import torchvision\n",
    "import torchvision.transforms as transforms\n",
    "\n",
    "from torch.utils.data import DataLoader\n",
    "from torch.utils.tensorboard import SummaryWriter\n",
    "from IPython.display import display, clear_output\n",
    "import pandas as pd\n",
    "import time\n",
    "import json\n",
    "\n",
    "from itertools import product\n",
    "from collections import namedtuple\n",
    "from collections import OrderedDict"
   ]
  },
  {
   "cell_type": "markdown",
   "metadata": {},
   "source": [
    "Lets start with constructing our classes, methods, and tools that we will use throughout the process: RunBuilder, RunManager, \n"
   ]
  }
 ],
 "metadata": {
  "interpreter": {
   "hash": "87c69a23efa0ee1d5c64982a8e9486c08d519e3aa99d691b2ceccc04345ec1d7"
  },
  "kernelspec": {
   "display_name": "Python 3.9.12 ('pytorch-fastai')",
   "language": "python",
   "name": "python3"
  },
  "language_info": {
   "codemirror_mode": {
    "name": "ipython",
    "version": 3
   },
   "file_extension": ".py",
   "mimetype": "text/x-python",
   "name": "python",
   "nbconvert_exporter": "python",
   "pygments_lexer": "ipython3",
   "version": "3.9.12"
  },
  "orig_nbformat": 4
 },
 "nbformat": 4,
 "nbformat_minor": 2
}
