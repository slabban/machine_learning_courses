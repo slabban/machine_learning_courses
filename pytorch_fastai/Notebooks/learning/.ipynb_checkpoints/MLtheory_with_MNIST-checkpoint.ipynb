{
 "cells": [
  {
   "cell_type": "code",
   "execution_count": 82,
   "id": "2225c0b8",
   "metadata": {},
   "outputs": [
    {
     "name": "stdout",
     "output_type": "stream",
     "text": [
      "Requirement already satisfied: nbdev in /home/slabban/anaconda3/envs/pytorch-fastai/lib/python3.9/site-packages (1.2.5)\n",
      "Requirement already satisfied: jupyter-client<8 in /home/slabban/anaconda3/envs/pytorch-fastai/lib/python3.9/site-packages (from nbdev) (7.1.2)\n",
      "Requirement already satisfied: packaging in /home/slabban/anaconda3/envs/pytorch-fastai/lib/python3.9/site-packages (from nbdev) (21.3)\n",
      "Requirement already satisfied: jupyter in /home/slabban/anaconda3/envs/pytorch-fastai/lib/python3.9/site-packages (from nbdev) (1.0.0)\n",
      "Requirement already satisfied: fastrelease in /home/slabban/anaconda3/envs/pytorch-fastai/lib/python3.9/site-packages (from nbdev) (0.1.15)\n",
      "Requirement already satisfied: ipykernel in /home/slabban/anaconda3/envs/pytorch-fastai/lib/python3.9/site-packages (from nbdev) (6.9.1)\n",
      "Requirement already satisfied: nbformat>=4.4.0 in /home/slabban/anaconda3/envs/pytorch-fastai/lib/python3.9/site-packages (from nbdev) (5.3.0)\n",
      "Requirement already satisfied: pyyaml in /home/slabban/anaconda3/envs/pytorch-fastai/lib/python3.9/site-packages (from nbdev) (6.0)\n",
      "Requirement already satisfied: Jinja2<3.1.0 in /home/slabban/anaconda3/envs/pytorch-fastai/lib/python3.9/site-packages (from nbdev) (3.0.3)\n",
      "Requirement already satisfied: pip in /home/slabban/anaconda3/envs/pytorch-fastai/lib/python3.9/site-packages (from nbdev) (21.2.4)\n",
      "Requirement already satisfied: ghapi in /home/slabban/anaconda3/envs/pytorch-fastai/lib/python3.9/site-packages (from nbdev) (0.1.20)\n",
      "Requirement already satisfied: nbconvert>=6.1 in /home/slabban/anaconda3/envs/pytorch-fastai/lib/python3.9/site-packages (from nbdev) (6.5.0)\n",
      "Requirement already satisfied: fastcore>=1.4.1 in /home/slabban/anaconda3/envs/pytorch-fastai/lib/python3.9/site-packages (from nbdev) (1.4.2)\n",
      "Requirement already satisfied: MarkupSafe>=2.0 in /home/slabban/anaconda3/envs/pytorch-fastai/lib/python3.9/site-packages (from Jinja2<3.1.0->nbdev) (2.1.1)\n",
      "Requirement already satisfied: nest-asyncio>=1.5 in /home/slabban/anaconda3/envs/pytorch-fastai/lib/python3.9/site-packages (from jupyter-client<8->nbdev) (1.5.5)\n",
      "Requirement already satisfied: traitlets in /home/slabban/anaconda3/envs/pytorch-fastai/lib/python3.9/site-packages (from jupyter-client<8->nbdev) (5.1.1)\n",
      "Requirement already satisfied: python-dateutil>=2.1 in /home/slabban/anaconda3/envs/pytorch-fastai/lib/python3.9/site-packages (from jupyter-client<8->nbdev) (2.8.2)\n",
      "Requirement already satisfied: entrypoints in /home/slabban/anaconda3/envs/pytorch-fastai/lib/python3.9/site-packages (from jupyter-client<8->nbdev) (0.3)\n",
      "Requirement already satisfied: pyzmq>=13 in /home/slabban/anaconda3/envs/pytorch-fastai/lib/python3.9/site-packages (from jupyter-client<8->nbdev) (22.3.0)\n",
      "Requirement already satisfied: tornado>=4.1 in /home/slabban/anaconda3/envs/pytorch-fastai/lib/python3.9/site-packages (from jupyter-client<8->nbdev) (6.1)\n",
      "Requirement already satisfied: jupyter-core>=4.6.0 in /home/slabban/anaconda3/envs/pytorch-fastai/lib/python3.9/site-packages (from jupyter-client<8->nbdev) (4.9.2)\n",
      "Requirement already satisfied: beautifulsoup4 in /home/slabban/anaconda3/envs/pytorch-fastai/lib/python3.9/site-packages (from nbconvert>=6.1->nbdev) (4.11.1)\n",
      "Requirement already satisfied: defusedxml in /home/slabban/anaconda3/envs/pytorch-fastai/lib/python3.9/site-packages (from nbconvert>=6.1->nbdev) (0.7.1)\n",
      "Requirement already satisfied: jupyterlab-pygments in /home/slabban/anaconda3/envs/pytorch-fastai/lib/python3.9/site-packages (from nbconvert>=6.1->nbdev) (0.2.2)\n",
      "Requirement already satisfied: nbclient>=0.5.0 in /home/slabban/anaconda3/envs/pytorch-fastai/lib/python3.9/site-packages (from nbconvert>=6.1->nbdev) (0.6.0)\n",
      "Requirement already satisfied: pygments>=2.4.1 in /home/slabban/anaconda3/envs/pytorch-fastai/lib/python3.9/site-packages (from nbconvert>=6.1->nbdev) (2.11.2)\n",
      "Requirement already satisfied: bleach in /home/slabban/anaconda3/envs/pytorch-fastai/lib/python3.9/site-packages (from nbconvert>=6.1->nbdev) (5.0.0)\n",
      "Requirement already satisfied: pandocfilters>=1.4.1 in /home/slabban/anaconda3/envs/pytorch-fastai/lib/python3.9/site-packages (from nbconvert>=6.1->nbdev) (1.5.0)\n",
      "Requirement already satisfied: tinycss2 in /home/slabban/anaconda3/envs/pytorch-fastai/lib/python3.9/site-packages (from nbconvert>=6.1->nbdev) (1.1.1)\n",
      "Requirement already satisfied: mistune<2,>=0.8.1 in /home/slabban/anaconda3/envs/pytorch-fastai/lib/python3.9/site-packages (from nbconvert>=6.1->nbdev) (0.8.4)\n",
      "Requirement already satisfied: jsonschema>=2.6 in /home/slabban/anaconda3/envs/pytorch-fastai/lib/python3.9/site-packages (from nbformat>=4.4.0->nbdev) (4.4.0)\n",
      "Requirement already satisfied: fastjsonschema in /home/slabban/anaconda3/envs/pytorch-fastai/lib/python3.9/site-packages (from nbformat>=4.4.0->nbdev) (2.15.3)\n",
      "Requirement already satisfied: attrs>=17.4.0 in /home/slabban/anaconda3/envs/pytorch-fastai/lib/python3.9/site-packages (from jsonschema>=2.6->nbformat>=4.4.0->nbdev) (21.4.0)\n",
      "Requirement already satisfied: pyrsistent!=0.17.0,!=0.17.1,!=0.17.2,>=0.14.0 in /home/slabban/anaconda3/envs/pytorch-fastai/lib/python3.9/site-packages (from jsonschema>=2.6->nbformat>=4.4.0->nbdev) (0.18.1)\n",
      "Requirement already satisfied: six>=1.5 in /home/slabban/anaconda3/envs/pytorch-fastai/lib/python3.9/site-packages (from python-dateutil>=2.1->jupyter-client<8->nbdev) (1.16.0)\n",
      "Requirement already satisfied: soupsieve>1.2 in /home/slabban/anaconda3/envs/pytorch-fastai/lib/python3.9/site-packages (from beautifulsoup4->nbconvert>=6.1->nbdev) (2.3.2.post1)\n",
      "Requirement already satisfied: webencodings in /home/slabban/anaconda3/envs/pytorch-fastai/lib/python3.9/site-packages (from bleach->nbconvert>=6.1->nbdev) (0.5.1)\n",
      "Requirement already satisfied: matplotlib-inline<0.2.0,>=0.1.0 in /home/slabban/anaconda3/envs/pytorch-fastai/lib/python3.9/site-packages (from ipykernel->nbdev) (0.1.2)\n",
      "Requirement already satisfied: ipython>=7.23.1 in /home/slabban/anaconda3/envs/pytorch-fastai/lib/python3.9/site-packages (from ipykernel->nbdev) (8.2.0)\n",
      "Requirement already satisfied: debugpy<2.0,>=1.0.0 in /home/slabban/anaconda3/envs/pytorch-fastai/lib/python3.9/site-packages (from ipykernel->nbdev) (1.5.1)\n",
      "Requirement already satisfied: prompt-toolkit!=3.0.0,!=3.0.1,<3.1.0,>=2.0.0 in /home/slabban/anaconda3/envs/pytorch-fastai/lib/python3.9/site-packages (from ipython>=7.23.1->ipykernel->nbdev) (3.0.20)\n",
      "Requirement already satisfied: pickleshare in /home/slabban/anaconda3/envs/pytorch-fastai/lib/python3.9/site-packages (from ipython>=7.23.1->ipykernel->nbdev) (0.7.5)\n",
      "Requirement already satisfied: backcall in /home/slabban/anaconda3/envs/pytorch-fastai/lib/python3.9/site-packages (from ipython>=7.23.1->ipykernel->nbdev) (0.2.0)\n",
      "Requirement already satisfied: setuptools>=18.5 in /home/slabban/anaconda3/envs/pytorch-fastai/lib/python3.9/site-packages (from ipython>=7.23.1->ipykernel->nbdev) (61.2.0)\n",
      "Requirement already satisfied: jedi>=0.16 in /home/slabban/anaconda3/envs/pytorch-fastai/lib/python3.9/site-packages (from ipython>=7.23.1->ipykernel->nbdev) (0.18.1)\n",
      "Requirement already satisfied: pexpect>4.3 in /home/slabban/anaconda3/envs/pytorch-fastai/lib/python3.9/site-packages (from ipython>=7.23.1->ipykernel->nbdev) (4.8.0)\n",
      "Requirement already satisfied: stack-data in /home/slabban/anaconda3/envs/pytorch-fastai/lib/python3.9/site-packages (from ipython>=7.23.1->ipykernel->nbdev) (0.2.0)\n",
      "Requirement already satisfied: decorator in /home/slabban/anaconda3/envs/pytorch-fastai/lib/python3.9/site-packages (from ipython>=7.23.1->ipykernel->nbdev) (5.1.1)\n",
      "Requirement already satisfied: parso<0.9.0,>=0.8.0 in /home/slabban/anaconda3/envs/pytorch-fastai/lib/python3.9/site-packages (from jedi>=0.16->ipython>=7.23.1->ipykernel->nbdev) (0.8.3)\n",
      "Requirement already satisfied: ptyprocess>=0.5 in /home/slabban/anaconda3/envs/pytorch-fastai/lib/python3.9/site-packages (from pexpect>4.3->ipython>=7.23.1->ipykernel->nbdev) (0.7.0)\n",
      "Requirement already satisfied: wcwidth in /home/slabban/anaconda3/envs/pytorch-fastai/lib/python3.9/site-packages (from prompt-toolkit!=3.0.0,!=3.0.1,<3.1.0,>=2.0.0->ipython>=7.23.1->ipykernel->nbdev) (0.2.5)\n",
      "Requirement already satisfied: notebook in /home/slabban/anaconda3/envs/pytorch-fastai/lib/python3.9/site-packages (from jupyter->nbdev) (6.4.10)\n",
      "Requirement already satisfied: jupyter-console in /home/slabban/anaconda3/envs/pytorch-fastai/lib/python3.9/site-packages (from jupyter->nbdev) (6.4.3)\n",
      "Requirement already satisfied: qtconsole in /home/slabban/anaconda3/envs/pytorch-fastai/lib/python3.9/site-packages (from jupyter->nbdev) (5.3.0)\n",
      "Requirement already satisfied: ipywidgets in /home/slabban/anaconda3/envs/pytorch-fastai/lib/python3.9/site-packages (from jupyter->nbdev) (7.7.0)\n",
      "Requirement already satisfied: ipython-genutils~=0.2.0 in /home/slabban/anaconda3/envs/pytorch-fastai/lib/python3.9/site-packages (from ipywidgets->jupyter->nbdev) (0.2.0)\n",
      "Requirement already satisfied: jupyterlab-widgets>=1.0.0 in /home/slabban/anaconda3/envs/pytorch-fastai/lib/python3.9/site-packages (from ipywidgets->jupyter->nbdev) (1.1.0)\n",
      "Requirement already satisfied: widgetsnbextension~=3.6.0 in /home/slabban/anaconda3/envs/pytorch-fastai/lib/python3.9/site-packages (from ipywidgets->jupyter->nbdev) (3.6.0)\n",
      "Requirement already satisfied: Send2Trash>=1.8.0 in /home/slabban/anaconda3/envs/pytorch-fastai/lib/python3.9/site-packages (from notebook->jupyter->nbdev) (1.8.0)\n",
      "Requirement already satisfied: terminado>=0.8.3 in /home/slabban/anaconda3/envs/pytorch-fastai/lib/python3.9/site-packages (from notebook->jupyter->nbdev) (0.13.3)\n",
      "Requirement already satisfied: argon2-cffi in /home/slabban/anaconda3/envs/pytorch-fastai/lib/python3.9/site-packages (from notebook->jupyter->nbdev) (21.3.0)\n",
      "Requirement already satisfied: prometheus-client in /home/slabban/anaconda3/envs/pytorch-fastai/lib/python3.9/site-packages (from notebook->jupyter->nbdev) (0.14.1)\n"
     ]
    },
    {
     "name": "stdout",
     "output_type": "stream",
     "text": [
      "Requirement already satisfied: argon2-cffi-bindings in /home/slabban/anaconda3/envs/pytorch-fastai/lib/python3.9/site-packages (from argon2-cffi->notebook->jupyter->nbdev) (21.2.0)\n",
      "Requirement already satisfied: cffi>=1.0.1 in /home/slabban/anaconda3/envs/pytorch-fastai/lib/python3.9/site-packages (from argon2-cffi-bindings->argon2-cffi->notebook->jupyter->nbdev) (1.15.0)\n",
      "Requirement already satisfied: pycparser in /home/slabban/anaconda3/envs/pytorch-fastai/lib/python3.9/site-packages (from cffi>=1.0.1->argon2-cffi-bindings->argon2-cffi->notebook->jupyter->nbdev) (2.21)\n",
      "Requirement already satisfied: pyparsing!=3.0.5,>=2.0.2 in /home/slabban/anaconda3/envs/pytorch-fastai/lib/python3.9/site-packages (from packaging->nbdev) (3.0.8)\n",
      "Requirement already satisfied: qtpy>=2.0.1 in /home/slabban/anaconda3/envs/pytorch-fastai/lib/python3.9/site-packages (from qtconsole->jupyter->nbdev) (2.0.1)\n",
      "Requirement already satisfied: executing in /home/slabban/anaconda3/envs/pytorch-fastai/lib/python3.9/site-packages (from stack-data->ipython>=7.23.1->ipykernel->nbdev) (0.8.3)\n",
      "Requirement already satisfied: asttokens in /home/slabban/anaconda3/envs/pytorch-fastai/lib/python3.9/site-packages (from stack-data->ipython>=7.23.1->ipykernel->nbdev) (2.0.5)\n",
      "Requirement already satisfied: pure-eval in /home/slabban/anaconda3/envs/pytorch-fastai/lib/python3.9/site-packages (from stack-data->ipython>=7.23.1->ipykernel->nbdev) (0.2.2)\n"
     ]
    }
   ],
   "source": [
    "!pip install -Uqq fastbook\n",
    "import fastbook\n",
    "fastbook.setup_book()\n",
    "!pip install nbdev"
   ]
  },
  {
   "cell_type": "code",
   "execution_count": 83,
   "id": "a4384ba4",
   "metadata": {},
   "outputs": [],
   "source": [
    "from fastai.vision.all import *\n",
    "from fastbook import *\n",
    "\n",
    "matplotlib.rc('image', cmap='Greys')"
   ]
  },
  {
   "cell_type": "code",
   "execution_count": 84,
   "id": "4d1c7bd7",
   "metadata": {},
   "outputs": [],
   "source": [
    "path = untar_data(URLs.MNIST_SAMPLE)"
   ]
  },
  {
   "cell_type": "code",
   "execution_count": 85,
   "id": "075c81de",
   "metadata": {},
   "outputs": [],
   "source": [
    "Path.BASE_PATH = path"
   ]
  },
  {
   "cell_type": "code",
   "execution_count": 86,
   "id": "b4fed058",
   "metadata": {},
   "outputs": [
    {
     "data": {
      "text/plain": [
       "(#3) [Path('train'),Path('valid'),Path('labels.csv')]"
      ]
     },
     "execution_count": 86,
     "metadata": {},
     "output_type": "execute_result"
    }
   ],
   "source": [
    "path.ls()"
   ]
  },
  {
   "cell_type": "code",
   "execution_count": 87,
   "id": "ee83f0bb",
   "metadata": {},
   "outputs": [
    {
     "data": {
      "text/plain": [
       "(#2) [Path('train/3'),Path('train/7')]"
      ]
     },
     "execution_count": 87,
     "metadata": {},
     "output_type": "execute_result"
    }
   ],
   "source": [
    "(path/'train').ls()"
   ]
  },
  {
   "cell_type": "code",
   "execution_count": 88,
   "id": "02a56423",
   "metadata": {},
   "outputs": [],
   "source": [
    "threes = (path/'train'/'3').ls().sorted()"
   ]
  },
  {
   "cell_type": "code",
   "execution_count": 89,
   "id": "d15c9a8c",
   "metadata": {},
   "outputs": [],
   "source": [
    "sevens = (path/'train'/'7').ls().sorted()"
   ]
  },
  {
   "cell_type": "code",
   "execution_count": 90,
   "id": "ff57d7b0",
   "metadata": {},
   "outputs": [
    {
     "data": {
      "text/plain": [
       "Path('train/3/10.png')"
      ]
     },
     "execution_count": 90,
     "metadata": {},
     "output_type": "execute_result"
    }
   ],
   "source": [
    "threes[0]"
   ]
  },
  {
   "cell_type": "code",
   "execution_count": 91,
   "id": "eb06bf14",
   "metadata": {},
   "outputs": [],
   "source": [
    "doc(threes[0])"
   ]
  },
  {
   "cell_type": "code",
   "execution_count": 92,
   "id": "e24e1108",
   "metadata": {},
   "outputs": [],
   "source": [
    "im3 = Image.open(threes[0])"
   ]
  },
  {
   "cell_type": "code",
   "execution_count": 93,
   "id": "989c05cf",
   "metadata": {},
   "outputs": [
    {
     "data": {
      "text/plain": [
       "pathlib.PosixPath"
      ]
     },
     "execution_count": 93,
     "metadata": {},
     "output_type": "execute_result"
    }
   ],
   "source": [
    "type(threes[0])"
   ]
  },
  {
   "cell_type": "code",
   "execution_count": 94,
   "id": "198e0d1e",
   "metadata": {},
   "outputs": [
    {
     "data": {
      "text/plain": [
       "array([[  0,   0,   0,   0,   0,   0,   0,   0,   0,   0,   0,   0,   0,   0,   0,   0,   0,   0,   0,   0,   0,   0,   0,   0,   0,   0,   0,   0],\n",
       "       [  0,   0,   0,   0,   0,   0,   0,   0,   0,   0,   0,   0,   0,   0,   0,   0,   0,   0,   0,   0,   0,   0,   0,   0,   0,   0,   0,   0],\n",
       "       [  0,   0,   0,   0,   0,   0,   0,   0,   0,   0,   0,   0,   0,   0,   0,   0,   0,   0,   0,   0,   0,   0,   0,   0,   0,   0,   0,   0],\n",
       "       [  0,   0,   0,   0,   0,   0,   0,   0,   0,   0,   0,   0,   0,   0,   0,   0,   0,   0,   0,   0,   0,   0,   0,   0,   0,   0,   0,   0],\n",
       "       [  0,   0,   0,   0,   0,   0,   0,   0,   0,   0,   0,  42, 118, 219, 166, 118, 118,   6,   0,   0,   0,   0,   0,   0,   0,   0,   0,   0],\n",
       "       [  0,   0,   0,   0,   0,   0,   0,   0,   0,   0, 103, 242, 254, 254, 254, 254, 254,  66,   0,   0,   0,   0,   0,   0,   0,   0,   0,   0],\n",
       "       [  0,   0,   0,   0,   0,   0,   0,   0,   0,   0,  18, 232, 254, 254, 254, 254, 254, 238,  70,   0,   0,   0,   0,   0,   0,   0,   0,   0],\n",
       "       [  0,   0,   0,   0,   0,   0,   0,   0,   0,   0,   0, 104, 244, 254, 224, 254, 254, 254, 141,   0,   0,   0,   0,   0,   0,   0,   0,   0],\n",
       "       [  0,   0,   0,   0,   0,   0,   0,   0,   0,   0,   0,   0, 207, 254, 210, 254, 254, 254,  34,   0,   0,   0,   0,   0,   0,   0,   0,   0],\n",
       "       [  0,   0,   0,   0,   0,   0,   0,   0,   0,   0,   0,   0,  84, 206, 254, 254, 254, 254,  41,   0,   0,   0,   0,   0,   0,   0,   0,   0],\n",
       "       [  0,   0,   0,   0,   0,   0,   0,   0,   0,   0,   0,   0,   0,  24, 209, 254, 254, 254, 171,   0,   0,   0,   0,   0,   0,   0,   0,   0],\n",
       "       [  0,   0,   0,   0,   0,   0,   0,   0,   0,   0,   0,   0,  91, 137, 253, 254, 254, 254, 112,   0,   0,   0,   0,   0,   0,   0,   0,   0],\n",
       "       [  0,   0,   0,   0,   0,   0,   0,   0,   0,   0,  40, 214, 250, 254, 254, 254, 254, 254,  34,   0,   0,   0,   0,   0,   0,   0,   0,   0],\n",
       "       [  0,   0,   0,   0,   0,   0,   0,   0,   0,   0,  81, 247, 254, 254, 254, 254, 254, 254, 146,   0,   0,   0,   0,   0,   0,   0,   0,   0],\n",
       "       [  0,   0,   0,   0,   0,   0,   0,   0,   0,   0,   0, 110, 246, 254, 254, 254, 254, 254, 171,   0,   0,   0,   0,   0,   0,   0,   0,   0],\n",
       "       [  0,   0,   0,   0,   0,   0,   0,   0,   0,   0,   0,   0,  73,  89,  89,  93, 240, 254, 171,   0,   0,   0,   0,   0,   0,   0,   0,   0],\n",
       "       [  0,   0,   0,   0,   0,   0,   0,   0,   0,   0,   0,   0,   0,   0,   0,   1, 128, 254, 219,  31,   0,   0,   0,   0,   0,   0,   0,   0],\n",
       "       [  0,   0,   0,   0,   0,   0,   0,   0,   0,   0,   0,   0,   0,   0,   0,   7, 254, 254, 214,  28,   0,   0,   0,   0,   0,   0,   0,   0],\n",
       "       [  0,   0,   0,   0,   0,   0,   0,   0,   0,   0,   0,   0,   0,   0,   0, 138, 254, 254, 116,   0,   0,   0,   0,   0,   0,   0,   0,   0],\n",
       "       [  0,   0,   0,   0,   0,   0,  19, 177,  90,   0,   0,   0,   0,   0,  25, 240, 254, 254,  34,   0,   0,   0,   0,   0,   0,   0,   0,   0],\n",
       "       [  0,   0,   0,   0,   0,   0, 164, 254, 215,  63,  36,   0,  51,  89, 206, 254, 254, 139,   8,   0,   0,   0,   0,   0,   0,   0,   0,   0],\n",
       "       [  0,   0,   0,   0,   0,   0,  57, 197, 254, 254, 222, 180, 241, 254, 254, 253, 213,  11,   0,   0,   0,   0,   0,   0,   0,   0,   0,   0],\n",
       "       [  0,   0,   0,   0,   0,   0,   0, 140, 105, 254, 254, 254, 254, 254, 254, 236,   0,   0,   0,   0,   0,   0,   0,   0,   0,   0,   0,   0],\n",
       "       [  0,   0,   0,   0,   0,   0,   0,   0,   7, 117, 117, 165, 254, 254, 239,  50,   0,   0,   0,   0,   0,   0,   0,   0,   0,   0,   0,   0],\n",
       "       [  0,   0,   0,   0,   0,   0,   0,   0,   0,   0,   0,   0,   0,   0,   0,   0,   0,   0,   0,   0,   0,   0,   0,   0,   0,   0,   0,   0],\n",
       "       [  0,   0,   0,   0,   0,   0,   0,   0,   0,   0,   0,   0,   0,   0,   0,   0,   0,   0,   0,   0,   0,   0,   0,   0,   0,   0,   0,   0],\n",
       "       [  0,   0,   0,   0,   0,   0,   0,   0,   0,   0,   0,   0,   0,   0,   0,   0,   0,   0,   0,   0,   0,   0,   0,   0,   0,   0,   0,   0],\n",
       "       [  0,   0,   0,   0,   0,   0,   0,   0,   0,   0,   0,   0,   0,   0,   0,   0,   0,   0,   0,   0,   0,   0,   0,   0,   0,   0,   0,   0]], dtype=uint8)"
      ]
     },
     "execution_count": 94,
     "metadata": {},
     "output_type": "execute_result"
    }
   ],
   "source": [
    "array(im3)"
   ]
  },
  {
   "cell_type": "code",
   "execution_count": 95,
   "id": "5a45246f",
   "metadata": {},
   "outputs": [
    {
     "data": {
      "text/plain": [
       "tensor([[  0,   0,   0,   0,   0,   0,   0,   0,   0,   0,   0,   0,   0,   0,   0,   0,   0,   0,   0,   0,   0,   0,   0,   0,   0,   0,   0,   0],\n",
       "        [  0,   0,   0,   0,   0,   0,   0,   0,   0,   0,   0,   0,   0,   0,   0,   0,   0,   0,   0,   0,   0,   0,   0,   0,   0,   0,   0,   0],\n",
       "        [  0,   0,   0,   0,   0,   0,   0,   0,   0,   0,   0,   0,   0,   0,   0,   0,   0,   0,   0,   0,   0,   0,   0,   0,   0,   0,   0,   0],\n",
       "        [  0,   0,   0,   0,   0,   0,   0,   0,   0,   0,   0,   0,   0,   0,   0,   0,   0,   0,   0,   0,   0,   0,   0,   0,   0,   0,   0,   0],\n",
       "        [  0,   0,   0,   0,   0,   0,   0,   0,   0,   0,   0,  42, 118, 219, 166, 118, 118,   6,   0,   0,   0,   0,   0,   0,   0,   0,   0,   0],\n",
       "        [  0,   0,   0,   0,   0,   0,   0,   0,   0,   0, 103, 242, 254, 254, 254, 254, 254,  66,   0,   0,   0,   0,   0,   0,   0,   0,   0,   0],\n",
       "        [  0,   0,   0,   0,   0,   0,   0,   0,   0,   0,  18, 232, 254, 254, 254, 254, 254, 238,  70,   0,   0,   0,   0,   0,   0,   0,   0,   0],\n",
       "        [  0,   0,   0,   0,   0,   0,   0,   0,   0,   0,   0, 104, 244, 254, 224, 254, 254, 254, 141,   0,   0,   0,   0,   0,   0,   0,   0,   0],\n",
       "        [  0,   0,   0,   0,   0,   0,   0,   0,   0,   0,   0,   0, 207, 254, 210, 254, 254, 254,  34,   0,   0,   0,   0,   0,   0,   0,   0,   0],\n",
       "        [  0,   0,   0,   0,   0,   0,   0,   0,   0,   0,   0,   0,  84, 206, 254, 254, 254, 254,  41,   0,   0,   0,   0,   0,   0,   0,   0,   0],\n",
       "        [  0,   0,   0,   0,   0,   0,   0,   0,   0,   0,   0,   0,   0,  24, 209, 254, 254, 254, 171,   0,   0,   0,   0,   0,   0,   0,   0,   0],\n",
       "        [  0,   0,   0,   0,   0,   0,   0,   0,   0,   0,   0,   0,  91, 137, 253, 254, 254, 254, 112,   0,   0,   0,   0,   0,   0,   0,   0,   0],\n",
       "        [  0,   0,   0,   0,   0,   0,   0,   0,   0,   0,  40, 214, 250, 254, 254, 254, 254, 254,  34,   0,   0,   0,   0,   0,   0,   0,   0,   0],\n",
       "        [  0,   0,   0,   0,   0,   0,   0,   0,   0,   0,  81, 247, 254, 254, 254, 254, 254, 254, 146,   0,   0,   0,   0,   0,   0,   0,   0,   0],\n",
       "        [  0,   0,   0,   0,   0,   0,   0,   0,   0,   0,   0, 110, 246, 254, 254, 254, 254, 254, 171,   0,   0,   0,   0,   0,   0,   0,   0,   0],\n",
       "        [  0,   0,   0,   0,   0,   0,   0,   0,   0,   0,   0,   0,  73,  89,  89,  93, 240, 254, 171,   0,   0,   0,   0,   0,   0,   0,   0,   0],\n",
       "        [  0,   0,   0,   0,   0,   0,   0,   0,   0,   0,   0,   0,   0,   0,   0,   1, 128, 254, 219,  31,   0,   0,   0,   0,   0,   0,   0,   0],\n",
       "        [  0,   0,   0,   0,   0,   0,   0,   0,   0,   0,   0,   0,   0,   0,   0,   7, 254, 254, 214,  28,   0,   0,   0,   0,   0,   0,   0,   0],\n",
       "        [  0,   0,   0,   0,   0,   0,   0,   0,   0,   0,   0,   0,   0,   0,   0, 138, 254, 254, 116,   0,   0,   0,   0,   0,   0,   0,   0,   0],\n",
       "        [  0,   0,   0,   0,   0,   0,  19, 177,  90,   0,   0,   0,   0,   0,  25, 240, 254, 254,  34,   0,   0,   0,   0,   0,   0,   0,   0,   0],\n",
       "        [  0,   0,   0,   0,   0,   0, 164, 254, 215,  63,  36,   0,  51,  89, 206, 254, 254, 139,   8,   0,   0,   0,   0,   0,   0,   0,   0,   0],\n",
       "        [  0,   0,   0,   0,   0,   0,  57, 197, 254, 254, 222, 180, 241, 254, 254, 253, 213,  11,   0,   0,   0,   0,   0,   0,   0,   0,   0,   0],\n",
       "        [  0,   0,   0,   0,   0,   0,   0, 140, 105, 254, 254, 254, 254, 254, 254, 236,   0,   0,   0,   0,   0,   0,   0,   0,   0,   0,   0,   0],\n",
       "        [  0,   0,   0,   0,   0,   0,   0,   0,   7, 117, 117, 165, 254, 254, 239,  50,   0,   0,   0,   0,   0,   0,   0,   0,   0,   0,   0,   0],\n",
       "        [  0,   0,   0,   0,   0,   0,   0,   0,   0,   0,   0,   0,   0,   0,   0,   0,   0,   0,   0,   0,   0,   0,   0,   0,   0,   0,   0,   0],\n",
       "        [  0,   0,   0,   0,   0,   0,   0,   0,   0,   0,   0,   0,   0,   0,   0,   0,   0,   0,   0,   0,   0,   0,   0,   0,   0,   0,   0,   0],\n",
       "        [  0,   0,   0,   0,   0,   0,   0,   0,   0,   0,   0,   0,   0,   0,   0,   0,   0,   0,   0,   0,   0,   0,   0,   0,   0,   0,   0,   0],\n",
       "        [  0,   0,   0,   0,   0,   0,   0,   0,   0,   0,   0,   0,   0,   0,   0,   0,   0,   0,   0,   0,   0,   0,   0,   0,   0,   0,   0,   0]], dtype=torch.uint8)"
      ]
     },
     "execution_count": 95,
     "metadata": {},
     "output_type": "execute_result"
    }
   ],
   "source": [
    "tensor(im3)"
   ]
  },
  {
   "cell_type": "code",
   "execution_count": 96,
   "id": "07466175",
   "metadata": {},
   "outputs": [
    {
     "data": {
      "image/png": "[encoded data removed]",
      "text/plain": [
       "<PIL.PngImagePlugin.PngImageFile image mode=L size=28x28 at 0x7EFB59848A90>"
      ]
     },
     "execution_count": 96,
     "metadata": {},
     "output_type": "execute_result"
    }
   ],
   "source": [
    "im3"
   ]
  },
  {
   "cell_type": "code",
   "execution_count": 97,
   "id": "503b701b",
   "metadata": {},
   "outputs": [],
   "source": [
    "im3Tensor = tensor(im3)"
   ]
  },
  {
   "cell_type": "code",
   "execution_count": 98,
   "id": "12ae377c",
   "metadata": {},
   "outputs": [
    {
     "data": {
      "text/plain": [
       "torch.Size([28, 28])"
      ]
     },
     "execution_count": 98,
     "metadata": {},
     "output_type": "execute_result"
    }
   ],
   "source": [
    "im3Tensor.shape"
   ]
  },
  {
   "cell_type": "code",
   "execution_count": 99,
   "id": "db5fcb83",
   "metadata": {},
   "outputs": [
    {
     "data": {
      "text/html": [
       "<style type=\"text/css\">\n",
       "#T_19996_row0_col0, #T_19996_row0_col1, #T_19996_row0_col2, #T_19996_row0_col3, #T_19996_row0_col4, #T_19996_row0_col5, #T_19996_row0_col6, #T_19996_row0_col7, #T_19996_row0_col8, #T_19996_row0_col9, #T_19996_row0_col10, #T_19996_row0_col11, #T_19996_row0_col12, #T_19996_row0_col13, #T_19996_row0_col14, #T_19996_row0_col15, #T_19996_row0_col16, #T_19996_row0_col17, #T_19996_row0_col18, #T_19996_row0_col19, #T_19996_row0_col20, #T_19996_row0_col21, #T_19996_row0_col22, #T_19996_row0_col23, #T_19996_row0_col24, #T_19996_row0_col25, #T_19996_row0_col26, #T_19996_row0_col27, #T_19996_row1_col0, #T_19996_row1_col1, #T_19996_row1_col2, #T_19996_row1_col3, #T_19996_row1_col4, #T_19996_row1_col5, #T_19996_row1_col6, #T_19996_row1_col7, #T_19996_row1_col8, #T_19996_row1_col9, #T_19996_row1_col10, #T_19996_row1_col11, #T_19996_row1_col12, #T_19996_row1_col13, #T_19996_row1_col14, #T_19996_row1_col15, #T_19996_row1_col16, #T_19996_row1_col17, #T_19996_row1_col18, #T_19996_row1_col19, #T_19996_row1_col20, #T_19996_row1_col21, #T_19996_row1_col22, #T_19996_row1_col23, #T_19996_row1_col24, #T_19996_row1_col25, #T_19996_row1_col26, #T_19996_row1_col27, #T_19996_row2_col0, #T_19996_row2_col1, #T_19996_row2_col2, #T_19996_row2_col3, #T_19996_row2_col4, #T_19996_row2_col5, #T_19996_row2_col6, #T_19996_row2_col7, #T_19996_row2_col8, #T_19996_row2_col9, #T_19996_row2_col10, #T_19996_row2_col11, #T_19996_row2_col12, #T_19996_row2_col13, #T_19996_row2_col14, #T_19996_row2_col15, #T_19996_row2_col16, #T_19996_row2_col17, #T_19996_row2_col18, #T_19996_row2_col19, #T_19996_row2_col20, #T_19996_row2_col21, #T_19996_row2_col22, #T_19996_row2_col23, #T_19996_row2_col24, #T_19996_row2_col25, #T_19996_row2_col26, #T_19996_row2_col27, #T_19996_row3_col0, #T_19996_row3_col1, #T_19996_row3_col2, #T_19996_row3_col3, #T_19996_row3_col4, #T_19996_row3_col5, #T_19996_row3_col6, #T_19996_row3_col7, #T_19996_row3_col8, #T_19996_row3_col9, #T_19996_row3_col10, #T_19996_row3_col11, #T_19996_row3_col12, #T_19996_row3_col13, #T_19996_row3_col14, #T_19996_row3_col15, #T_19996_row3_col16, #T_19996_row3_col17, #T_19996_row3_col18, #T_19996_row3_col19, #T_19996_row3_col20, #T_19996_row3_col21, #T_19996_row3_col22, #T_19996_row3_col23, #T_19996_row3_col24, #T_19996_row3_col25, #T_19996_row3_col26, #T_19996_row3_col27, #T_19996_row4_col0, #T_19996_row4_col1, #T_19996_row4_col2, #T_19996_row4_col3, #T_19996_row4_col4, #T_19996_row4_col5, #T_19996_row4_col6, #T_19996_row4_col7, #T_19996_row4_col8, #T_19996_row4_col9, #T_19996_row4_col10, #T_19996_row4_col18, #T_19996_row4_col19, #T_19996_row4_col20, #T_19996_row4_col21, #T_19996_row4_col22, #T_19996_row4_col23, #T_19996_row4_col24, #T_19996_row4_col25, #T_19996_row4_col26, #T_19996_row4_col27, #T_19996_row5_col0, #T_19996_row5_col1, #T_19996_row5_col2, #T_19996_row5_col3, #T_19996_row5_col4, #T_19996_row5_col5, #T_19996_row5_col6, #T_19996_row5_col7, #T_19996_row5_col8, #T_19996_row5_col9, #T_19996_row5_col18, #T_19996_row5_col19, #T_19996_row5_col20, #T_19996_row5_col21, #T_19996_row5_col22, #T_19996_row5_col23, #T_19996_row5_col24, #T_19996_row5_col25, #T_19996_row5_col26, #T_19996_row5_col27, #T_19996_row6_col0, #T_19996_row6_col1, #T_19996_row6_col2, #T_19996_row6_col3, #T_19996_row6_col4, #T_19996_row6_col5, #T_19996_row6_col6, #T_19996_row6_col7, #T_19996_row6_col8, #T_19996_row6_col9, #T_19996_row6_col19, #T_19996_row6_col20, #T_19996_row6_col21, #T_19996_row6_col22, #T_19996_row6_col23, #T_19996_row6_col24, #T_19996_row6_col25, #T_19996_row6_col26, #T_19996_row6_col27, #T_19996_row7_col0, #T_19996_row7_col1, #T_19996_row7_col2, #T_19996_row7_col3, #T_19996_row7_col4, #T_19996_row7_col5, #T_19996_row7_col6, #T_19996_row7_col7, #T_19996_row7_col8, #T_19996_row7_col9, #T_19996_row7_col10, #T_19996_row7_col19, #T_19996_row7_col20, #T_19996_row7_col21, #T_19996_row7_col22, #T_19996_row7_col23, #T_19996_row7_col24, #T_19996_row7_col25, #T_19996_row7_col26, #T_19996_row7_col27, #T_19996_row8_col0, #T_19996_row8_col1, #T_19996_row8_col2, #T_19996_row8_col3, #T_19996_row8_col4, #T_19996_row8_col5, #T_19996_row8_col6, #T_19996_row8_col7, #T_19996_row8_col8, #T_19996_row8_col9, #T_19996_row8_col10, #T_19996_row8_col11, #T_19996_row8_col19, #T_19996_row8_col20, #T_19996_row8_col21, #T_19996_row8_col22, #T_19996_row8_col23, #T_19996_row8_col24, #T_19996_row8_col25, #T_19996_row8_col26, #T_19996_row8_col27, #T_19996_row9_col0, #T_19996_row9_col1, #T_19996_row9_col2, #T_19996_row9_col3, #T_19996_row9_col4, #T_19996_row9_col5, #T_19996_row9_col6, #T_19996_row9_col7, #T_19996_row9_col8, #T_19996_row9_col9, #T_19996_row9_col10, #T_19996_row9_col11, #T_19996_row9_col19, #T_19996_row9_col20, #T_19996_row9_col21, #T_19996_row9_col22, #T_19996_row9_col23, #T_19996_row9_col24, #T_19996_row9_col25, #T_19996_row9_col26, #T_19996_row9_col27, #T_19996_row10_col0, #T_19996_row10_col1, #T_19996_row10_col2, #T_19996_row10_col3, #T_19996_row10_col4, #T_19996_row10_col5, #T_19996_row10_col6, #T_19996_row10_col7, #T_19996_row10_col8, #T_19996_row10_col9, #T_19996_row10_col10, #T_19996_row10_col11, #T_19996_row10_col12, #T_19996_row10_col19, #T_19996_row10_col20, #T_19996_row10_col21, #T_19996_row10_col22, #T_19996_row10_col23, #T_19996_row10_col24, #T_19996_row10_col25, #T_19996_row10_col26, #T_19996_row10_col27, #T_19996_row11_col0, #T_19996_row11_col1, #T_19996_row11_col2, #T_19996_row11_col3, #T_19996_row11_col4, #T_19996_row11_col5, #T_19996_row11_col6, #T_19996_row11_col7, #T_19996_row11_col8, #T_19996_row11_col9, #T_19996_row11_col10, #T_19996_row11_col11, #T_19996_row11_col19, #T_19996_row11_col20, #T_19996_row11_col21, #T_19996_row11_col22, #T_19996_row11_col23, #T_19996_row11_col24, #T_19996_row11_col25, #T_19996_row11_col26, #T_19996_row11_col27, #T_19996_row12_col0, #T_19996_row12_col1, #T_19996_row12_col2, #T_19996_row12_col3, #T_19996_row12_col4, #T_19996_row12_col5, #T_19996_row12_col6, #T_19996_row12_col7, #T_19996_row12_col8, #T_19996_row12_col9, #T_19996_row12_col19, #T_19996_row12_col20, #T_19996_row12_col21, #T_19996_row12_col22, #T_19996_row12_col23, #T_19996_row12_col24, #T_19996_row12_col25, #T_19996_row12_col26, #T_19996_row12_col27, #T_19996_row13_col0, #T_19996_row13_col1, #T_19996_row13_col2, #T_19996_row13_col3, #T_19996_row13_col4, #T_19996_row13_col5, #T_19996_row13_col6, #T_19996_row13_col7, #T_19996_row13_col8, #T_19996_row13_col9, #T_19996_row13_col19, #T_19996_row13_col20, #T_19996_row13_col21, #T_19996_row13_col22, #T_19996_row13_col23, #T_19996_row13_col24, #T_19996_row13_col25, #T_19996_row13_col26, #T_19996_row13_col27, #T_19996_row14_col0, #T_19996_row14_col1, #T_19996_row14_col2, #T_19996_row14_col3, #T_19996_row14_col4, #T_19996_row14_col5, #T_19996_row14_col6, #T_19996_row14_col7, #T_19996_row14_col8, #T_19996_row14_col9, #T_19996_row14_col10, #T_19996_row14_col19, #T_19996_row14_col20, #T_19996_row14_col21, #T_19996_row14_col22, #T_19996_row14_col23, #T_19996_row14_col24, #T_19996_row14_col25, #T_19996_row14_col26, #T_19996_row14_col27, #T_19996_row15_col0, #T_19996_row15_col1, #T_19996_row15_col2, #T_19996_row15_col3, #T_19996_row15_col4, #T_19996_row15_col5, #T_19996_row15_col6, #T_19996_row15_col7, #T_19996_row15_col8, #T_19996_row15_col9, #T_19996_row15_col10, #T_19996_row15_col11, #T_19996_row15_col19, #T_19996_row15_col20, #T_19996_row15_col21, #T_19996_row15_col22, #T_19996_row15_col23, #T_19996_row15_col24, #T_19996_row15_col25, #T_19996_row15_col26, #T_19996_row15_col27, #T_19996_row16_col0, #T_19996_row16_col1, #T_19996_row16_col2, #T_19996_row16_col3, #T_19996_row16_col4, #T_19996_row16_col5, #T_19996_row16_col6, #T_19996_row16_col7, #T_19996_row16_col8, #T_19996_row16_col9, #T_19996_row16_col10, #T_19996_row16_col11, #T_19996_row16_col12, #T_19996_row16_col13, #T_19996_row16_col14, #T_19996_row16_col15, #T_19996_row16_col20, #T_19996_row16_col21, #T_19996_row16_col22, #T_19996_row16_col23, #T_19996_row16_col24, #T_19996_row16_col25, #T_19996_row16_col26, #T_19996_row16_col27, #T_19996_row17_col0, #T_19996_row17_col1, #T_19996_row17_col2, #T_19996_row17_col3, #T_19996_row17_col4, #T_19996_row17_col5, #T_19996_row17_col6, #T_19996_row17_col7, #T_19996_row17_col8, #T_19996_row17_col9, #T_19996_row17_col10, #T_19996_row17_col11, #T_19996_row17_col12, #T_19996_row17_col13, #T_19996_row17_col14, #T_19996_row17_col20, #T_19996_row17_col21, #T_19996_row17_col22, #T_19996_row17_col23, #T_19996_row17_col24, #T_19996_row17_col25, #T_19996_row17_col26, #T_19996_row17_col27, #T_19996_row18_col0, #T_19996_row18_col1, #T_19996_row18_col2, #T_19996_row18_col3, #T_19996_row18_col4, #T_19996_row18_col5, #T_19996_row18_col6, #T_19996_row18_col7, #T_19996_row18_col8, #T_19996_row18_col9, #T_19996_row18_col10, #T_19996_row18_col11, #T_19996_row18_col12, #T_19996_row18_col13, #T_19996_row18_col14, #T_19996_row18_col19, #T_19996_row18_col20, #T_19996_row18_col21, #T_19996_row18_col22, #T_19996_row18_col23, #T_19996_row18_col24, #T_19996_row18_col25, #T_19996_row18_col26, #T_19996_row18_col27, #T_19996_row19_col0, #T_19996_row19_col1, #T_19996_row19_col2, #T_19996_row19_col3, #T_19996_row19_col4, #T_19996_row19_col5, #T_19996_row19_col9, #T_19996_row19_col10, #T_19996_row19_col11, #T_19996_row19_col12, #T_19996_row19_col13, #T_19996_row19_col19, #T_19996_row19_col20, #T_19996_row19_col21, #T_19996_row19_col22, #T_19996_row19_col23, #T_19996_row19_col24, #T_19996_row19_col25, #T_19996_row19_col26, #T_19996_row19_col27, #T_19996_row20_col0, #T_19996_row20_col1, #T_19996_row20_col2, #T_19996_row20_col3, #T_19996_row20_col4, #T_19996_row20_col5, #T_19996_row20_col11, #T_19996_row20_col19, #T_19996_row20_col20, #T_19996_row20_col21, #T_19996_row20_col22, #T_19996_row20_col23, #T_19996_row20_col24, #T_19996_row20_col25, #T_19996_row20_col26, #T_19996_row20_col27, #T_19996_row21_col0, #T_19996_row21_col1, #T_19996_row21_col2, #T_19996_row21_col3, #T_19996_row21_col4, #T_19996_row21_col5, #T_19996_row21_col18, #T_19996_row21_col19, #T_19996_row21_col20, #T_19996_row21_col21, #T_19996_row21_col22, #T_19996_row21_col23, #T_19996_row21_col24, #T_19996_row21_col25, #T_19996_row21_col26, #T_19996_row21_col27, #T_19996_row22_col0, #T_19996_row22_col1, #T_19996_row22_col2, #T_19996_row22_col3, #T_19996_row22_col4, #T_19996_row22_col5, #T_19996_row22_col6, #T_19996_row22_col16, #T_19996_row22_col17, #T_19996_row22_col18, #T_19996_row22_col19, #T_19996_row22_col20, #T_19996_row22_col21, #T_19996_row22_col22, #T_19996_row22_col23, #T_19996_row22_col24, #T_19996_row22_col25, #T_19996_row22_col26, #T_19996_row22_col27, #T_19996_row23_col0, #T_19996_row23_col1, #T_19996_row23_col2, #T_19996_row23_col3, #T_19996_row23_col4, #T_19996_row23_col5, #T_19996_row23_col6, #T_19996_row23_col7, #T_19996_row23_col16, #T_19996_row23_col17, #T_19996_row23_col18, #T_19996_row23_col19, #T_19996_row23_col20, #T_19996_row23_col21, #T_19996_row23_col22, #T_19996_row23_col23, #T_19996_row23_col24, #T_19996_row23_col25, #T_19996_row23_col26, #T_19996_row23_col27, #T_19996_row24_col0, #T_19996_row24_col1, #T_19996_row24_col2, #T_19996_row24_col3, #T_19996_row24_col4, #T_19996_row24_col5, #T_19996_row24_col6, #T_19996_row24_col7, #T_19996_row24_col8, #T_19996_row24_col9, #T_19996_row24_col10, #T_19996_row24_col11, #T_19996_row24_col12, #T_19996_row24_col13, #T_19996_row24_col14, #T_19996_row24_col15, #T_19996_row24_col16, #T_19996_row24_col17, #T_19996_row24_col18, #T_19996_row24_col19, #T_19996_row24_col20, #T_19996_row24_col21, #T_19996_row24_col22, #T_19996_row24_col23, #T_19996_row24_col24, #T_19996_row24_col25, #T_19996_row24_col26, #T_19996_row24_col27, #T_19996_row25_col0, #T_19996_row25_col1, #T_19996_row25_col2, #T_19996_row25_col3, #T_19996_row25_col4, #T_19996_row25_col5, #T_19996_row25_col6, #T_19996_row25_col7, #T_19996_row25_col8, #T_19996_row25_col9, #T_19996_row25_col10, #T_19996_row25_col11, #T_19996_row25_col12, #T_19996_row25_col13, #T_19996_row25_col14, #T_19996_row25_col15, #T_19996_row25_col16, #T_19996_row25_col17, #T_19996_row25_col18, #T_19996_row25_col19, #T_19996_row25_col20, #T_19996_row25_col21, #T_19996_row25_col22, #T_19996_row25_col23, #T_19996_row25_col24, #T_19996_row25_col25, #T_19996_row25_col26, #T_19996_row25_col27, #T_19996_row26_col0, #T_19996_row26_col1, #T_19996_row26_col2, #T_19996_row26_col3, #T_19996_row26_col4, #T_19996_row26_col5, #T_19996_row26_col6, #T_19996_row26_col7, #T_19996_row26_col8, #T_19996_row26_col9, #T_19996_row26_col10, #T_19996_row26_col11, #T_19996_row26_col12, #T_19996_row26_col13, #T_19996_row26_col14, #T_19996_row26_col15, #T_19996_row26_col16, #T_19996_row26_col17, #T_19996_row26_col18, #T_19996_row26_col19, #T_19996_row26_col20, #T_19996_row26_col21, #T_19996_row26_col22, #T_19996_row26_col23, #T_19996_row26_col24, #T_19996_row26_col25, #T_19996_row26_col26, #T_19996_row26_col27, #T_19996_row27_col0, #T_19996_row27_col1, #T_19996_row27_col2, #T_19996_row27_col3, #T_19996_row27_col4, #T_19996_row27_col5, #T_19996_row27_col6, #T_19996_row27_col7, #T_19996_row27_col8, #T_19996_row27_col9, #T_19996_row27_col10, #T_19996_row27_col11, #T_19996_row27_col12, #T_19996_row27_col13, #T_19996_row27_col14, #T_19996_row27_col15, #T_19996_row27_col16, #T_19996_row27_col17, #T_19996_row27_col18, #T_19996_row27_col19, #T_19996_row27_col20, #T_19996_row27_col21, #T_19996_row27_col22, #T_19996_row27_col23, #T_19996_row27_col24, #T_19996_row27_col25, #T_19996_row27_col26, #T_19996_row27_col27 {\n",
       "  font-size: 6pt;\n",
       "  background-color: #ffffff;\n",
       "  color: #000000;\n",
       "}\n",
       "#T_19996_row4_col11 {\n",
       "  font-size: 6pt;\n",
       "  background-color: #e9e9e9;\n",
       "  color: #000000;\n",
       "}\n",
       "#T_19996_row4_col12, #T_19996_row4_col15, #T_19996_row4_col16 {\n",
       "  font-size: 6pt;\n",
       "  background-color: #a2a2a2;\n",
       "  color: #f1f1f1;\n",
       "}\n",
       "#T_19996_row4_col13 {\n",
       "  font-size: 6pt;\n",
       "  background-color: #292929;\n",
       "  color: #f1f1f1;\n",
       "}\n",
       "#T_19996_row4_col14 {\n",
       "  font-size: 6pt;\n",
       "  background-color: #6b6b6b;\n",
       "  color: #f1f1f1;\n",
       "}\n",
       "#T_19996_row4_col17, #T_19996_row17_col15, #T_19996_row23_col8 {\n",
       "  font-size: 6pt;\n",
       "  background-color: #fcfcfc;\n",
       "  color: #000000;\n",
       "}\n",
       "#T_19996_row5_col10 {\n",
       "  font-size: 6pt;\n",
       "  background-color: #b4b4b4;\n",
       "  color: #000000;\n",
       "}\n",
       "#T_19996_row5_col11 {\n",
       "  font-size: 6pt;\n",
       "  background-color: #0e0e0e;\n",
       "  color: #f1f1f1;\n",
       "}\n",
       "#T_19996_row5_col12, #T_19996_row5_col13, #T_19996_row5_col14, #T_19996_row5_col15, #T_19996_row5_col16, #T_19996_row6_col12, #T_19996_row6_col13, #T_19996_row6_col14, #T_19996_row6_col15, #T_19996_row6_col16, #T_19996_row7_col13, #T_19996_row7_col15, #T_19996_row7_col16, #T_19996_row7_col17, #T_19996_row8_col13, #T_19996_row8_col15, #T_19996_row8_col16, #T_19996_row8_col17, #T_19996_row9_col14, #T_19996_row9_col15, #T_19996_row9_col16, #T_19996_row9_col17, #T_19996_row10_col15, #T_19996_row10_col16, #T_19996_row10_col17, #T_19996_row11_col15, #T_19996_row11_col16, #T_19996_row11_col17, #T_19996_row12_col13, #T_19996_row12_col14, #T_19996_row12_col15, #T_19996_row12_col16, #T_19996_row12_col17, #T_19996_row13_col12, #T_19996_row13_col13, #T_19996_row13_col14, #T_19996_row13_col15, #T_19996_row13_col16, #T_19996_row13_col17, #T_19996_row14_col13, #T_19996_row14_col14, #T_19996_row14_col15, #T_19996_row14_col16, #T_19996_row14_col17, #T_19996_row15_col17, #T_19996_row16_col17, #T_19996_row16_col18, #T_19996_row16_col19, #T_19996_row17_col16, #T_19996_row17_col17, #T_19996_row18_col16, #T_19996_row18_col17, #T_19996_row19_col16, #T_19996_row19_col17, #T_19996_row20_col6, #T_19996_row20_col7, #T_19996_row20_col15, #T_19996_row20_col16, #T_19996_row21_col8, #T_19996_row21_col9, #T_19996_row21_col13, #T_19996_row21_col14, #T_19996_row22_col9, #T_19996_row22_col10, #T_19996_row22_col11, #T_19996_row22_col12, #T_19996_row22_col13, #T_19996_row22_col14, #T_19996_row23_col12, #T_19996_row23_col13 {\n",
       "  font-size: 6pt;\n",
       "  background-color: #000000;\n",
       "  color: #f1f1f1;\n",
       "}\n",
       "#T_19996_row5_col17 {\n",
       "  font-size: 6pt;\n",
       "  background-color: #d7d7d7;\n",
       "  color: #000000;\n",
       "}\n",
       "#T_19996_row6_col10 {\n",
       "  font-size: 6pt;\n",
       "  background-color: #f7f7f7;\n",
       "  color: #000000;\n",
       "}\n",
       "#T_19996_row6_col11 {\n",
       "  font-size: 6pt;\n",
       "  background-color: #1a1a1a;\n",
       "  color: #f1f1f1;\n",
       "}\n",
       "#T_19996_row6_col17 {\n",
       "  font-size: 6pt;\n",
       "  background-color: #131313;\n",
       "  color: #f1f1f1;\n",
       "}\n",
       "#T_19996_row6_col18, #T_19996_row13_col10 {\n",
       "  font-size: 6pt;\n",
       "  background-color: #cacaca;\n",
       "  color: #000000;\n",
       "}\n",
       "#T_19996_row7_col11 {\n",
       "  font-size: 6pt;\n",
       "  background-color: #b3b3b3;\n",
       "  color: #000000;\n",
       "}\n",
       "#T_19996_row7_col12 {\n",
       "  font-size: 6pt;\n",
       "  background-color: #0c0c0c;\n",
       "  color: #f1f1f1;\n",
       "}\n",
       "#T_19996_row7_col14 {\n",
       "  font-size: 6pt;\n",
       "  background-color: #232323;\n",
       "  color: #f1f1f1;\n",
       "}\n",
       "#T_19996_row7_col18 {\n",
       "  font-size: 6pt;\n",
       "  background-color: #6e6e6e;\n",
       "  color: #f1f1f1;\n",
       "}\n",
       "#T_19996_row8_col12 {\n",
       "  font-size: 6pt;\n",
       "  background-color: #3a3a3a;\n",
       "  color: #f1f1f1;\n",
       "}\n",
       "#T_19996_row8_col14 {\n",
       "  font-size: 6pt;\n",
       "  background-color: #363636;\n",
       "  color: #f1f1f1;\n",
       "}\n",
       "#T_19996_row8_col18, #T_19996_row12_col18, #T_19996_row19_col18 {\n",
       "  font-size: 6pt;\n",
       "  background-color: #ebebeb;\n",
       "  color: #000000;\n",
       "}\n",
       "#T_19996_row9_col12 {\n",
       "  font-size: 6pt;\n",
       "  background-color: #c7c7c7;\n",
       "  color: #000000;\n",
       "}\n",
       "#T_19996_row9_col13, #T_19996_row20_col14 {\n",
       "  font-size: 6pt;\n",
       "  background-color: #3c3c3c;\n",
       "  color: #f1f1f1;\n",
       "}\n",
       "#T_19996_row9_col18 {\n",
       "  font-size: 6pt;\n",
       "  background-color: #e5e5e5;\n",
       "  color: #000000;\n",
       "}\n",
       "#T_19996_row10_col13 {\n",
       "  font-size: 6pt;\n",
       "  background-color: #f4f4f4;\n",
       "  color: #000000;\n",
       "}\n",
       "#T_19996_row10_col14 {\n",
       "  font-size: 6pt;\n",
       "  background-color: #383838;\n",
       "  color: #f1f1f1;\n",
       "}\n",
       "#T_19996_row10_col18, #T_19996_row14_col18, #T_19996_row15_col18 {\n",
       "  font-size: 6pt;\n",
       "  background-color: #474747;\n",
       "  color: #f1f1f1;\n",
       "}\n",
       "#T_19996_row11_col12 {\n",
       "  font-size: 6pt;\n",
       "  background-color: #c1c1c1;\n",
       "  color: #000000;\n",
       "}\n",
       "#T_19996_row11_col13 {\n",
       "  font-size: 6pt;\n",
       "  background-color: #8a8a8a;\n",
       "  color: #f1f1f1;\n",
       "}\n",
       "#T_19996_row11_col14, #T_19996_row21_col15 {\n",
       "  font-size: 6pt;\n",
       "  background-color: #010101;\n",
       "  color: #f1f1f1;\n",
       "}\n",
       "#T_19996_row11_col18 {\n",
       "  font-size: 6pt;\n",
       "  background-color: #939393;\n",
       "  color: #f1f1f1;\n",
       "}\n",
       "#T_19996_row12_col10 {\n",
       "  font-size: 6pt;\n",
       "  background-color: #eaeaea;\n",
       "  color: #000000;\n",
       "}\n",
       "#T_19996_row12_col11 {\n",
       "  font-size: 6pt;\n",
       "  background-color: #303030;\n",
       "  color: #f1f1f1;\n",
       "}\n",
       "#T_19996_row12_col12 {\n",
       "  font-size: 6pt;\n",
       "  background-color: #050505;\n",
       "  color: #f1f1f1;\n",
       "}\n",
       "#T_19996_row13_col11 {\n",
       "  font-size: 6pt;\n",
       "  background-color: #080808;\n",
       "  color: #f1f1f1;\n",
       "}\n",
       "#T_19996_row13_col18 {\n",
       "  font-size: 6pt;\n",
       "  background-color: #686868;\n",
       "  color: #f1f1f1;\n",
       "}\n",
       "#T_19996_row14_col11 {\n",
       "  font-size: 6pt;\n",
       "  background-color: #ababab;\n",
       "  color: #000000;\n",
       "}\n",
       "#T_19996_row14_col12 {\n",
       "  font-size: 6pt;\n",
       "  background-color: #090909;\n",
       "  color: #f1f1f1;\n",
       "}\n",
       "#T_19996_row15_col12 {\n",
       "  font-size: 6pt;\n",
       "  background-color: #d1d1d1;\n",
       "  color: #000000;\n",
       "}\n",
       "#T_19996_row15_col13, #T_19996_row15_col14, #T_19996_row20_col13 {\n",
       "  font-size: 6pt;\n",
       "  background-color: #c3c3c3;\n",
       "  color: #000000;\n",
       "}\n",
       "#T_19996_row15_col15 {\n",
       "  font-size: 6pt;\n",
       "  background-color: #bfbfbf;\n",
       "  color: #000000;\n",
       "}\n",
       "#T_19996_row15_col16, #T_19996_row19_col15 {\n",
       "  font-size: 6pt;\n",
       "  background-color: #101010;\n",
       "  color: #f1f1f1;\n",
       "}\n",
       "#T_19996_row16_col16 {\n",
       "  font-size: 6pt;\n",
       "  background-color: #949494;\n",
       "  color: #f1f1f1;\n",
       "}\n",
       "#T_19996_row17_col18 {\n",
       "  font-size: 6pt;\n",
       "  background-color: #060606;\n",
       "  color: #f1f1f1;\n",
       "}\n",
       "#T_19996_row17_col19 {\n",
       "  font-size: 6pt;\n",
       "  background-color: #1c1c1c;\n",
       "  color: #f1f1f1;\n",
       "}\n",
       "#T_19996_row18_col15 {\n",
       "  font-size: 6pt;\n",
       "  background-color: #898989;\n",
       "  color: #f1f1f1;\n",
       "}\n",
       "#T_19996_row18_col18 {\n",
       "  font-size: 6pt;\n",
       "  background-color: #8e8e8e;\n",
       "  color: #f1f1f1;\n",
       "}\n",
       "#T_19996_row19_col6 {\n",
       "  font-size: 6pt;\n",
       "  background-color: #f1f1f1;\n",
       "  color: #000000;\n",
       "}\n",
       "#T_19996_row19_col7 {\n",
       "  font-size: 6pt;\n",
       "  background-color: #606060;\n",
       "  color: #f1f1f1;\n",
       "}\n",
       "#T_19996_row19_col8 {\n",
       "  font-size: 6pt;\n",
       "  background-color: #c2c2c2;\n",
       "  color: #000000;\n",
       "}\n",
       "#T_19996_row19_col14 {\n",
       "  font-size: 6pt;\n",
       "  background-color: #f3f3f3;\n",
       "  color: #000000;\n",
       "}\n",
       "#T_19996_row20_col8 {\n",
       "  font-size: 6pt;\n",
       "  background-color: #2f2f2f;\n",
       "  color: #f1f1f1;\n",
       "}\n",
       "#T_19996_row20_col9 {\n",
       "  font-size: 6pt;\n",
       "  background-color: #dadada;\n",
       "  color: #000000;\n",
       "}\n",
       "#T_19996_row20_col10 {\n",
       "  font-size: 6pt;\n",
       "  background-color: #ededed;\n",
       "  color: #000000;\n",
       "}\n",
       "#T_19996_row20_col12 {\n",
       "  font-size: 6pt;\n",
       "  background-color: #e2e2e2;\n",
       "  color: #000000;\n",
       "}\n",
       "#T_19996_row20_col17 {\n",
       "  font-size: 6pt;\n",
       "  background-color: #888888;\n",
       "  color: #f1f1f1;\n",
       "}\n",
       "#T_19996_row20_col18 {\n",
       "  font-size: 6pt;\n",
       "  background-color: #fbfbfb;\n",
       "  color: #000000;\n",
       "}\n",
       "#T_19996_row21_col6 {\n",
       "  font-size: 6pt;\n",
       "  background-color: #c4c4c4;\n",
       "  color: #000000;\n",
       "}\n",
       "#T_19996_row21_col7 {\n",
       "  font-size: 6pt;\n",
       "  background-color: #484848;\n",
       "  color: #f1f1f1;\n",
       "}\n",
       "#T_19996_row21_col10 {\n",
       "  font-size: 6pt;\n",
       "  background-color: #252525;\n",
       "  color: #f1f1f1;\n",
       "}\n",
       "#T_19996_row21_col11 {\n",
       "  font-size: 6pt;\n",
       "  background-color: #5d5d5d;\n",
       "  color: #f1f1f1;\n",
       "}\n",
       "#T_19996_row21_col12 {\n",
       "  font-size: 6pt;\n",
       "  background-color: #0f0f0f;\n",
       "  color: #f1f1f1;\n",
       "}\n",
       "#T_19996_row21_col16 {\n",
       "  font-size: 6pt;\n",
       "  background-color: #323232;\n",
       "  color: #f1f1f1;\n",
       "}\n",
       "#T_19996_row21_col17 {\n",
       "  font-size: 6pt;\n",
       "  background-color: #fafafa;\n",
       "  color: #000000;\n",
       "}\n",
       "#T_19996_row22_col7 {\n",
       "  font-size: 6pt;\n",
       "  background-color: #878787;\n",
       "  color: #f1f1f1;\n",
       "}\n",
       "#T_19996_row22_col8 {\n",
       "  font-size: 6pt;\n",
       "  background-color: #b2b2b2;\n",
       "  color: #000000;\n",
       "}\n",
       "#T_19996_row22_col15 {\n",
       "  font-size: 6pt;\n",
       "  background-color: #151515;\n",
       "  color: #f1f1f1;\n",
       "}\n",
       "#T_19996_row23_col9, #T_19996_row23_col10 {\n",
       "  font-size: 6pt;\n",
       "  background-color: #a3a3a3;\n",
       "  color: #f1f1f1;\n",
       "}\n",
       "#T_19996_row23_col11 {\n",
       "  font-size: 6pt;\n",
       "  background-color: #6c6c6c;\n",
       "  color: #f1f1f1;\n",
       "}\n",
       "#T_19996_row23_col14 {\n",
       "  font-size: 6pt;\n",
       "  background-color: #111111;\n",
       "  color: #f1f1f1;\n",
       "}\n",
       "#T_19996_row23_col15 {\n",
       "  font-size: 6pt;\n",
       "  background-color: #e3e3e3;\n",
       "  color: #000000;\n",
       "}\n",
       "</style>\n",
       "<table id=\"T_19996\">\n",
       "  <thead>\n",
       "    <tr>\n",
       "      <th class=\"blank level0\" >&nbsp;</th>\n",
       "      <th id=\"T_19996_level0_col0\" class=\"col_heading level0 col0\" >0</th>\n",
       "      <th id=\"T_19996_level0_col1\" class=\"col_heading level0 col1\" >1</th>\n",
       "      <th id=\"T_19996_level0_col2\" class=\"col_heading level0 col2\" >2</th>\n",
       "      <th id=\"T_19996_level0_col3\" class=\"col_heading level0 col3\" >3</th>\n",
       "      <th id=\"T_19996_level0_col4\" class=\"col_heading level0 col4\" >4</th>\n",
       "      <th id=\"T_19996_level0_col5\" class=\"col_heading level0 col5\" >5</th>\n",
       "      <th id=\"T_19996_level0_col6\" class=\"col_heading level0 col6\" >6</th>\n",
       "      <th id=\"T_19996_level0_col7\" class=\"col_heading level0 col7\" >7</th>\n",
       "      <th id=\"T_19996_level0_col8\" class=\"col_heading level0 col8\" >8</th>\n",
       "      <th id=\"T_19996_level0_col9\" class=\"col_heading level0 col9\" >9</th>\n",
       "      <th id=\"T_19996_level0_col10\" class=\"col_heading level0 col10\" >10</th>\n",
       "      <th id=\"T_19996_level0_col11\" class=\"col_heading level0 col11\" >11</th>\n",
       "      <th id=\"T_19996_level0_col12\" class=\"col_heading level0 col12\" >12</th>\n",
       "      <th id=\"T_19996_level0_col13\" class=\"col_heading level0 col13\" >13</th>\n",
       "      <th id=\"T_19996_level0_col14\" class=\"col_heading level0 col14\" >14</th>\n",
       "      <th id=\"T_19996_level0_col15\" class=\"col_heading level0 col15\" >15</th>\n",
       "      <th id=\"T_19996_level0_col16\" class=\"col_heading level0 col16\" >16</th>\n",
       "      <th id=\"T_19996_level0_col17\" class=\"col_heading level0 col17\" >17</th>\n",
       "      <th id=\"T_19996_level0_col18\" class=\"col_heading level0 col18\" >18</th>\n",
       "      <th id=\"T_19996_level0_col19\" class=\"col_heading level0 col19\" >19</th>\n",
       "      <th id=\"T_19996_level0_col20\" class=\"col_heading level0 col20\" >20</th>\n",
       "      <th id=\"T_19996_level0_col21\" class=\"col_heading level0 col21\" >21</th>\n",
       "      <th id=\"T_19996_level0_col22\" class=\"col_heading level0 col22\" >22</th>\n",
       "      <th id=\"T_19996_level0_col23\" class=\"col_heading level0 col23\" >23</th>\n",
       "      <th id=\"T_19996_level0_col24\" class=\"col_heading level0 col24\" >24</th>\n",
       "      <th id=\"T_19996_level0_col25\" class=\"col_heading level0 col25\" >25</th>\n",
       "      <th id=\"T_19996_level0_col26\" class=\"col_heading level0 col26\" >26</th>\n",
       "      <th id=\"T_19996_level0_col27\" class=\"col_heading level0 col27\" >27</th>\n",
       "    </tr>\n",
       "  </thead>\n",
       "  <tbody>\n",
       "    <tr>\n",
       "      <th id=\"T_19996_level0_row0\" class=\"row_heading level0 row0\" >0</th>\n",
       "      <td id=\"T_19996_row0_col0\" class=\"data row0 col0\" >0</td>\n",
       "      <td id=\"T_19996_row0_col1\" class=\"data row0 col1\" >0</td>\n",
       "      <td id=\"T_19996_row0_col2\" class=\"data row0 col2\" >0</td>\n",
       "      <td id=\"T_19996_row0_col3\" class=\"data row0 col3\" >0</td>\n",
       "      <td id=\"T_19996_row0_col4\" class=\"data row0 col4\" >0</td>\n",
       "      <td id=\"T_19996_row0_col5\" class=\"data row0 col5\" >0</td>\n",
       "      <td id=\"T_19996_row0_col6\" class=\"data row0 col6\" >0</td>\n",
       "      <td id=\"T_19996_row0_col7\" class=\"data row0 col7\" >0</td>\n",
       "      <td id=\"T_19996_row0_col8\" class=\"data row0 col8\" >0</td>\n",
       "      <td id=\"T_19996_row0_col9\" class=\"data row0 col9\" >0</td>\n",
       "      <td id=\"T_19996_row0_col10\" class=\"data row0 col10\" >0</td>\n",
       "      <td id=\"T_19996_row0_col11\" class=\"data row0 col11\" >0</td>\n",
       "      <td id=\"T_19996_row0_col12\" class=\"data row0 col12\" >0</td>\n",
       "      <td id=\"T_19996_row0_col13\" class=\"data row0 col13\" >0</td>\n",
       "      <td id=\"T_19996_row0_col14\" class=\"data row0 col14\" >0</td>\n",
       "      <td id=\"T_19996_row0_col15\" class=\"data row0 col15\" >0</td>\n",
       "      <td id=\"T_19996_row0_col16\" class=\"data row0 col16\" >0</td>\n",
       "      <td id=\"T_19996_row0_col17\" class=\"data row0 col17\" >0</td>\n",
       "      <td id=\"T_19996_row0_col18\" class=\"data row0 col18\" >0</td>\n",
       "      <td id=\"T_19996_row0_col19\" class=\"data row0 col19\" >0</td>\n",
       "      <td id=\"T_19996_row0_col20\" class=\"data row0 col20\" >0</td>\n",
       "      <td id=\"T_19996_row0_col21\" class=\"data row0 col21\" >0</td>\n",
       "      <td id=\"T_19996_row0_col22\" class=\"data row0 col22\" >0</td>\n",
       "      <td id=\"T_19996_row0_col23\" class=\"data row0 col23\" >0</td>\n",
       "      <td id=\"T_19996_row0_col24\" class=\"data row0 col24\" >0</td>\n",
       "      <td id=\"T_19996_row0_col25\" class=\"data row0 col25\" >0</td>\n",
       "      <td id=\"T_19996_row0_col26\" class=\"data row0 col26\" >0</td>\n",
       "      <td id=\"T_19996_row0_col27\" class=\"data row0 col27\" >0</td>\n",
       "    </tr>\n",
       "    <tr>\n",
       "      <th id=\"T_19996_level0_row1\" class=\"row_heading level0 row1\" >1</th>\n",
       "      <td id=\"T_19996_row1_col0\" class=\"data row1 col0\" >0</td>\n",
       "      <td id=\"T_19996_row1_col1\" class=\"data row1 col1\" >0</td>\n",
       "      <td id=\"T_19996_row1_col2\" class=\"data row1 col2\" >0</td>\n",
       "      <td id=\"T_19996_row1_col3\" class=\"data row1 col3\" >0</td>\n",
       "      <td id=\"T_19996_row1_col4\" class=\"data row1 col4\" >0</td>\n",
       "      <td id=\"T_19996_row1_col5\" class=\"data row1 col5\" >0</td>\n",
       "      <td id=\"T_19996_row1_col6\" class=\"data row1 col6\" >0</td>\n",
       "      <td id=\"T_19996_row1_col7\" class=\"data row1 col7\" >0</td>\n",
       "      <td id=\"T_19996_row1_col8\" class=\"data row1 col8\" >0</td>\n",
       "      <td id=\"T_19996_row1_col9\" class=\"data row1 col9\" >0</td>\n",
       "      <td id=\"T_19996_row1_col10\" class=\"data row1 col10\" >0</td>\n",
       "      <td id=\"T_19996_row1_col11\" class=\"data row1 col11\" >0</td>\n",
       "      <td id=\"T_19996_row1_col12\" class=\"data row1 col12\" >0</td>\n",
       "      <td id=\"T_19996_row1_col13\" class=\"data row1 col13\" >0</td>\n",
       "      <td id=\"T_19996_row1_col14\" class=\"data row1 col14\" >0</td>\n",
       "      <td id=\"T_19996_row1_col15\" class=\"data row1 col15\" >0</td>\n",
       "      <td id=\"T_19996_row1_col16\" class=\"data row1 col16\" >0</td>\n",
       "      <td id=\"T_19996_row1_col17\" class=\"data row1 col17\" >0</td>\n",
       "      <td id=\"T_19996_row1_col18\" class=\"data row1 col18\" >0</td>\n",
       "      <td id=\"T_19996_row1_col19\" class=\"data row1 col19\" >0</td>\n",
       "      <td id=\"T_19996_row1_col20\" class=\"data row1 col20\" >0</td>\n",
       "      <td id=\"T_19996_row1_col21\" class=\"data row1 col21\" >0</td>\n",
       "      <td id=\"T_19996_row1_col22\" class=\"data row1 col22\" >0</td>\n",
       "      <td id=\"T_19996_row1_col23\" class=\"data row1 col23\" >0</td>\n",
       "      <td id=\"T_19996_row1_col24\" class=\"data row1 col24\" >0</td>\n",
       "      <td id=\"T_19996_row1_col25\" class=\"data row1 col25\" >0</td>\n",
       "      <td id=\"T_19996_row1_col26\" class=\"data row1 col26\" >0</td>\n",
       "      <td id=\"T_19996_row1_col27\" class=\"data row1 col27\" >0</td>\n",
       "    </tr>\n",
       "    <tr>\n",
       "      <th id=\"T_19996_level0_row2\" class=\"row_heading level0 row2\" >2</th>\n",
       "      <td id=\"T_19996_row2_col0\" class=\"data row2 col0\" >0</td>\n",
       "      <td id=\"T_19996_row2_col1\" class=\"data row2 col1\" >0</td>\n",
       "      <td id=\"T_19996_row2_col2\" class=\"data row2 col2\" >0</td>\n",
       "      <td id=\"T_19996_row2_col3\" class=\"data row2 col3\" >0</td>\n",
       "      <td id=\"T_19996_row2_col4\" class=\"data row2 col4\" >0</td>\n",
       "      <td id=\"T_19996_row2_col5\" class=\"data row2 col5\" >0</td>\n",
       "      <td id=\"T_19996_row2_col6\" class=\"data row2 col6\" >0</td>\n",
       "      <td id=\"T_19996_row2_col7\" class=\"data row2 col7\" >0</td>\n",
       "      <td id=\"T_19996_row2_col8\" class=\"data row2 col8\" >0</td>\n",
       "      <td id=\"T_19996_row2_col9\" class=\"data row2 col9\" >0</td>\n",
       "      <td id=\"T_19996_row2_col10\" class=\"data row2 col10\" >0</td>\n",
       "      <td id=\"T_19996_row2_col11\" class=\"data row2 col11\" >0</td>\n",
       "      <td id=\"T_19996_row2_col12\" class=\"data row2 col12\" >0</td>\n",
       "      <td id=\"T_19996_row2_col13\" class=\"data row2 col13\" >0</td>\n",
       "      <td id=\"T_19996_row2_col14\" class=\"data row2 col14\" >0</td>\n",
       "      <td id=\"T_19996_row2_col15\" class=\"data row2 col15\" >0</td>\n",
       "      <td id=\"T_19996_row2_col16\" class=\"data row2 col16\" >0</td>\n",
       "      <td id=\"T_19996_row2_col17\" class=\"data row2 col17\" >0</td>\n",
       "      <td id=\"T_19996_row2_col18\" class=\"data row2 col18\" >0</td>\n",
       "      <td id=\"T_19996_row2_col19\" class=\"data row2 col19\" >0</td>\n",
       "      <td id=\"T_19996_row2_col20\" class=\"data row2 col20\" >0</td>\n",
       "      <td id=\"T_19996_row2_col21\" class=\"data row2 col21\" >0</td>\n",
       "      <td id=\"T_19996_row2_col22\" class=\"data row2 col22\" >0</td>\n",
       "      <td id=\"T_19996_row2_col23\" class=\"data row2 col23\" >0</td>\n",
       "      <td id=\"T_19996_row2_col24\" class=\"data row2 col24\" >0</td>\n",
       "      <td id=\"T_19996_row2_col25\" class=\"data row2 col25\" >0</td>\n",
       "      <td id=\"T_19996_row2_col26\" class=\"data row2 col26\" >0</td>\n",
       "      <td id=\"T_19996_row2_col27\" class=\"data row2 col27\" >0</td>\n",
       "    </tr>\n",
       "    <tr>\n",
       "      <th id=\"T_19996_level0_row3\" class=\"row_heading level0 row3\" >3</th>\n",
       "      <td id=\"T_19996_row3_col0\" class=\"data row3 col0\" >0</td>\n",
       "      <td id=\"T_19996_row3_col1\" class=\"data row3 col1\" >0</td>\n",
       "      <td id=\"T_19996_row3_col2\" class=\"data row3 col2\" >0</td>\n",
       "      <td id=\"T_19996_row3_col3\" class=\"data row3 col3\" >0</td>\n",
       "      <td id=\"T_19996_row3_col4\" class=\"data row3 col4\" >0</td>\n",
       "      <td id=\"T_19996_row3_col5\" class=\"data row3 col5\" >0</td>\n",
       "      <td id=\"T_19996_row3_col6\" class=\"data row3 col6\" >0</td>\n",
       "      <td id=\"T_19996_row3_col7\" class=\"data row3 col7\" >0</td>\n",
       "      <td id=\"T_19996_row3_col8\" class=\"data row3 col8\" >0</td>\n",
       "      <td id=\"T_19996_row3_col9\" class=\"data row3 col9\" >0</td>\n",
       "      <td id=\"T_19996_row3_col10\" class=\"data row3 col10\" >0</td>\n",
       "      <td id=\"T_19996_row3_col11\" class=\"data row3 col11\" >0</td>\n",
       "      <td id=\"T_19996_row3_col12\" class=\"data row3 col12\" >0</td>\n",
       "      <td id=\"T_19996_row3_col13\" class=\"data row3 col13\" >0</td>\n",
       "      <td id=\"T_19996_row3_col14\" class=\"data row3 col14\" >0</td>\n",
       "      <td id=\"T_19996_row3_col15\" class=\"data row3 col15\" >0</td>\n",
       "      <td id=\"T_19996_row3_col16\" class=\"data row3 col16\" >0</td>\n",
       "      <td id=\"T_19996_row3_col17\" class=\"data row3 col17\" >0</td>\n",
       "      <td id=\"T_19996_row3_col18\" class=\"data row3 col18\" >0</td>\n",
       "      <td id=\"T_19996_row3_col19\" class=\"data row3 col19\" >0</td>\n",
       "      <td id=\"T_19996_row3_col20\" class=\"data row3 col20\" >0</td>\n",
       "      <td id=\"T_19996_row3_col21\" class=\"data row3 col21\" >0</td>\n",
       "      <td id=\"T_19996_row3_col22\" class=\"data row3 col22\" >0</td>\n",
       "      <td id=\"T_19996_row3_col23\" class=\"data row3 col23\" >0</td>\n",
       "      <td id=\"T_19996_row3_col24\" class=\"data row3 col24\" >0</td>\n",
       "      <td id=\"T_19996_row3_col25\" class=\"data row3 col25\" >0</td>\n",
       "      <td id=\"T_19996_row3_col26\" class=\"data row3 col26\" >0</td>\n",
       "      <td id=\"T_19996_row3_col27\" class=\"data row3 col27\" >0</td>\n",
       "    </tr>\n",
       "    <tr>\n",
       "      <th id=\"T_19996_level0_row4\" class=\"row_heading level0 row4\" >4</th>\n",
       "      <td id=\"T_19996_row4_col0\" class=\"data row4 col0\" >0</td>\n",
       "      <td id=\"T_19996_row4_col1\" class=\"data row4 col1\" >0</td>\n",
       "      <td id=\"T_19996_row4_col2\" class=\"data row4 col2\" >0</td>\n",
       "      <td id=\"T_19996_row4_col3\" class=\"data row4 col3\" >0</td>\n",
       "      <td id=\"T_19996_row4_col4\" class=\"data row4 col4\" >0</td>\n",
       "      <td id=\"T_19996_row4_col5\" class=\"data row4 col5\" >0</td>\n",
       "      <td id=\"T_19996_row4_col6\" class=\"data row4 col6\" >0</td>\n",
       "      <td id=\"T_19996_row4_col7\" class=\"data row4 col7\" >0</td>\n",
       "      <td id=\"T_19996_row4_col8\" class=\"data row4 col8\" >0</td>\n",
       "      <td id=\"T_19996_row4_col9\" class=\"data row4 col9\" >0</td>\n",
       "      <td id=\"T_19996_row4_col10\" class=\"data row4 col10\" >0</td>\n",
       "      <td id=\"T_19996_row4_col11\" class=\"data row4 col11\" >42</td>\n",
       "      <td id=\"T_19996_row4_col12\" class=\"data row4 col12\" >118</td>\n",
       "      <td id=\"T_19996_row4_col13\" class=\"data row4 col13\" >219</td>\n",
       "      <td id=\"T_19996_row4_col14\" class=\"data row4 col14\" >166</td>\n",
       "      <td id=\"T_19996_row4_col15\" class=\"data row4 col15\" >118</td>\n",
       "      <td id=\"T_19996_row4_col16\" class=\"data row4 col16\" >118</td>\n",
       "      <td id=\"T_19996_row4_col17\" class=\"data row4 col17\" >6</td>\n",
       "      <td id=\"T_19996_row4_col18\" class=\"data row4 col18\" >0</td>\n",
       "      <td id=\"T_19996_row4_col19\" class=\"data row4 col19\" >0</td>\n",
       "      <td id=\"T_19996_row4_col20\" class=\"data row4 col20\" >0</td>\n",
       "      <td id=\"T_19996_row4_col21\" class=\"data row4 col21\" >0</td>\n",
       "      <td id=\"T_19996_row4_col22\" class=\"data row4 col22\" >0</td>\n",
       "      <td id=\"T_19996_row4_col23\" class=\"data row4 col23\" >0</td>\n",
       "      <td id=\"T_19996_row4_col24\" class=\"data row4 col24\" >0</td>\n",
       "      <td id=\"T_19996_row4_col25\" class=\"data row4 col25\" >0</td>\n",
       "      <td id=\"T_19996_row4_col26\" class=\"data row4 col26\" >0</td>\n",
       "      <td id=\"T_19996_row4_col27\" class=\"data row4 col27\" >0</td>\n",
       "    </tr>\n",
       "    <tr>\n",
       "      <th id=\"T_19996_level0_row5\" class=\"row_heading level0 row5\" >5</th>\n",
       "      <td id=\"T_19996_row5_col0\" class=\"data row5 col0\" >0</td>\n",
       "      <td id=\"T_19996_row5_col1\" class=\"data row5 col1\" >0</td>\n",
       "      <td id=\"T_19996_row5_col2\" class=\"data row5 col2\" >0</td>\n",
       "      <td id=\"T_19996_row5_col3\" class=\"data row5 col3\" >0</td>\n",
       "      <td id=\"T_19996_row5_col4\" class=\"data row5 col4\" >0</td>\n",
       "      <td id=\"T_19996_row5_col5\" class=\"data row5 col5\" >0</td>\n",
       "      <td id=\"T_19996_row5_col6\" class=\"data row5 col6\" >0</td>\n",
       "      <td id=\"T_19996_row5_col7\" class=\"data row5 col7\" >0</td>\n",
       "      <td id=\"T_19996_row5_col8\" class=\"data row5 col8\" >0</td>\n",
       "      <td id=\"T_19996_row5_col9\" class=\"data row5 col9\" >0</td>\n",
       "      <td id=\"T_19996_row5_col10\" class=\"data row5 col10\" >103</td>\n",
       "      <td id=\"T_19996_row5_col11\" class=\"data row5 col11\" >242</td>\n",
       "      <td id=\"T_19996_row5_col12\" class=\"data row5 col12\" >254</td>\n",
       "      <td id=\"T_19996_row5_col13\" class=\"data row5 col13\" >254</td>\n",
       "      <td id=\"T_19996_row5_col14\" class=\"data row5 col14\" >254</td>\n",
       "      <td id=\"T_19996_row5_col15\" class=\"data row5 col15\" >254</td>\n",
       "      <td id=\"T_19996_row5_col16\" class=\"data row5 col16\" >254</td>\n",
       "      <td id=\"T_19996_row5_col17\" class=\"data row5 col17\" >66</td>\n",
       "      <td id=\"T_19996_row5_col18\" class=\"data row5 col18\" >0</td>\n",
       "      <td id=\"T_19996_row5_col19\" class=\"data row5 col19\" >0</td>\n",
       "      <td id=\"T_19996_row5_col20\" class=\"data row5 col20\" >0</td>\n",
       "      <td id=\"T_19996_row5_col21\" class=\"data row5 col21\" >0</td>\n",
       "      <td id=\"T_19996_row5_col22\" class=\"data row5 col22\" >0</td>\n",
       "      <td id=\"T_19996_row5_col23\" class=\"data row5 col23\" >0</td>\n",
       "      <td id=\"T_19996_row5_col24\" class=\"data row5 col24\" >0</td>\n",
       "      <td id=\"T_19996_row5_col25\" class=\"data row5 col25\" >0</td>\n",
       "      <td id=\"T_19996_row5_col26\" class=\"data row5 col26\" >0</td>\n",
       "      <td id=\"T_19996_row5_col27\" class=\"data row5 col27\" >0</td>\n",
       "    </tr>\n",
       "    <tr>\n",
       "      <th id=\"T_19996_level0_row6\" class=\"row_heading level0 row6\" >6</th>\n",
       "      <td id=\"T_19996_row6_col0\" class=\"data row6 col0\" >0</td>\n",
       "      <td id=\"T_19996_row6_col1\" class=\"data row6 col1\" >0</td>\n",
       "      <td id=\"T_19996_row6_col2\" class=\"data row6 col2\" >0</td>\n",
       "      <td id=\"T_19996_row6_col3\" class=\"data row6 col3\" >0</td>\n",
       "      <td id=\"T_19996_row6_col4\" class=\"data row6 col4\" >0</td>\n",
       "      <td id=\"T_19996_row6_col5\" class=\"data row6 col5\" >0</td>\n",
       "      <td id=\"T_19996_row6_col6\" class=\"data row6 col6\" >0</td>\n",
       "      <td id=\"T_19996_row6_col7\" class=\"data row6 col7\" >0</td>\n",
       "      <td id=\"T_19996_row6_col8\" class=\"data row6 col8\" >0</td>\n",
       "      <td id=\"T_19996_row6_col9\" class=\"data row6 col9\" >0</td>\n",
       "      <td id=\"T_19996_row6_col10\" class=\"data row6 col10\" >18</td>\n",
       "      <td id=\"T_19996_row6_col11\" class=\"data row6 col11\" >232</td>\n",
       "      <td id=\"T_19996_row6_col12\" class=\"data row6 col12\" >254</td>\n",
       "      <td id=\"T_19996_row6_col13\" class=\"data row6 col13\" >254</td>\n",
       "      <td id=\"T_19996_row6_col14\" class=\"data row6 col14\" >254</td>\n",
       "      <td id=\"T_19996_row6_col15\" class=\"data row6 col15\" >254</td>\n",
       "      <td id=\"T_19996_row6_col16\" class=\"data row6 col16\" >254</td>\n",
       "      <td id=\"T_19996_row6_col17\" class=\"data row6 col17\" >238</td>\n",
       "      <td id=\"T_19996_row6_col18\" class=\"data row6 col18\" >70</td>\n",
       "      <td id=\"T_19996_row6_col19\" class=\"data row6 col19\" >0</td>\n",
       "      <td id=\"T_19996_row6_col20\" class=\"data row6 col20\" >0</td>\n",
       "      <td id=\"T_19996_row6_col21\" class=\"data row6 col21\" >0</td>\n",
       "      <td id=\"T_19996_row6_col22\" class=\"data row6 col22\" >0</td>\n",
       "      <td id=\"T_19996_row6_col23\" class=\"data row6 col23\" >0</td>\n",
       "      <td id=\"T_19996_row6_col24\" class=\"data row6 col24\" >0</td>\n",
       "      <td id=\"T_19996_row6_col25\" class=\"data row6 col25\" >0</td>\n",
       "      <td id=\"T_19996_row6_col26\" class=\"data row6 col26\" >0</td>\n",
       "      <td id=\"T_19996_row6_col27\" class=\"data row6 col27\" >0</td>\n",
       "    </tr>\n",
       "    <tr>\n",
       "      <th id=\"T_19996_level0_row7\" class=\"row_heading level0 row7\" >7</th>\n",
       "      <td id=\"T_19996_row7_col0\" class=\"data row7 col0\" >0</td>\n",
       "      <td id=\"T_19996_row7_col1\" class=\"data row7 col1\" >0</td>\n",
       "      <td id=\"T_19996_row7_col2\" class=\"data row7 col2\" >0</td>\n",
       "      <td id=\"T_19996_row7_col3\" class=\"data row7 col3\" >0</td>\n",
       "      <td id=\"T_19996_row7_col4\" class=\"data row7 col4\" >0</td>\n",
       "      <td id=\"T_19996_row7_col5\" class=\"data row7 col5\" >0</td>\n",
       "      <td id=\"T_19996_row7_col6\" class=\"data row7 col6\" >0</td>\n",
       "      <td id=\"T_19996_row7_col7\" class=\"data row7 col7\" >0</td>\n",
       "      <td id=\"T_19996_row7_col8\" class=\"data row7 col8\" >0</td>\n",
       "      <td id=\"T_19996_row7_col9\" class=\"data row7 col9\" >0</td>\n",
       "      <td id=\"T_19996_row7_col10\" class=\"data row7 col10\" >0</td>\n",
       "      <td id=\"T_19996_row7_col11\" class=\"data row7 col11\" >104</td>\n",
       "      <td id=\"T_19996_row7_col12\" class=\"data row7 col12\" >244</td>\n",
       "      <td id=\"T_19996_row7_col13\" class=\"data row7 col13\" >254</td>\n",
       "      <td id=\"T_19996_row7_col14\" class=\"data row7 col14\" >224</td>\n",
       "      <td id=\"T_19996_row7_col15\" class=\"data row7 col15\" >254</td>\n",
       "      <td id=\"T_19996_row7_col16\" class=\"data row7 col16\" >254</td>\n",
       "      <td id=\"T_19996_row7_col17\" class=\"data row7 col17\" >254</td>\n",
       "      <td id=\"T_19996_row7_col18\" class=\"data row7 col18\" >141</td>\n",
       "      <td id=\"T_19996_row7_col19\" class=\"data row7 col19\" >0</td>\n",
       "      <td id=\"T_19996_row7_col20\" class=\"data row7 col20\" >0</td>\n",
       "      <td id=\"T_19996_row7_col21\" class=\"data row7 col21\" >0</td>\n",
       "      <td id=\"T_19996_row7_col22\" class=\"data row7 col22\" >0</td>\n",
       "      <td id=\"T_19996_row7_col23\" class=\"data row7 col23\" >0</td>\n",
       "      <td id=\"T_19996_row7_col24\" class=\"data row7 col24\" >0</td>\n",
       "      <td id=\"T_19996_row7_col25\" class=\"data row7 col25\" >0</td>\n",
       "      <td id=\"T_19996_row7_col26\" class=\"data row7 col26\" >0</td>\n",
       "      <td id=\"T_19996_row7_col27\" class=\"data row7 col27\" >0</td>\n",
       "    </tr>\n",
       "    <tr>\n",
       "      <th id=\"T_19996_level0_row8\" class=\"row_heading level0 row8\" >8</th>\n",
       "      <td id=\"T_19996_row8_col0\" class=\"data row8 col0\" >0</td>\n",
       "      <td id=\"T_19996_row8_col1\" class=\"data row8 col1\" >0</td>\n",
       "      <td id=\"T_19996_row8_col2\" class=\"data row8 col2\" >0</td>\n",
       "      <td id=\"T_19996_row8_col3\" class=\"data row8 col3\" >0</td>\n",
       "      <td id=\"T_19996_row8_col4\" class=\"data row8 col4\" >0</td>\n",
       "      <td id=\"T_19996_row8_col5\" class=\"data row8 col5\" >0</td>\n",
       "      <td id=\"T_19996_row8_col6\" class=\"data row8 col6\" >0</td>\n",
       "      <td id=\"T_19996_row8_col7\" class=\"data row8 col7\" >0</td>\n",
       "      <td id=\"T_19996_row8_col8\" class=\"data row8 col8\" >0</td>\n",
       "      <td id=\"T_19996_row8_col9\" class=\"data row8 col9\" >0</td>\n",
       "      <td id=\"T_19996_row8_col10\" class=\"data row8 col10\" >0</td>\n",
       "      <td id=\"T_19996_row8_col11\" class=\"data row8 col11\" >0</td>\n",
       "      <td id=\"T_19996_row8_col12\" class=\"data row8 col12\" >207</td>\n",
       "      <td id=\"T_19996_row8_col13\" class=\"data row8 col13\" >254</td>\n",
       "      <td id=\"T_19996_row8_col14\" class=\"data row8 col14\" >210</td>\n",
       "      <td id=\"T_19996_row8_col15\" class=\"data row8 col15\" >254</td>\n",
       "      <td id=\"T_19996_row8_col16\" class=\"data row8 col16\" >254</td>\n",
       "      <td id=\"T_19996_row8_col17\" class=\"data row8 col17\" >254</td>\n",
       "      <td id=\"T_19996_row8_col18\" class=\"data row8 col18\" >34</td>\n",
       "      <td id=\"T_19996_row8_col19\" class=\"data row8 col19\" >0</td>\n",
       "      <td id=\"T_19996_row8_col20\" class=\"data row8 col20\" >0</td>\n",
       "      <td id=\"T_19996_row8_col21\" class=\"data row8 col21\" >0</td>\n",
       "      <td id=\"T_19996_row8_col22\" class=\"data row8 col22\" >0</td>\n",
       "      <td id=\"T_19996_row8_col23\" class=\"data row8 col23\" >0</td>\n",
       "      <td id=\"T_19996_row8_col24\" class=\"data row8 col24\" >0</td>\n",
       "      <td id=\"T_19996_row8_col25\" class=\"data row8 col25\" >0</td>\n",
       "      <td id=\"T_19996_row8_col26\" class=\"data row8 col26\" >0</td>\n",
       "      <td id=\"T_19996_row8_col27\" class=\"data row8 col27\" >0</td>\n",
       "    </tr>\n",
       "    <tr>\n",
       "      <th id=\"T_19996_level0_row9\" class=\"row_heading level0 row9\" >9</th>\n",
       "      <td id=\"T_19996_row9_col0\" class=\"data row9 col0\" >0</td>\n",
       "      <td id=\"T_19996_row9_col1\" class=\"data row9 col1\" >0</td>\n",
       "      <td id=\"T_19996_row9_col2\" class=\"data row9 col2\" >0</td>\n",
       "      <td id=\"T_19996_row9_col3\" class=\"data row9 col3\" >0</td>\n",
       "      <td id=\"T_19996_row9_col4\" class=\"data row9 col4\" >0</td>\n",
       "      <td id=\"T_19996_row9_col5\" class=\"data row9 col5\" >0</td>\n",
       "      <td id=\"T_19996_row9_col6\" class=\"data row9 col6\" >0</td>\n",
       "      <td id=\"T_19996_row9_col7\" class=\"data row9 col7\" >0</td>\n",
       "      <td id=\"T_19996_row9_col8\" class=\"data row9 col8\" >0</td>\n",
       "      <td id=\"T_19996_row9_col9\" class=\"data row9 col9\" >0</td>\n",
       "      <td id=\"T_19996_row9_col10\" class=\"data row9 col10\" >0</td>\n",
       "      <td id=\"T_19996_row9_col11\" class=\"data row9 col11\" >0</td>\n",
       "      <td id=\"T_19996_row9_col12\" class=\"data row9 col12\" >84</td>\n",
       "      <td id=\"T_19996_row9_col13\" class=\"data row9 col13\" >206</td>\n",
       "      <td id=\"T_19996_row9_col14\" class=\"data row9 col14\" >254</td>\n",
       "      <td id=\"T_19996_row9_col15\" class=\"data row9 col15\" >254</td>\n",
       "      <td id=\"T_19996_row9_col16\" class=\"data row9 col16\" >254</td>\n",
       "      <td id=\"T_19996_row9_col17\" class=\"data row9 col17\" >254</td>\n",
       "      <td id=\"T_19996_row9_col18\" class=\"data row9 col18\" >41</td>\n",
       "      <td id=\"T_19996_row9_col19\" class=\"data row9 col19\" >0</td>\n",
       "      <td id=\"T_19996_row9_col20\" class=\"data row9 col20\" >0</td>\n",
       "      <td id=\"T_19996_row9_col21\" class=\"data row9 col21\" >0</td>\n",
       "      <td id=\"T_19996_row9_col22\" class=\"data row9 col22\" >0</td>\n",
       "      <td id=\"T_19996_row9_col23\" class=\"data row9 col23\" >0</td>\n",
       "      <td id=\"T_19996_row9_col24\" class=\"data row9 col24\" >0</td>\n",
       "      <td id=\"T_19996_row9_col25\" class=\"data row9 col25\" >0</td>\n",
       "      <td id=\"T_19996_row9_col26\" class=\"data row9 col26\" >0</td>\n",
       "      <td id=\"T_19996_row9_col27\" class=\"data row9 col27\" >0</td>\n",
       "    </tr>\n",
       "    <tr>\n",
       "      <th id=\"T_19996_level0_row10\" class=\"row_heading level0 row10\" >10</th>\n",
       "      <td id=\"T_19996_row10_col0\" class=\"data row10 col0\" >0</td>\n",
       "      <td id=\"T_19996_row10_col1\" class=\"data row10 col1\" >0</td>\n",
       "      <td id=\"T_19996_row10_col2\" class=\"data row10 col2\" >0</td>\n",
       "      <td id=\"T_19996_row10_col3\" class=\"data row10 col3\" >0</td>\n",
       "      <td id=\"T_19996_row10_col4\" class=\"data row10 col4\" >0</td>\n",
       "      <td id=\"T_19996_row10_col5\" class=\"data row10 col5\" >0</td>\n",
       "      <td id=\"T_19996_row10_col6\" class=\"data row10 col6\" >0</td>\n",
       "      <td id=\"T_19996_row10_col7\" class=\"data row10 col7\" >0</td>\n",
       "      <td id=\"T_19996_row10_col8\" class=\"data row10 col8\" >0</td>\n",
       "      <td id=\"T_19996_row10_col9\" class=\"data row10 col9\" >0</td>\n",
       "      <td id=\"T_19996_row10_col10\" class=\"data row10 col10\" >0</td>\n",
       "      <td id=\"T_19996_row10_col11\" class=\"data row10 col11\" >0</td>\n",
       "      <td id=\"T_19996_row10_col12\" class=\"data row10 col12\" >0</td>\n",
       "      <td id=\"T_19996_row10_col13\" class=\"data row10 col13\" >24</td>\n",
       "      <td id=\"T_19996_row10_col14\" class=\"data row10 col14\" >209</td>\n",
       "      <td id=\"T_19996_row10_col15\" class=\"data row10 col15\" >254</td>\n",
       "      <td id=\"T_19996_row10_col16\" class=\"data row10 col16\" >254</td>\n",
       "      <td id=\"T_19996_row10_col17\" class=\"data row10 col17\" >254</td>\n",
       "      <td id=\"T_19996_row10_col18\" class=\"data row10 col18\" >171</td>\n",
       "      <td id=\"T_19996_row10_col19\" class=\"data row10 col19\" >0</td>\n",
       "      <td id=\"T_19996_row10_col20\" class=\"data row10 col20\" >0</td>\n",
       "      <td id=\"T_19996_row10_col21\" class=\"data row10 col21\" >0</td>\n",
       "      <td id=\"T_19996_row10_col22\" class=\"data row10 col22\" >0</td>\n",
       "      <td id=\"T_19996_row10_col23\" class=\"data row10 col23\" >0</td>\n",
       "      <td id=\"T_19996_row10_col24\" class=\"data row10 col24\" >0</td>\n",
       "      <td id=\"T_19996_row10_col25\" class=\"data row10 col25\" >0</td>\n",
       "      <td id=\"T_19996_row10_col26\" class=\"data row10 col26\" >0</td>\n",
       "      <td id=\"T_19996_row10_col27\" class=\"data row10 col27\" >0</td>\n",
       "    </tr>\n",
       "    <tr>\n",
       "      <th id=\"T_19996_level0_row11\" class=\"row_heading level0 row11\" >11</th>\n",
       "      <td id=\"T_19996_row11_col0\" class=\"data row11 col0\" >0</td>\n",
       "      <td id=\"T_19996_row11_col1\" class=\"data row11 col1\" >0</td>\n",
       "      <td id=\"T_19996_row11_col2\" class=\"data row11 col2\" >0</td>\n",
       "      <td id=\"T_19996_row11_col3\" class=\"data row11 col3\" >0</td>\n",
       "      <td id=\"T_19996_row11_col4\" class=\"data row11 col4\" >0</td>\n",
       "      <td id=\"T_19996_row11_col5\" class=\"data row11 col5\" >0</td>\n",
       "      <td id=\"T_19996_row11_col6\" class=\"data row11 col6\" >0</td>\n",
       "      <td id=\"T_19996_row11_col7\" class=\"data row11 col7\" >0</td>\n",
       "      <td id=\"T_19996_row11_col8\" class=\"data row11 col8\" >0</td>\n",
       "      <td id=\"T_19996_row11_col9\" class=\"data row11 col9\" >0</td>\n",
       "      <td id=\"T_19996_row11_col10\" class=\"data row11 col10\" >0</td>\n",
       "      <td id=\"T_19996_row11_col11\" class=\"data row11 col11\" >0</td>\n",
       "      <td id=\"T_19996_row11_col12\" class=\"data row11 col12\" >91</td>\n",
       "      <td id=\"T_19996_row11_col13\" class=\"data row11 col13\" >137</td>\n",
       "      <td id=\"T_19996_row11_col14\" class=\"data row11 col14\" >253</td>\n",
       "      <td id=\"T_19996_row11_col15\" class=\"data row11 col15\" >254</td>\n",
       "      <td id=\"T_19996_row11_col16\" class=\"data row11 col16\" >254</td>\n",
       "      <td id=\"T_19996_row11_col17\" class=\"data row11 col17\" >254</td>\n",
       "      <td id=\"T_19996_row11_col18\" class=\"data row11 col18\" >112</td>\n",
       "      <td id=\"T_19996_row11_col19\" class=\"data row11 col19\" >0</td>\n",
       "      <td id=\"T_19996_row11_col20\" class=\"data row11 col20\" >0</td>\n",
       "      <td id=\"T_19996_row11_col21\" class=\"data row11 col21\" >0</td>\n",
       "      <td id=\"T_19996_row11_col22\" class=\"data row11 col22\" >0</td>\n",
       "      <td id=\"T_19996_row11_col23\" class=\"data row11 col23\" >0</td>\n",
       "      <td id=\"T_19996_row11_col24\" class=\"data row11 col24\" >0</td>\n",
       "      <td id=\"T_19996_row11_col25\" class=\"data row11 col25\" >0</td>\n",
       "      <td id=\"T_19996_row11_col26\" class=\"data row11 col26\" >0</td>\n",
       "      <td id=\"T_19996_row11_col27\" class=\"data row11 col27\" >0</td>\n",
       "    </tr>\n",
       "    <tr>\n",
       "      <th id=\"T_19996_level0_row12\" class=\"row_heading level0 row12\" >12</th>\n",
       "      <td id=\"T_19996_row12_col0\" class=\"data row12 col0\" >0</td>\n",
       "      <td id=\"T_19996_row12_col1\" class=\"data row12 col1\" >0</td>\n",
       "      <td id=\"T_19996_row12_col2\" class=\"data row12 col2\" >0</td>\n",
       "      <td id=\"T_19996_row12_col3\" class=\"data row12 col3\" >0</td>\n",
       "      <td id=\"T_19996_row12_col4\" class=\"data row12 col4\" >0</td>\n",
       "      <td id=\"T_19996_row12_col5\" class=\"data row12 col5\" >0</td>\n",
       "      <td id=\"T_19996_row12_col6\" class=\"data row12 col6\" >0</td>\n",
       "      <td id=\"T_19996_row12_col7\" class=\"data row12 col7\" >0</td>\n",
       "      <td id=\"T_19996_row12_col8\" class=\"data row12 col8\" >0</td>\n",
       "      <td id=\"T_19996_row12_col9\" class=\"data row12 col9\" >0</td>\n",
       "      <td id=\"T_19996_row12_col10\" class=\"data row12 col10\" >40</td>\n",
       "      <td id=\"T_19996_row12_col11\" class=\"data row12 col11\" >214</td>\n",
       "      <td id=\"T_19996_row12_col12\" class=\"data row12 col12\" >250</td>\n",
       "      <td id=\"T_19996_row12_col13\" class=\"data row12 col13\" >254</td>\n",
       "      <td id=\"T_19996_row12_col14\" class=\"data row12 col14\" >254</td>\n",
       "      <td id=\"T_19996_row12_col15\" class=\"data row12 col15\" >254</td>\n",
       "      <td id=\"T_19996_row12_col16\" class=\"data row12 col16\" >254</td>\n",
       "      <td id=\"T_19996_row12_col17\" class=\"data row12 col17\" >254</td>\n",
       "      <td id=\"T_19996_row12_col18\" class=\"data row12 col18\" >34</td>\n",
       "      <td id=\"T_19996_row12_col19\" class=\"data row12 col19\" >0</td>\n",
       "      <td id=\"T_19996_row12_col20\" class=\"data row12 col20\" >0</td>\n",
       "      <td id=\"T_19996_row12_col21\" class=\"data row12 col21\" >0</td>\n",
       "      <td id=\"T_19996_row12_col22\" class=\"data row12 col22\" >0</td>\n",
       "      <td id=\"T_19996_row12_col23\" class=\"data row12 col23\" >0</td>\n",
       "      <td id=\"T_19996_row12_col24\" class=\"data row12 col24\" >0</td>\n",
       "      <td id=\"T_19996_row12_col25\" class=\"data row12 col25\" >0</td>\n",
       "      <td id=\"T_19996_row12_col26\" class=\"data row12 col26\" >0</td>\n",
       "      <td id=\"T_19996_row12_col27\" class=\"data row12 col27\" >0</td>\n",
       "    </tr>\n",
       "    <tr>\n",
       "      <th id=\"T_19996_level0_row13\" class=\"row_heading level0 row13\" >13</th>\n",
       "      <td id=\"T_19996_row13_col0\" class=\"data row13 col0\" >0</td>\n",
       "      <td id=\"T_19996_row13_col1\" class=\"data row13 col1\" >0</td>\n",
       "      <td id=\"T_19996_row13_col2\" class=\"data row13 col2\" >0</td>\n",
       "      <td id=\"T_19996_row13_col3\" class=\"data row13 col3\" >0</td>\n",
       "      <td id=\"T_19996_row13_col4\" class=\"data row13 col4\" >0</td>\n",
       "      <td id=\"T_19996_row13_col5\" class=\"data row13 col5\" >0</td>\n",
       "      <td id=\"T_19996_row13_col6\" class=\"data row13 col6\" >0</td>\n",
       "      <td id=\"T_19996_row13_col7\" class=\"data row13 col7\" >0</td>\n",
       "      <td id=\"T_19996_row13_col8\" class=\"data row13 col8\" >0</td>\n",
       "      <td id=\"T_19996_row13_col9\" class=\"data row13 col9\" >0</td>\n",
       "      <td id=\"T_19996_row13_col10\" class=\"data row13 col10\" >81</td>\n",
       "      <td id=\"T_19996_row13_col11\" class=\"data row13 col11\" >247</td>\n",
       "      <td id=\"T_19996_row13_col12\" class=\"data row13 col12\" >254</td>\n",
       "      <td id=\"T_19996_row13_col13\" class=\"data row13 col13\" >254</td>\n",
       "      <td id=\"T_19996_row13_col14\" class=\"data row13 col14\" >254</td>\n",
       "      <td id=\"T_19996_row13_col15\" class=\"data row13 col15\" >254</td>\n",
       "      <td id=\"T_19996_row13_col16\" class=\"data row13 col16\" >254</td>\n",
       "      <td id=\"T_19996_row13_col17\" class=\"data row13 col17\" >254</td>\n",
       "      <td id=\"T_19996_row13_col18\" class=\"data row13 col18\" >146</td>\n",
       "      <td id=\"T_19996_row13_col19\" class=\"data row13 col19\" >0</td>\n",
       "      <td id=\"T_19996_row13_col20\" class=\"data row13 col20\" >0</td>\n",
       "      <td id=\"T_19996_row13_col21\" class=\"data row13 col21\" >0</td>\n",
       "      <td id=\"T_19996_row13_col22\" class=\"data row13 col22\" >0</td>\n",
       "      <td id=\"T_19996_row13_col23\" class=\"data row13 col23\" >0</td>\n",
       "      <td id=\"T_19996_row13_col24\" class=\"data row13 col24\" >0</td>\n",
       "      <td id=\"T_19996_row13_col25\" class=\"data row13 col25\" >0</td>\n",
       "      <td id=\"T_19996_row13_col26\" class=\"data row13 col26\" >0</td>\n",
       "      <td id=\"T_19996_row13_col27\" class=\"data row13 col27\" >0</td>\n",
       "    </tr>\n",
       "    <tr>\n",
       "      <th id=\"T_19996_level0_row14\" class=\"row_heading level0 row14\" >14</th>\n",
       "      <td id=\"T_19996_row14_col0\" class=\"data row14 col0\" >0</td>\n",
       "      <td id=\"T_19996_row14_col1\" class=\"data row14 col1\" >0</td>\n",
       "      <td id=\"T_19996_row14_col2\" class=\"data row14 col2\" >0</td>\n",
       "      <td id=\"T_19996_row14_col3\" class=\"data row14 col3\" >0</td>\n",
       "      <td id=\"T_19996_row14_col4\" class=\"data row14 col4\" >0</td>\n",
       "      <td id=\"T_19996_row14_col5\" class=\"data row14 col5\" >0</td>\n",
       "      <td id=\"T_19996_row14_col6\" class=\"data row14 col6\" >0</td>\n",
       "      <td id=\"T_19996_row14_col7\" class=\"data row14 col7\" >0</td>\n",
       "      <td id=\"T_19996_row14_col8\" class=\"data row14 col8\" >0</td>\n",
       "      <td id=\"T_19996_row14_col9\" class=\"data row14 col9\" >0</td>\n",
       "      <td id=\"T_19996_row14_col10\" class=\"data row14 col10\" >0</td>\n",
       "      <td id=\"T_19996_row14_col11\" class=\"data row14 col11\" >110</td>\n",
       "      <td id=\"T_19996_row14_col12\" class=\"data row14 col12\" >246</td>\n",
       "      <td id=\"T_19996_row14_col13\" class=\"data row14 col13\" >254</td>\n",
       "      <td id=\"T_19996_row14_col14\" class=\"data row14 col14\" >254</td>\n",
       "      <td id=\"T_19996_row14_col15\" class=\"data row14 col15\" >254</td>\n",
       "      <td id=\"T_19996_row14_col16\" class=\"data row14 col16\" >254</td>\n",
       "      <td id=\"T_19996_row14_col17\" class=\"data row14 col17\" >254</td>\n",
       "      <td id=\"T_19996_row14_col18\" class=\"data row14 col18\" >171</td>\n",
       "      <td id=\"T_19996_row14_col19\" class=\"data row14 col19\" >0</td>\n",
       "      <td id=\"T_19996_row14_col20\" class=\"data row14 col20\" >0</td>\n",
       "      <td id=\"T_19996_row14_col21\" class=\"data row14 col21\" >0</td>\n",
       "      <td id=\"T_19996_row14_col22\" class=\"data row14 col22\" >0</td>\n",
       "      <td id=\"T_19996_row14_col23\" class=\"data row14 col23\" >0</td>\n",
       "      <td id=\"T_19996_row14_col24\" class=\"data row14 col24\" >0</td>\n",
       "      <td id=\"T_19996_row14_col25\" class=\"data row14 col25\" >0</td>\n",
       "      <td id=\"T_19996_row14_col26\" class=\"data row14 col26\" >0</td>\n",
       "      <td id=\"T_19996_row14_col27\" class=\"data row14 col27\" >0</td>\n",
       "    </tr>\n",
       "    <tr>\n",
       "      <th id=\"T_19996_level0_row15\" class=\"row_heading level0 row15\" >15</th>\n",
       "      <td id=\"T_19996_row15_col0\" class=\"data row15 col0\" >0</td>\n",
       "      <td id=\"T_19996_row15_col1\" class=\"data row15 col1\" >0</td>\n",
       "      <td id=\"T_19996_row15_col2\" class=\"data row15 col2\" >0</td>\n",
       "      <td id=\"T_19996_row15_col3\" class=\"data row15 col3\" >0</td>\n",
       "      <td id=\"T_19996_row15_col4\" class=\"data row15 col4\" >0</td>\n",
       "      <td id=\"T_19996_row15_col5\" class=\"data row15 col5\" >0</td>\n",
       "      <td id=\"T_19996_row15_col6\" class=\"data row15 col6\" >0</td>\n",
       "      <td id=\"T_19996_row15_col7\" class=\"data row15 col7\" >0</td>\n",
       "      <td id=\"T_19996_row15_col8\" class=\"data row15 col8\" >0</td>\n",
       "      <td id=\"T_19996_row15_col9\" class=\"data row15 col9\" >0</td>\n",
       "      <td id=\"T_19996_row15_col10\" class=\"data row15 col10\" >0</td>\n",
       "      <td id=\"T_19996_row15_col11\" class=\"data row15 col11\" >0</td>\n",
       "      <td id=\"T_19996_row15_col12\" class=\"data row15 col12\" >73</td>\n",
       "      <td id=\"T_19996_row15_col13\" class=\"data row15 col13\" >89</td>\n",
       "      <td id=\"T_19996_row15_col14\" class=\"data row15 col14\" >89</td>\n",
       "      <td id=\"T_19996_row15_col15\" class=\"data row15 col15\" >93</td>\n",
       "      <td id=\"T_19996_row15_col16\" class=\"data row15 col16\" >240</td>\n",
       "      <td id=\"T_19996_row15_col17\" class=\"data row15 col17\" >254</td>\n",
       "      <td id=\"T_19996_row15_col18\" class=\"data row15 col18\" >171</td>\n",
       "      <td id=\"T_19996_row15_col19\" class=\"data row15 col19\" >0</td>\n",
       "      <td id=\"T_19996_row15_col20\" class=\"data row15 col20\" >0</td>\n",
       "      <td id=\"T_19996_row15_col21\" class=\"data row15 col21\" >0</td>\n",
       "      <td id=\"T_19996_row15_col22\" class=\"data row15 col22\" >0</td>\n",
       "      <td id=\"T_19996_row15_col23\" class=\"data row15 col23\" >0</td>\n",
       "      <td id=\"T_19996_row15_col24\" class=\"data row15 col24\" >0</td>\n",
       "      <td id=\"T_19996_row15_col25\" class=\"data row15 col25\" >0</td>\n",
       "      <td id=\"T_19996_row15_col26\" class=\"data row15 col26\" >0</td>\n",
       "      <td id=\"T_19996_row15_col27\" class=\"data row15 col27\" >0</td>\n",
       "    </tr>\n",
       "    <tr>\n",
       "      <th id=\"T_19996_level0_row16\" class=\"row_heading level0 row16\" >16</th>\n",
       "      <td id=\"T_19996_row16_col0\" class=\"data row16 col0\" >0</td>\n",
       "      <td id=\"T_19996_row16_col1\" class=\"data row16 col1\" >0</td>\n",
       "      <td id=\"T_19996_row16_col2\" class=\"data row16 col2\" >0</td>\n",
       "      <td id=\"T_19996_row16_col3\" class=\"data row16 col3\" >0</td>\n",
       "      <td id=\"T_19996_row16_col4\" class=\"data row16 col4\" >0</td>\n",
       "      <td id=\"T_19996_row16_col5\" class=\"data row16 col5\" >0</td>\n",
       "      <td id=\"T_19996_row16_col6\" class=\"data row16 col6\" >0</td>\n",
       "      <td id=\"T_19996_row16_col7\" class=\"data row16 col7\" >0</td>\n",
       "      <td id=\"T_19996_row16_col8\" class=\"data row16 col8\" >0</td>\n",
       "      <td id=\"T_19996_row16_col9\" class=\"data row16 col9\" >0</td>\n",
       "      <td id=\"T_19996_row16_col10\" class=\"data row16 col10\" >0</td>\n",
       "      <td id=\"T_19996_row16_col11\" class=\"data row16 col11\" >0</td>\n",
       "      <td id=\"T_19996_row16_col12\" class=\"data row16 col12\" >0</td>\n",
       "      <td id=\"T_19996_row16_col13\" class=\"data row16 col13\" >0</td>\n",
       "      <td id=\"T_19996_row16_col14\" class=\"data row16 col14\" >0</td>\n",
       "      <td id=\"T_19996_row16_col15\" class=\"data row16 col15\" >1</td>\n",
       "      <td id=\"T_19996_row16_col16\" class=\"data row16 col16\" >128</td>\n",
       "      <td id=\"T_19996_row16_col17\" class=\"data row16 col17\" >254</td>\n",
       "      <td id=\"T_19996_row16_col18\" class=\"data row16 col18\" >219</td>\n",
       "      <td id=\"T_19996_row16_col19\" class=\"data row16 col19\" >31</td>\n",
       "      <td id=\"T_19996_row16_col20\" class=\"data row16 col20\" >0</td>\n",
       "      <td id=\"T_19996_row16_col21\" class=\"data row16 col21\" >0</td>\n",
       "      <td id=\"T_19996_row16_col22\" class=\"data row16 col22\" >0</td>\n",
       "      <td id=\"T_19996_row16_col23\" class=\"data row16 col23\" >0</td>\n",
       "      <td id=\"T_19996_row16_col24\" class=\"data row16 col24\" >0</td>\n",
       "      <td id=\"T_19996_row16_col25\" class=\"data row16 col25\" >0</td>\n",
       "      <td id=\"T_19996_row16_col26\" class=\"data row16 col26\" >0</td>\n",
       "      <td id=\"T_19996_row16_col27\" class=\"data row16 col27\" >0</td>\n",
       "    </tr>\n",
       "    <tr>\n",
       "      <th id=\"T_19996_level0_row17\" class=\"row_heading level0 row17\" >17</th>\n",
       "      <td id=\"T_19996_row17_col0\" class=\"data row17 col0\" >0</td>\n",
       "      <td id=\"T_19996_row17_col1\" class=\"data row17 col1\" >0</td>\n",
       "      <td id=\"T_19996_row17_col2\" class=\"data row17 col2\" >0</td>\n",
       "      <td id=\"T_19996_row17_col3\" class=\"data row17 col3\" >0</td>\n",
       "      <td id=\"T_19996_row17_col4\" class=\"data row17 col4\" >0</td>\n",
       "      <td id=\"T_19996_row17_col5\" class=\"data row17 col5\" >0</td>\n",
       "      <td id=\"T_19996_row17_col6\" class=\"data row17 col6\" >0</td>\n",
       "      <td id=\"T_19996_row17_col7\" class=\"data row17 col7\" >0</td>\n",
       "      <td id=\"T_19996_row17_col8\" class=\"data row17 col8\" >0</td>\n",
       "      <td id=\"T_19996_row17_col9\" class=\"data row17 col9\" >0</td>\n",
       "      <td id=\"T_19996_row17_col10\" class=\"data row17 col10\" >0</td>\n",
       "      <td id=\"T_19996_row17_col11\" class=\"data row17 col11\" >0</td>\n",
       "      <td id=\"T_19996_row17_col12\" class=\"data row17 col12\" >0</td>\n",
       "      <td id=\"T_19996_row17_col13\" class=\"data row17 col13\" >0</td>\n",
       "      <td id=\"T_19996_row17_col14\" class=\"data row17 col14\" >0</td>\n",
       "      <td id=\"T_19996_row17_col15\" class=\"data row17 col15\" >7</td>\n",
       "      <td id=\"T_19996_row17_col16\" class=\"data row17 col16\" >254</td>\n",
       "      <td id=\"T_19996_row17_col17\" class=\"data row17 col17\" >254</td>\n",
       "      <td id=\"T_19996_row17_col18\" class=\"data row17 col18\" >214</td>\n",
       "      <td id=\"T_19996_row17_col19\" class=\"data row17 col19\" >28</td>\n",
       "      <td id=\"T_19996_row17_col20\" class=\"data row17 col20\" >0</td>\n",
       "      <td id=\"T_19996_row17_col21\" class=\"data row17 col21\" >0</td>\n",
       "      <td id=\"T_19996_row17_col22\" class=\"data row17 col22\" >0</td>\n",
       "      <td id=\"T_19996_row17_col23\" class=\"data row17 col23\" >0</td>\n",
       "      <td id=\"T_19996_row17_col24\" class=\"data row17 col24\" >0</td>\n",
       "      <td id=\"T_19996_row17_col25\" class=\"data row17 col25\" >0</td>\n",
       "      <td id=\"T_19996_row17_col26\" class=\"data row17 col26\" >0</td>\n",
       "      <td id=\"T_19996_row17_col27\" class=\"data row17 col27\" >0</td>\n",
       "    </tr>\n",
       "    <tr>\n",
       "      <th id=\"T_19996_level0_row18\" class=\"row_heading level0 row18\" >18</th>\n",
       "      <td id=\"T_19996_row18_col0\" class=\"data row18 col0\" >0</td>\n",
       "      <td id=\"T_19996_row18_col1\" class=\"data row18 col1\" >0</td>\n",
       "      <td id=\"T_19996_row18_col2\" class=\"data row18 col2\" >0</td>\n",
       "      <td id=\"T_19996_row18_col3\" class=\"data row18 col3\" >0</td>\n",
       "      <td id=\"T_19996_row18_col4\" class=\"data row18 col4\" >0</td>\n",
       "      <td id=\"T_19996_row18_col5\" class=\"data row18 col5\" >0</td>\n",
       "      <td id=\"T_19996_row18_col6\" class=\"data row18 col6\" >0</td>\n",
       "      <td id=\"T_19996_row18_col7\" class=\"data row18 col7\" >0</td>\n",
       "      <td id=\"T_19996_row18_col8\" class=\"data row18 col8\" >0</td>\n",
       "      <td id=\"T_19996_row18_col9\" class=\"data row18 col9\" >0</td>\n",
       "      <td id=\"T_19996_row18_col10\" class=\"data row18 col10\" >0</td>\n",
       "      <td id=\"T_19996_row18_col11\" class=\"data row18 col11\" >0</td>\n",
       "      <td id=\"T_19996_row18_col12\" class=\"data row18 col12\" >0</td>\n",
       "      <td id=\"T_19996_row18_col13\" class=\"data row18 col13\" >0</td>\n",
       "      <td id=\"T_19996_row18_col14\" class=\"data row18 col14\" >0</td>\n",
       "      <td id=\"T_19996_row18_col15\" class=\"data row18 col15\" >138</td>\n",
       "      <td id=\"T_19996_row18_col16\" class=\"data row18 col16\" >254</td>\n",
       "      <td id=\"T_19996_row18_col17\" class=\"data row18 col17\" >254</td>\n",
       "      <td id=\"T_19996_row18_col18\" class=\"data row18 col18\" >116</td>\n",
       "      <td id=\"T_19996_row18_col19\" class=\"data row18 col19\" >0</td>\n",
       "      <td id=\"T_19996_row18_col20\" class=\"data row18 col20\" >0</td>\n",
       "      <td id=\"T_19996_row18_col21\" class=\"data row18 col21\" >0</td>\n",
       "      <td id=\"T_19996_row18_col22\" class=\"data row18 col22\" >0</td>\n",
       "      <td id=\"T_19996_row18_col23\" class=\"data row18 col23\" >0</td>\n",
       "      <td id=\"T_19996_row18_col24\" class=\"data row18 col24\" >0</td>\n",
       "      <td id=\"T_19996_row18_col25\" class=\"data row18 col25\" >0</td>\n",
       "      <td id=\"T_19996_row18_col26\" class=\"data row18 col26\" >0</td>\n",
       "      <td id=\"T_19996_row18_col27\" class=\"data row18 col27\" >0</td>\n",
       "    </tr>\n",
       "    <tr>\n",
       "      <th id=\"T_19996_level0_row19\" class=\"row_heading level0 row19\" >19</th>\n",
       "      <td id=\"T_19996_row19_col0\" class=\"data row19 col0\" >0</td>\n",
       "      <td id=\"T_19996_row19_col1\" class=\"data row19 col1\" >0</td>\n",
       "      <td id=\"T_19996_row19_col2\" class=\"data row19 col2\" >0</td>\n",
       "      <td id=\"T_19996_row19_col3\" class=\"data row19 col3\" >0</td>\n",
       "      <td id=\"T_19996_row19_col4\" class=\"data row19 col4\" >0</td>\n",
       "      <td id=\"T_19996_row19_col5\" class=\"data row19 col5\" >0</td>\n",
       "      <td id=\"T_19996_row19_col6\" class=\"data row19 col6\" >19</td>\n",
       "      <td id=\"T_19996_row19_col7\" class=\"data row19 col7\" >177</td>\n",
       "      <td id=\"T_19996_row19_col8\" class=\"data row19 col8\" >90</td>\n",
       "      <td id=\"T_19996_row19_col9\" class=\"data row19 col9\" >0</td>\n",
       "      <td id=\"T_19996_row19_col10\" class=\"data row19 col10\" >0</td>\n",
       "      <td id=\"T_19996_row19_col11\" class=\"data row19 col11\" >0</td>\n",
       "      <td id=\"T_19996_row19_col12\" class=\"data row19 col12\" >0</td>\n",
       "      <td id=\"T_19996_row19_col13\" class=\"data row19 col13\" >0</td>\n",
       "      <td id=\"T_19996_row19_col14\" class=\"data row19 col14\" >25</td>\n",
       "      <td id=\"T_19996_row19_col15\" class=\"data row19 col15\" >240</td>\n",
       "      <td id=\"T_19996_row19_col16\" class=\"data row19 col16\" >254</td>\n",
       "      <td id=\"T_19996_row19_col17\" class=\"data row19 col17\" >254</td>\n",
       "      <td id=\"T_19996_row19_col18\" class=\"data row19 col18\" >34</td>\n",
       "      <td id=\"T_19996_row19_col19\" class=\"data row19 col19\" >0</td>\n",
       "      <td id=\"T_19996_row19_col20\" class=\"data row19 col20\" >0</td>\n",
       "      <td id=\"T_19996_row19_col21\" class=\"data row19 col21\" >0</td>\n",
       "      <td id=\"T_19996_row19_col22\" class=\"data row19 col22\" >0</td>\n",
       "      <td id=\"T_19996_row19_col23\" class=\"data row19 col23\" >0</td>\n",
       "      <td id=\"T_19996_row19_col24\" class=\"data row19 col24\" >0</td>\n",
       "      <td id=\"T_19996_row19_col25\" class=\"data row19 col25\" >0</td>\n",
       "      <td id=\"T_19996_row19_col26\" class=\"data row19 col26\" >0</td>\n",
       "      <td id=\"T_19996_row19_col27\" class=\"data row19 col27\" >0</td>\n",
       "    </tr>\n",
       "    <tr>\n",
       "      <th id=\"T_19996_level0_row20\" class=\"row_heading level0 row20\" >20</th>\n",
       "      <td id=\"T_19996_row20_col0\" class=\"data row20 col0\" >0</td>\n",
       "      <td id=\"T_19996_row20_col1\" class=\"data row20 col1\" >0</td>\n",
       "      <td id=\"T_19996_row20_col2\" class=\"data row20 col2\" >0</td>\n",
       "      <td id=\"T_19996_row20_col3\" class=\"data row20 col3\" >0</td>\n",
       "      <td id=\"T_19996_row20_col4\" class=\"data row20 col4\" >0</td>\n",
       "      <td id=\"T_19996_row20_col5\" class=\"data row20 col5\" >0</td>\n",
       "      <td id=\"T_19996_row20_col6\" class=\"data row20 col6\" >164</td>\n",
       "      <td id=\"T_19996_row20_col7\" class=\"data row20 col7\" >254</td>\n",
       "      <td id=\"T_19996_row20_col8\" class=\"data row20 col8\" >215</td>\n",
       "      <td id=\"T_19996_row20_col9\" class=\"data row20 col9\" >63</td>\n",
       "      <td id=\"T_19996_row20_col10\" class=\"data row20 col10\" >36</td>\n",
       "      <td id=\"T_19996_row20_col11\" class=\"data row20 col11\" >0</td>\n",
       "      <td id=\"T_19996_row20_col12\" class=\"data row20 col12\" >51</td>\n",
       "      <td id=\"T_19996_row20_col13\" class=\"data row20 col13\" >89</td>\n",
       "      <td id=\"T_19996_row20_col14\" class=\"data row20 col14\" >206</td>\n",
       "      <td id=\"T_19996_row20_col15\" class=\"data row20 col15\" >254</td>\n",
       "      <td id=\"T_19996_row20_col16\" class=\"data row20 col16\" >254</td>\n",
       "      <td id=\"T_19996_row20_col17\" class=\"data row20 col17\" >139</td>\n",
       "      <td id=\"T_19996_row20_col18\" class=\"data row20 col18\" >8</td>\n",
       "      <td id=\"T_19996_row20_col19\" class=\"data row20 col19\" >0</td>\n",
       "      <td id=\"T_19996_row20_col20\" class=\"data row20 col20\" >0</td>\n",
       "      <td id=\"T_19996_row20_col21\" class=\"data row20 col21\" >0</td>\n",
       "      <td id=\"T_19996_row20_col22\" class=\"data row20 col22\" >0</td>\n",
       "      <td id=\"T_19996_row20_col23\" class=\"data row20 col23\" >0</td>\n",
       "      <td id=\"T_19996_row20_col24\" class=\"data row20 col24\" >0</td>\n",
       "      <td id=\"T_19996_row20_col25\" class=\"data row20 col25\" >0</td>\n",
       "      <td id=\"T_19996_row20_col26\" class=\"data row20 col26\" >0</td>\n",
       "      <td id=\"T_19996_row20_col27\" class=\"data row20 col27\" >0</td>\n",
       "    </tr>\n",
       "    <tr>\n",
       "      <th id=\"T_19996_level0_row21\" class=\"row_heading level0 row21\" >21</th>\n",
       "      <td id=\"T_19996_row21_col0\" class=\"data row21 col0\" >0</td>\n",
       "      <td id=\"T_19996_row21_col1\" class=\"data row21 col1\" >0</td>\n",
       "      <td id=\"T_19996_row21_col2\" class=\"data row21 col2\" >0</td>\n",
       "      <td id=\"T_19996_row21_col3\" class=\"data row21 col3\" >0</td>\n",
       "      <td id=\"T_19996_row21_col4\" class=\"data row21 col4\" >0</td>\n",
       "      <td id=\"T_19996_row21_col5\" class=\"data row21 col5\" >0</td>\n",
       "      <td id=\"T_19996_row21_col6\" class=\"data row21 col6\" >57</td>\n",
       "      <td id=\"T_19996_row21_col7\" class=\"data row21 col7\" >197</td>\n",
       "      <td id=\"T_19996_row21_col8\" class=\"data row21 col8\" >254</td>\n",
       "      <td id=\"T_19996_row21_col9\" class=\"data row21 col9\" >254</td>\n",
       "      <td id=\"T_19996_row21_col10\" class=\"data row21 col10\" >222</td>\n",
       "      <td id=\"T_19996_row21_col11\" class=\"data row21 col11\" >180</td>\n",
       "      <td id=\"T_19996_row21_col12\" class=\"data row21 col12\" >241</td>\n",
       "      <td id=\"T_19996_row21_col13\" class=\"data row21 col13\" >254</td>\n",
       "      <td id=\"T_19996_row21_col14\" class=\"data row21 col14\" >254</td>\n",
       "      <td id=\"T_19996_row21_col15\" class=\"data row21 col15\" >253</td>\n",
       "      <td id=\"T_19996_row21_col16\" class=\"data row21 col16\" >213</td>\n",
       "      <td id=\"T_19996_row21_col17\" class=\"data row21 col17\" >11</td>\n",
       "      <td id=\"T_19996_row21_col18\" class=\"data row21 col18\" >0</td>\n",
       "      <td id=\"T_19996_row21_col19\" class=\"data row21 col19\" >0</td>\n",
       "      <td id=\"T_19996_row21_col20\" class=\"data row21 col20\" >0</td>\n",
       "      <td id=\"T_19996_row21_col21\" class=\"data row21 col21\" >0</td>\n",
       "      <td id=\"T_19996_row21_col22\" class=\"data row21 col22\" >0</td>\n",
       "      <td id=\"T_19996_row21_col23\" class=\"data row21 col23\" >0</td>\n",
       "      <td id=\"T_19996_row21_col24\" class=\"data row21 col24\" >0</td>\n",
       "      <td id=\"T_19996_row21_col25\" class=\"data row21 col25\" >0</td>\n",
       "      <td id=\"T_19996_row21_col26\" class=\"data row21 col26\" >0</td>\n",
       "      <td id=\"T_19996_row21_col27\" class=\"data row21 col27\" >0</td>\n",
       "    </tr>\n",
       "    <tr>\n",
       "      <th id=\"T_19996_level0_row22\" class=\"row_heading level0 row22\" >22</th>\n",
       "      <td id=\"T_19996_row22_col0\" class=\"data row22 col0\" >0</td>\n",
       "      <td id=\"T_19996_row22_col1\" class=\"data row22 col1\" >0</td>\n",
       "      <td id=\"T_19996_row22_col2\" class=\"data row22 col2\" >0</td>\n",
       "      <td id=\"T_19996_row22_col3\" class=\"data row22 col3\" >0</td>\n",
       "      <td id=\"T_19996_row22_col4\" class=\"data row22 col4\" >0</td>\n",
       "      <td id=\"T_19996_row22_col5\" class=\"data row22 col5\" >0</td>\n",
       "      <td id=\"T_19996_row22_col6\" class=\"data row22 col6\" >0</td>\n",
       "      <td id=\"T_19996_row22_col7\" class=\"data row22 col7\" >140</td>\n",
       "      <td id=\"T_19996_row22_col8\" class=\"data row22 col8\" >105</td>\n",
       "      <td id=\"T_19996_row22_col9\" class=\"data row22 col9\" >254</td>\n",
       "      <td id=\"T_19996_row22_col10\" class=\"data row22 col10\" >254</td>\n",
       "      <td id=\"T_19996_row22_col11\" class=\"data row22 col11\" >254</td>\n",
       "      <td id=\"T_19996_row22_col12\" class=\"data row22 col12\" >254</td>\n",
       "      <td id=\"T_19996_row22_col13\" class=\"data row22 col13\" >254</td>\n",
       "      <td id=\"T_19996_row22_col14\" class=\"data row22 col14\" >254</td>\n",
       "      <td id=\"T_19996_row22_col15\" class=\"data row22 col15\" >236</td>\n",
       "      <td id=\"T_19996_row22_col16\" class=\"data row22 col16\" >0</td>\n",
       "      <td id=\"T_19996_row22_col17\" class=\"data row22 col17\" >0</td>\n",
       "      <td id=\"T_19996_row22_col18\" class=\"data row22 col18\" >0</td>\n",
       "      <td id=\"T_19996_row22_col19\" class=\"data row22 col19\" >0</td>\n",
       "      <td id=\"T_19996_row22_col20\" class=\"data row22 col20\" >0</td>\n",
       "      <td id=\"T_19996_row22_col21\" class=\"data row22 col21\" >0</td>\n",
       "      <td id=\"T_19996_row22_col22\" class=\"data row22 col22\" >0</td>\n",
       "      <td id=\"T_19996_row22_col23\" class=\"data row22 col23\" >0</td>\n",
       "      <td id=\"T_19996_row22_col24\" class=\"data row22 col24\" >0</td>\n",
       "      <td id=\"T_19996_row22_col25\" class=\"data row22 col25\" >0</td>\n",
       "      <td id=\"T_19996_row22_col26\" class=\"data row22 col26\" >0</td>\n",
       "      <td id=\"T_19996_row22_col27\" class=\"data row22 col27\" >0</td>\n",
       "    </tr>\n",
       "    <tr>\n",
       "      <th id=\"T_19996_level0_row23\" class=\"row_heading level0 row23\" >23</th>\n",
       "      <td id=\"T_19996_row23_col0\" class=\"data row23 col0\" >0</td>\n",
       "      <td id=\"T_19996_row23_col1\" class=\"data row23 col1\" >0</td>\n",
       "      <td id=\"T_19996_row23_col2\" class=\"data row23 col2\" >0</td>\n",
       "      <td id=\"T_19996_row23_col3\" class=\"data row23 col3\" >0</td>\n",
       "      <td id=\"T_19996_row23_col4\" class=\"data row23 col4\" >0</td>\n",
       "      <td id=\"T_19996_row23_col5\" class=\"data row23 col5\" >0</td>\n",
       "      <td id=\"T_19996_row23_col6\" class=\"data row23 col6\" >0</td>\n",
       "      <td id=\"T_19996_row23_col7\" class=\"data row23 col7\" >0</td>\n",
       "      <td id=\"T_19996_row23_col8\" class=\"data row23 col8\" >7</td>\n",
       "      <td id=\"T_19996_row23_col9\" class=\"data row23 col9\" >117</td>\n",
       "      <td id=\"T_19996_row23_col10\" class=\"data row23 col10\" >117</td>\n",
       "      <td id=\"T_19996_row23_col11\" class=\"data row23 col11\" >165</td>\n",
       "      <td id=\"T_19996_row23_col12\" class=\"data row23 col12\" >254</td>\n",
       "      <td id=\"T_19996_row23_col13\" class=\"data row23 col13\" >254</td>\n",
       "      <td id=\"T_19996_row23_col14\" class=\"data row23 col14\" >239</td>\n",
       "      <td id=\"T_19996_row23_col15\" class=\"data row23 col15\" >50</td>\n",
       "      <td id=\"T_19996_row23_col16\" class=\"data row23 col16\" >0</td>\n",
       "      <td id=\"T_19996_row23_col17\" class=\"data row23 col17\" >0</td>\n",
       "      <td id=\"T_19996_row23_col18\" class=\"data row23 col18\" >0</td>\n",
       "      <td id=\"T_19996_row23_col19\" class=\"data row23 col19\" >0</td>\n",
       "      <td id=\"T_19996_row23_col20\" class=\"data row23 col20\" >0</td>\n",
       "      <td id=\"T_19996_row23_col21\" class=\"data row23 col21\" >0</td>\n",
       "      <td id=\"T_19996_row23_col22\" class=\"data row23 col22\" >0</td>\n",
       "      <td id=\"T_19996_row23_col23\" class=\"data row23 col23\" >0</td>\n",
       "      <td id=\"T_19996_row23_col24\" class=\"data row23 col24\" >0</td>\n",
       "      <td id=\"T_19996_row23_col25\" class=\"data row23 col25\" >0</td>\n",
       "      <td id=\"T_19996_row23_col26\" class=\"data row23 col26\" >0</td>\n",
       "      <td id=\"T_19996_row23_col27\" class=\"data row23 col27\" >0</td>\n",
       "    </tr>\n",
       "    <tr>\n",
       "      <th id=\"T_19996_level0_row24\" class=\"row_heading level0 row24\" >24</th>\n",
       "      <td id=\"T_19996_row24_col0\" class=\"data row24 col0\" >0</td>\n",
       "      <td id=\"T_19996_row24_col1\" class=\"data row24 col1\" >0</td>\n",
       "      <td id=\"T_19996_row24_col2\" class=\"data row24 col2\" >0</td>\n",
       "      <td id=\"T_19996_row24_col3\" class=\"data row24 col3\" >0</td>\n",
       "      <td id=\"T_19996_row24_col4\" class=\"data row24 col4\" >0</td>\n",
       "      <td id=\"T_19996_row24_col5\" class=\"data row24 col5\" >0</td>\n",
       "      <td id=\"T_19996_row24_col6\" class=\"data row24 col6\" >0</td>\n",
       "      <td id=\"T_19996_row24_col7\" class=\"data row24 col7\" >0</td>\n",
       "      <td id=\"T_19996_row24_col8\" class=\"data row24 col8\" >0</td>\n",
       "      <td id=\"T_19996_row24_col9\" class=\"data row24 col9\" >0</td>\n",
       "      <td id=\"T_19996_row24_col10\" class=\"data row24 col10\" >0</td>\n",
       "      <td id=\"T_19996_row24_col11\" class=\"data row24 col11\" >0</td>\n",
       "      <td id=\"T_19996_row24_col12\" class=\"data row24 col12\" >0</td>\n",
       "      <td id=\"T_19996_row24_col13\" class=\"data row24 col13\" >0</td>\n",
       "      <td id=\"T_19996_row24_col14\" class=\"data row24 col14\" >0</td>\n",
       "      <td id=\"T_19996_row24_col15\" class=\"data row24 col15\" >0</td>\n",
       "      <td id=\"T_19996_row24_col16\" class=\"data row24 col16\" >0</td>\n",
       "      <td id=\"T_19996_row24_col17\" class=\"data row24 col17\" >0</td>\n",
       "      <td id=\"T_19996_row24_col18\" class=\"data row24 col18\" >0</td>\n",
       "      <td id=\"T_19996_row24_col19\" class=\"data row24 col19\" >0</td>\n",
       "      <td id=\"T_19996_row24_col20\" class=\"data row24 col20\" >0</td>\n",
       "      <td id=\"T_19996_row24_col21\" class=\"data row24 col21\" >0</td>\n",
       "      <td id=\"T_19996_row24_col22\" class=\"data row24 col22\" >0</td>\n",
       "      <td id=\"T_19996_row24_col23\" class=\"data row24 col23\" >0</td>\n",
       "      <td id=\"T_19996_row24_col24\" class=\"data row24 col24\" >0</td>\n",
       "      <td id=\"T_19996_row24_col25\" class=\"data row24 col25\" >0</td>\n",
       "      <td id=\"T_19996_row24_col26\" class=\"data row24 col26\" >0</td>\n",
       "      <td id=\"T_19996_row24_col27\" class=\"data row24 col27\" >0</td>\n",
       "    </tr>\n",
       "    <tr>\n",
       "      <th id=\"T_19996_level0_row25\" class=\"row_heading level0 row25\" >25</th>\n",
       "      <td id=\"T_19996_row25_col0\" class=\"data row25 col0\" >0</td>\n",
       "      <td id=\"T_19996_row25_col1\" class=\"data row25 col1\" >0</td>\n",
       "      <td id=\"T_19996_row25_col2\" class=\"data row25 col2\" >0</td>\n",
       "      <td id=\"T_19996_row25_col3\" class=\"data row25 col3\" >0</td>\n",
       "      <td id=\"T_19996_row25_col4\" class=\"data row25 col4\" >0</td>\n",
       "      <td id=\"T_19996_row25_col5\" class=\"data row25 col5\" >0</td>\n",
       "      <td id=\"T_19996_row25_col6\" class=\"data row25 col6\" >0</td>\n",
       "      <td id=\"T_19996_row25_col7\" class=\"data row25 col7\" >0</td>\n",
       "      <td id=\"T_19996_row25_col8\" class=\"data row25 col8\" >0</td>\n",
       "      <td id=\"T_19996_row25_col9\" class=\"data row25 col9\" >0</td>\n",
       "      <td id=\"T_19996_row25_col10\" class=\"data row25 col10\" >0</td>\n",
       "      <td id=\"T_19996_row25_col11\" class=\"data row25 col11\" >0</td>\n",
       "      <td id=\"T_19996_row25_col12\" class=\"data row25 col12\" >0</td>\n",
       "      <td id=\"T_19996_row25_col13\" class=\"data row25 col13\" >0</td>\n",
       "      <td id=\"T_19996_row25_col14\" class=\"data row25 col14\" >0</td>\n",
       "      <td id=\"T_19996_row25_col15\" class=\"data row25 col15\" >0</td>\n",
       "      <td id=\"T_19996_row25_col16\" class=\"data row25 col16\" >0</td>\n",
       "      <td id=\"T_19996_row25_col17\" class=\"data row25 col17\" >0</td>\n",
       "      <td id=\"T_19996_row25_col18\" class=\"data row25 col18\" >0</td>\n",
       "      <td id=\"T_19996_row25_col19\" class=\"data row25 col19\" >0</td>\n",
       "      <td id=\"T_19996_row25_col20\" class=\"data row25 col20\" >0</td>\n",
       "      <td id=\"T_19996_row25_col21\" class=\"data row25 col21\" >0</td>\n",
       "      <td id=\"T_19996_row25_col22\" class=\"data row25 col22\" >0</td>\n",
       "      <td id=\"T_19996_row25_col23\" class=\"data row25 col23\" >0</td>\n",
       "      <td id=\"T_19996_row25_col24\" class=\"data row25 col24\" >0</td>\n",
       "      <td id=\"T_19996_row25_col25\" class=\"data row25 col25\" >0</td>\n",
       "      <td id=\"T_19996_row25_col26\" class=\"data row25 col26\" >0</td>\n",
       "      <td id=\"T_19996_row25_col27\" class=\"data row25 col27\" >0</td>\n",
       "    </tr>\n",
       "    <tr>\n",
       "      <th id=\"T_19996_level0_row26\" class=\"row_heading level0 row26\" >26</th>\n",
       "      <td id=\"T_19996_row26_col0\" class=\"data row26 col0\" >0</td>\n",
       "      <td id=\"T_19996_row26_col1\" class=\"data row26 col1\" >0</td>\n",
       "      <td id=\"T_19996_row26_col2\" class=\"data row26 col2\" >0</td>\n",
       "      <td id=\"T_19996_row26_col3\" class=\"data row26 col3\" >0</td>\n",
       "      <td id=\"T_19996_row26_col4\" class=\"data row26 col4\" >0</td>\n",
       "      <td id=\"T_19996_row26_col5\" class=\"data row26 col5\" >0</td>\n",
       "      <td id=\"T_19996_row26_col6\" class=\"data row26 col6\" >0</td>\n",
       "      <td id=\"T_19996_row26_col7\" class=\"data row26 col7\" >0</td>\n",
       "      <td id=\"T_19996_row26_col8\" class=\"data row26 col8\" >0</td>\n",
       "      <td id=\"T_19996_row26_col9\" class=\"data row26 col9\" >0</td>\n",
       "      <td id=\"T_19996_row26_col10\" class=\"data row26 col10\" >0</td>\n",
       "      <td id=\"T_19996_row26_col11\" class=\"data row26 col11\" >0</td>\n",
       "      <td id=\"T_19996_row26_col12\" class=\"data row26 col12\" >0</td>\n",
       "      <td id=\"T_19996_row26_col13\" class=\"data row26 col13\" >0</td>\n",
       "      <td id=\"T_19996_row26_col14\" class=\"data row26 col14\" >0</td>\n",
       "      <td id=\"T_19996_row26_col15\" class=\"data row26 col15\" >0</td>\n",
       "      <td id=\"T_19996_row26_col16\" class=\"data row26 col16\" >0</td>\n",
       "      <td id=\"T_19996_row26_col17\" class=\"data row26 col17\" >0</td>\n",
       "      <td id=\"T_19996_row26_col18\" class=\"data row26 col18\" >0</td>\n",
       "      <td id=\"T_19996_row26_col19\" class=\"data row26 col19\" >0</td>\n",
       "      <td id=\"T_19996_row26_col20\" class=\"data row26 col20\" >0</td>\n",
       "      <td id=\"T_19996_row26_col21\" class=\"data row26 col21\" >0</td>\n",
       "      <td id=\"T_19996_row26_col22\" class=\"data row26 col22\" >0</td>\n",
       "      <td id=\"T_19996_row26_col23\" class=\"data row26 col23\" >0</td>\n",
       "      <td id=\"T_19996_row26_col24\" class=\"data row26 col24\" >0</td>\n",
       "      <td id=\"T_19996_row26_col25\" class=\"data row26 col25\" >0</td>\n",
       "      <td id=\"T_19996_row26_col26\" class=\"data row26 col26\" >0</td>\n",
       "      <td id=\"T_19996_row26_col27\" class=\"data row26 col27\" >0</td>\n",
       "    </tr>\n",
       "    <tr>\n",
       "      <th id=\"T_19996_level0_row27\" class=\"row_heading level0 row27\" >27</th>\n",
       "      <td id=\"T_19996_row27_col0\" class=\"data row27 col0\" >0</td>\n",
       "      <td id=\"T_19996_row27_col1\" class=\"data row27 col1\" >0</td>\n",
       "      <td id=\"T_19996_row27_col2\" class=\"data row27 col2\" >0</td>\n",
       "      <td id=\"T_19996_row27_col3\" class=\"data row27 col3\" >0</td>\n",
       "      <td id=\"T_19996_row27_col4\" class=\"data row27 col4\" >0</td>\n",
       "      <td id=\"T_19996_row27_col5\" class=\"data row27 col5\" >0</td>\n",
       "      <td id=\"T_19996_row27_col6\" class=\"data row27 col6\" >0</td>\n",
       "      <td id=\"T_19996_row27_col7\" class=\"data row27 col7\" >0</td>\n",
       "      <td id=\"T_19996_row27_col8\" class=\"data row27 col8\" >0</td>\n",
       "      <td id=\"T_19996_row27_col9\" class=\"data row27 col9\" >0</td>\n",
       "      <td id=\"T_19996_row27_col10\" class=\"data row27 col10\" >0</td>\n",
       "      <td id=\"T_19996_row27_col11\" class=\"data row27 col11\" >0</td>\n",
       "      <td id=\"T_19996_row27_col12\" class=\"data row27 col12\" >0</td>\n",
       "      <td id=\"T_19996_row27_col13\" class=\"data row27 col13\" >0</td>\n",
       "      <td id=\"T_19996_row27_col14\" class=\"data row27 col14\" >0</td>\n",
       "      <td id=\"T_19996_row27_col15\" class=\"data row27 col15\" >0</td>\n",
       "      <td id=\"T_19996_row27_col16\" class=\"data row27 col16\" >0</td>\n",
       "      <td id=\"T_19996_row27_col17\" class=\"data row27 col17\" >0</td>\n",
       "      <td id=\"T_19996_row27_col18\" class=\"data row27 col18\" >0</td>\n",
       "      <td id=\"T_19996_row27_col19\" class=\"data row27 col19\" >0</td>\n",
       "      <td id=\"T_19996_row27_col20\" class=\"data row27 col20\" >0</td>\n",
       "      <td id=\"T_19996_row27_col21\" class=\"data row27 col21\" >0</td>\n",
       "      <td id=\"T_19996_row27_col22\" class=\"data row27 col22\" >0</td>\n",
       "      <td id=\"T_19996_row27_col23\" class=\"data row27 col23\" >0</td>\n",
       "      <td id=\"T_19996_row27_col24\" class=\"data row27 col24\" >0</td>\n",
       "      <td id=\"T_19996_row27_col25\" class=\"data row27 col25\" >0</td>\n",
       "      <td id=\"T_19996_row27_col26\" class=\"data row27 col26\" >0</td>\n",
       "      <td id=\"T_19996_row27_col27\" class=\"data row27 col27\" >0</td>\n",
       "    </tr>\n",
       "  </tbody>\n",
       "</table>\n"
      ],
      "text/plain": [
       "<pandas.io.formats.style.Styler at 0x7efb59848520>"
      ]
     },
     "execution_count": 99,
     "metadata": {},
     "output_type": "execute_result"
    }
   ],
   "source": [
    "df = pd.DataFrame(im3Tensor)\n",
    "df.style.set_properties(**{'font-size':'6pt'}).background_gradient('Greys')"
   ]
  },
  {
   "cell_type": "code",
   "execution_count": 100,
   "id": "96384537",
   "metadata": {},
   "outputs": [],
   "source": [
    "# Prior to training any models, we will take a baseline approach of averaging the pixels for each of the 3's\n",
    "# and 7's, baselines are important becuase they area a benchmark for comparison and aid with the \n",
    "# decision whether to pursue more complicated methods to achieve a sufficient solution."
   ]
  },
  {
   "cell_type": "code",
   "execution_count": 101,
   "id": "4baf5baf",
   "metadata": {},
   "outputs": [
    {
     "data": {
      "text/plain": [
       "(6131, 6265)"
      ]
     },
     "execution_count": 101,
     "metadata": {},
     "output_type": "execute_result"
    }
   ],
   "source": [
    "three_tensors = [tensor(Image.open(o)) for o in threes]\n",
    "seven_tensors = [tensor(Image.open(o)) for o in sevens]\n",
    "len(three_tensors), len(seven_tensors)"
   ]
  },
  {
   "cell_type": "code",
   "execution_count": 102,
   "id": "f830c613",
   "metadata": {},
   "outputs": [
    {
     "data": {
      "text/plain": [
       "(torch.Size([28, 28]), torch.Size([28, 28]))"
      ]
     },
     "execution_count": 102,
     "metadata": {},
     "output_type": "execute_result"
    }
   ],
   "source": [
    "three_tensors[1].shape, seven_tensors[1].shape"
   ]
  },
  {
   "cell_type": "code",
   "execution_count": 103,
   "id": "7ff6e757",
   "metadata": {},
   "outputs": [],
   "source": [
    "# We stack the tensors and convert to float to include decimal values and divide by 255 to convert\n",
    "# the output from 0 - 1\n",
    "stacked_threes = torch.stack(three_tensors).float()/255\n",
    "stacked_sevens = torch.stack(seven_tensors).float()/255\n"
   ]
  },
  {
   "cell_type": "code",
   "execution_count": 104,
   "id": "67914ef5",
   "metadata": {},
   "outputs": [
    {
     "data": {
      "text/plain": [
       "(torch.Size([6131, 28, 28]), torch.Size([6265, 28, 28]))"
      ]
     },
     "execution_count": 104,
     "metadata": {},
     "output_type": "execute_result"
    }
   ],
   "source": [
    "# Here we can observe the shape of the tensor\n",
    "stacked_threes.shape,stacked_sevens.shape"
   ]
  },
  {
   "cell_type": "code",
   "execution_count": 105,
   "id": "cae65c0d",
   "metadata": {},
   "outputs": [
    {
     "data": {
      "text/plain": [
       "(3, 3)"
      ]
     },
     "execution_count": 105,
     "metadata": {},
     "output_type": "execute_result"
    }
   ],
   "source": [
    "# We can also view the rank of the tensor by taking the length of the shape\n",
    "len(stacked_threes.shape), len(stacked_sevens.shape)"
   ]
  },
  {
   "cell_type": "code",
   "execution_count": 106,
   "id": "7d740a11",
   "metadata": {},
   "outputs": [
    {
     "data": {
      "text/plain": [
       "(3, 3)"
      ]
     },
     "execution_count": 106,
     "metadata": {},
     "output_type": "execute_result"
    }
   ],
   "source": [
    "# The rank is represents the number of dimensions, known as the axis of the tensor\n",
    "stacked_threes.ndim, stacked_sevens.ndim"
   ]
  },
  {
   "cell_type": "code",
   "execution_count": 107,
   "id": "02e346ae",
   "metadata": {},
   "outputs": [
    {
     "data": {
      "text/plain": [
       "torch.Size([28, 28])"
      ]
     },
     "execution_count": 107,
     "metadata": {},
     "output_type": "execute_result"
    }
   ],
   "source": [
    "# Now we take the average of the all the pixels in all the images, the shape is reduced to reflect one averaged image\n",
    "mean3 = stacked_threes.mean(0)\n",
    "mean3.shape"
   ]
  },
  {
   "cell_type": "code",
   "execution_count": 108,
   "id": "46985231",
   "metadata": {},
   "outputs": [
    {
     "data": {
      "text/plain": [
       "torch.Size([28, 28])"
      ]
     },
     "execution_count": 108,
     "metadata": {},
     "output_type": "execute_result"
    }
   ],
   "source": [
    "# Now we take the average of the all the pixels in all the images,  the shape is reduced to reflect one averaged image\n",
    "mean7 = stacked_sevens.mean(0)\n",
    "mean7.shape"
   ]
  },
  {
   "cell_type": "code",
   "execution_count": 109,
   "id": "55d93164",
   "metadata": {},
   "outputs": [
    {
     "data": {
      "text/plain": [
       "(<AxesSubplot:>, <AxesSubplot:>)"
      ]
     },
     "execution_count": 109,
     "metadata": {},
     "output_type": "execute_result"
    },
    {
     "data": {
      "image/png": "[encoded data removed]",
      "text/plain": [
       "<Figure size 72x72 with 1 Axes>"
      ]
     },
     "metadata": {
      "needs_background": "light"
     },
     "output_type": "display_data"
    },
    {
     "data": {
      "image/png": "[encoded data removed]",
      "text/plain": [
       "<Figure size 72x72 with 1 Axes>"
      ]
     },
     "metadata": {
      "needs_background": "light"
     },
     "output_type": "display_data"
    }
   ],
   "source": [
    "show_image(mean3), show_image(mean7)"
   ]
  },
  {
   "cell_type": "code",
   "execution_count": 110,
   "id": "c0da60dd",
   "metadata": {},
   "outputs": [
    {
     "data": {
      "text/plain": [
       "torch.Size([28, 28])"
      ]
     },
     "execution_count": 110,
     "metadata": {},
     "output_type": "execute_result"
    },
    {
     "data": {
      "image/png": "[encoded data removed]",
      "text/plain": [
       "<Figure size 72x72 with 1 Axes>"
      ]
     },
     "metadata": {
      "needs_background": "light"
     },
     "output_type": "display_data"
    }
   ],
   "source": [
    "a_3 = stacked_threes[1]\n",
    "show_image(a_3)\n",
    "a_3.shape"
   ]
  },
  {
   "cell_type": "code",
   "execution_count": 111,
   "id": "c102b4f5",
   "metadata": {},
   "outputs": [
    {
     "data": {
      "text/plain": [
       "(tensor(0.1114), tensor(0.2021))"
      ]
     },
     "execution_count": 111,
     "metadata": {},
     "output_type": "execute_result"
    }
   ],
   "source": [
    "# To avoid negative values, we may take two approaches:\n",
    "\n",
    "# Option 1: Mean Absolute Difference \n",
    "dist_3_abs = (a_3 - mean3).abs().mean()\n",
    "\n",
    "# Option 2: Root Mean Square\n",
    "dist_3_sqr = pow((a_3 - mean3),2).mean().sqrt()\n",
    "\n",
    "dist_3_abs, dist_3_sqr"
   ]
  },
  {
   "cell_type": "code",
   "execution_count": 112,
   "id": "91c123c2",
   "metadata": {},
   "outputs": [
    {
     "data": {
      "text/plain": [
       "(tensor(0.1586), tensor(0.3021))"
      ]
     },
     "execution_count": 112,
     "metadata": {},
     "output_type": "execute_result"
    }
   ],
   "source": [
    "# Now, comparing this image with a seven, we will see a number that is farther than zero, meaning this\n",
    "# value is more likely to be a seven than a three\n",
    "\n",
    "# Option 1: Mean Absolute Difference \n",
    "dist_7_abs = (a_3 - mean7).abs().mean()\n",
    "\n",
    "# Option 2: Root Mean Square\n",
    "              \n",
    "dist_7_sqr = pow((a_3 - mean7),2).mean().sqrt()\n",
    "\n",
    "dist_7_abs, dist_7_sqr"
   ]
  },
  {
   "cell_type": "code",
   "execution_count": 113,
   "id": "e32fdee9",
   "metadata": {},
   "outputs": [
    {
     "data": {
      "text/plain": [
       "(tensor(0.1586), tensor(0.3021))"
      ]
     },
     "execution_count": 113,
     "metadata": {},
     "output_type": "execute_result"
    }
   ],
   "source": [
    "# These above options are conveniently macroed in Pytorch\n",
    "F.l1_loss(a_3.float(),mean7), F.mse_loss(a_3,mean7).sqrt()"
   ]
  },
  {
   "cell_type": "code",
   "execution_count": 114,
   "id": "de1929f2",
   "metadata": {},
   "outputs": [
    {
     "data": {
      "text/plain": [
       "(torch.Size([1010, 28, 28]), torch.Size([1010, 28, 28]))"
      ]
     },
     "execution_count": 114,
     "metadata": {},
     "output_type": "execute_result"
    }
   ],
   "source": [
    "three_valid_tensors = torch.stack([tensor(Image.open(o)) for o in (path/'valid'/'3').ls().sorted()])\n",
    "three_valid_tensors = three_valid_tensors.float()/255\n",
    "seven_valid_tensors = torch.stack([tensor(Image.open(o)) for o in (path/'valid'/'7').ls().sorted()])\n",
    "seven_valid_tensors = three_valid_tensors.float()/255\n",
    "\n",
    "three_valid_tensors.shape, seven_valid_tensors.shape"
   ]
  },
  {
   "cell_type": "code",
   "execution_count": 115,
   "id": "af62d970",
   "metadata": {},
   "outputs": [
    {
     "data": {
      "text/plain": [
       "tensor(0.1114)"
      ]
     },
     "execution_count": 115,
     "metadata": {},
     "output_type": "execute_result"
    }
   ],
   "source": [
    "def mnist_distance(a,b): return (a-b).abs().mean((-1,-2))\n",
    "\n",
    "mnist_distance(a_3,mean3)"
   ]
  },
  {
   "cell_type": "code",
   "execution_count": 116,
   "id": "b6df85ed",
   "metadata": {},
   "outputs": [
    {
     "data": {
      "text/plain": [
       "(tensor([0.1280, 0.1623, 0.1242,  ..., 0.1508, 0.1263, 0.1260]),\n",
       " torch.Size([1010]))"
      ]
     },
     "execution_count": 116,
     "metadata": {},
     "output_type": "execute_result"
    }
   ],
   "source": [
    "# Demonstrating the power of broadcasting!\n",
    "# See here for more details: https://deeplizard.com/learn/video/6_33ulFDuCg\n",
    "# It is a good rule of thumbe to utilize this over loops whenever possible for computational bandwidth\n",
    "valid_3_dist = mnist_distance(three_valid_tensors,mean3)\n",
    "valid_3_dist,valid_3_dist.shape"
   ]
  },
  {
   "cell_type": "code",
   "execution_count": 117,
   "id": "0e0ed1ec",
   "metadata": {},
   "outputs": [],
   "source": [
    "# Here is our little boolean function to compare 3's and 7's\n",
    "def is_3(x): return mnist_distance(x,mean3)<mnist_distance(x,mean7)"
   ]
  },
  {
   "cell_type": "code",
   "execution_count": 118,
   "id": "49a61fd5",
   "metadata": {},
   "outputs": [
    {
     "data": {
      "text/plain": [
       "(tensor(True), tensor(1.))"
      ]
     },
     "execution_count": 118,
     "metadata": {},
     "output_type": "execute_result"
    }
   ],
   "source": [
    "# Using a single image\n",
    "is_3(a_3), is_3(a_3).float()"
   ]
  },
  {
   "cell_type": "code",
   "execution_count": 119,
   "id": "55fae17a",
   "metadata": {},
   "outputs": [
    {
     "data": {
      "text/plain": [
       "(tensor([ True,  True,  True,  ..., False,  True,  True]),\n",
       " tensor([1., 1., 1.,  ..., 0., 1., 1.]))"
      ]
     },
     "execution_count": 119,
     "metadata": {},
     "output_type": "execute_result"
    }
   ],
   "source": [
    "# Another Demo using the power of broadcasting\n",
    "is_3(three_valid_tensors), is_3(three_valid_tensors).float()"
   ]
  },
  {
   "cell_type": "code",
   "execution_count": 120,
   "id": "ca92d3c6",
   "metadata": {},
   "outputs": [
    {
     "data": {
      "text/plain": [
       "(tensor(0.9168), tensor(1.), tensor(0.9584))"
      ]
     },
     "execution_count": 120,
     "metadata": {},
     "output_type": "execute_result"
    }
   ],
   "source": [
    "# Using Our ability to cast to a float, lets calculate a percentage:\n",
    "\n",
    "percent_3 = is_3(three_valid_tensors).float().mean()\n",
    "\n",
    "percent_7 = (1 - is_3(seven_valid_tensors).float()).mean()\n",
    "\n",
    "\n",
    "percent_3, percent_7, (percent_3+percent_7)/2"
   ]
  },
  {
   "cell_type": "code",
   "execution_count": 121,
   "id": "b5d94ac2",
   "metadata": {},
   "outputs": [],
   "source": [
    "def parabola(x): return pow(x,2)"
   ]
  },
  {
   "cell_type": "code",
   "execution_count": 122,
   "id": "c1485e77",
   "metadata": {},
   "outputs": [],
   "source": [
    "def plot_function(f, tx=None, ty=None, title=None, min=-2, max=2, figsize=(6,4)):\n",
    "    x = torch.linspace(min,max,100)\n",
    "    fig,ax = plt.subplots(figsize=figsize)\n",
    "    ax.plot(x,f(x))\n",
    "    if tx is not None: ax.set_xlabel(tx)\n",
    "    if ty is not None: ax.set_ylabel(ty)\n",
    "    if title is not None: ax.set_title(title)\n",
    "plot_function?"
   ]
  },
  {
   "cell_type": "code",
   "execution_count": 123,
   "id": "f4153219",
   "metadata": {},
   "outputs": [
    {
     "data": {
      "image/png": "[encoded data removed]",
      "text/plain": [
       "<Figure size 432x288 with 1 Axes>"
      ]
     },
     "metadata": {
      "needs_background": "light"
     },
     "output_type": "display_data"
    }
   ],
   "source": [
    "plot_function(parabola, 'x', 'x_squared')"
   ]
  },
  {
   "cell_type": "code",
   "execution_count": 124,
   "id": "c8c0eb60",
   "metadata": {},
   "outputs": [
    {
     "data": {
      "image/png": "[encoded data removed]",
      "text/plain": [
       "<Figure size 432x288 with 1 Axes>"
      ]
     },
     "metadata": {
      "needs_background": "light"
     },
     "output_type": "display_data"
    }
   ],
   "source": [
    "plot_function(parabola, 'x', 'x**2')\n",
    "plt.scatter(-1.5, parabola(-1.5), color='red');"
   ]
  },
  {
   "cell_type": "code",
   "execution_count": 125,
   "id": "0c3e0d70",
   "metadata": {},
   "outputs": [],
   "source": [
    "# We will now demonstrate how to use Pytorch libraries to calculate the gradient, using Calculus\n",
    "\n",
    "# The requires_grad_ macro is an in place operation that modifies the tensor to track it as it goes through\n",
    "# Operations in order to calculate the derivative as it goes through various operations\n",
    "xt = tensor(3.).requires_grad_()"
   ]
  },
  {
   "cell_type": "code",
   "execution_count": 126,
   "id": "881add7b",
   "metadata": {},
   "outputs": [
    {
     "data": {
      "text/plain": [
       "tensor(9., grad_fn=<PowBackward0>)"
      ]
     },
     "execution_count": 126,
     "metadata": {},
     "output_type": "execute_result"
    }
   ],
   "source": [
    "# Here we pass in the function that is accompanied by the 'grad_fn', which realizes that we are\n",
    "# Dealing with a power funtion\n",
    "yt = parabola(xt)\n",
    "yt"
   ]
  },
  {
   "cell_type": "code",
   "execution_count": 127,
   "id": "c0e2769f",
   "metadata": {},
   "outputs": [],
   "source": [
    "# This backward method is analagous to Backpropagation, and calculated the derivative of the passed value 'xt'\n",
    "yt.backward()"
   ]
  },
  {
   "cell_type": "code",
   "execution_count": 128,
   "id": "f51fd41c",
   "metadata": {},
   "outputs": [
    {
     "data": {
      "text/plain": [
       "tensor(6.)"
      ]
     },
     "execution_count": 128,
     "metadata": {},
     "output_type": "execute_result"
    }
   ],
   "source": [
    "# We call the grad attribute to display the dervative\n",
    "xt.grad"
   ]
  },
  {
   "cell_type": "code",
   "execution_count": 129,
   "id": "4828a424",
   "metadata": {},
   "outputs": [],
   "source": [
    "# Vector Calculus\n",
    "# we add sum to our function so it can take a vector (i.e., a rank-1 tensor), and return a scalar\n",
    "def parabola(x): return (x**2).sum()"
   ]
  },
  {
   "cell_type": "code",
   "execution_count": 130,
   "id": "41f03923",
   "metadata": {},
   "outputs": [],
   "source": [
    "# Similarly..\n",
    "xt = tensor([3.,5.,7.]).requires_grad_()\n",
    "yt = parabola(xt)"
   ]
  },
  {
   "cell_type": "code",
   "execution_count": 131,
   "id": "93436aa6",
   "metadata": {},
   "outputs": [
    {
     "data": {
      "text/plain": [
       "tensor([ 6., 10., 14.])"
      ]
     },
     "execution_count": 131,
     "metadata": {},
     "output_type": "execute_result"
    }
   ],
   "source": [
    "yt.backward()\n",
    "xt.grad"
   ]
  },
  {
   "cell_type": "code",
   "execution_count": 132,
   "id": "0989495b",
   "metadata": {},
   "outputs": [
    {
     "data": {
      "text/plain": [
       "tensor([ 0.,  1.,  2.,  3.,  4.,  5.,  6.,  7.,  8.,  9., 10., 11., 12., 13., 14., 15., 16., 17., 18., 19.])"
      ]
     },
     "execution_count": 132,
     "metadata": {},
     "output_type": "execute_result"
    }
   ],
   "source": [
    "# Okay, we picked up some handy syntax for gradient calculation, lets try a gradient descent problem!\n",
    "\n",
    "# We start with by setting the x - axis\n",
    "time = torch.arange(0,20).float()\n",
    "\n",
    "time"
   ]
  },
  {
   "cell_type": "code",
   "execution_count": 133,
   "id": "88fe0024",
   "metadata": {},
   "outputs": [
    {
     "data": {
      "image/png": "[encoded data removed]",
      "text/plain": [
       "<Figure size 432x288 with 1 Axes>"
      ]
     },
     "metadata": {
      "needs_background": "light"
     },
     "output_type": "display_data"
    }
   ],
   "source": [
    "# We set the values through using 20 random values in a quadratic function with some added noise\n",
    "speed = torch.randn(20)*3 + 0.75*(time-9.5)**2 + 1\n",
    "plt.scatter(time,speed);"
   ]
  },
  {
   "cell_type": "code",
   "execution_count": 134,
   "id": "5009a993",
   "metadata": {},
   "outputs": [],
   "source": [
    "# Taking a educated guess, we might say this follows a quadratic function, so we create a function \n",
    "# With plugin values for the constants\n",
    "def f(t, params):\n",
    "    a,b,c = params\n",
    "    return a*(t**2) + (b*t) + c"
   ]
  },
  {
   "cell_type": "code",
   "execution_count": 135,
   "id": "7d7d3594",
   "metadata": {},
   "outputs": [],
   "source": [
    "# Now we choose a loss function that would allow us to correct and improve the prediction\n",
    "# For continuous data, a good choice would be mean squared error\n",
    "\n",
    "def mse(pred, targets): return (pow((pred-targets),2).mean().sqrt())"
   ]
  },
  {
   "cell_type": "code",
   "execution_count": 136,
   "id": "14d1902f",
   "metadata": {},
   "outputs": [],
   "source": [
    "# First, we initialize the parameters to random values, and tell PyTorch that we want to track their gradients, \n",
    "# using requires_grad_\n",
    "\n",
    "params = tensor(torch.randn(3)).requires_grad_()\n",
    "\n",
    "# Saved for later use\n",
    "params_orig = params.clone()"
   ]
  },
  {
   "cell_type": "code",
   "execution_count": 137,
   "id": "0942da30",
   "metadata": {},
   "outputs": [
    {
     "data": {
      "text/plain": [
       "tensor([ 1.3525e+00, -1.6391e-01, -3.2121e+00, -7.7919e+00, -1.3903e+01, -2.1547e+01, -3.0721e+01, -4.1428e+01, -5.3666e+01, -6.7436e+01, -8.2738e+01, -9.9571e+01, -1.1794e+02, -1.3783e+02,\n",
       "        -1.5926e+02, -1.8222e+02, -2.0671e+02, -2.3274e+02, -2.6029e+02, -2.8938e+02], grad_fn=<AddBackward0>)"
      ]
     },
     "execution_count": 137,
     "metadata": {},
     "output_type": "execute_result"
    }
   ],
   "source": [
    "# Iteration 1 \n",
    "iter_1 = f(time,params)\n",
    "iter_1"
   ]
  },
  {
   "cell_type": "code",
   "execution_count": 138,
   "id": "a7b7105e",
   "metadata": {},
   "outputs": [],
   "source": [
    "# Here we have a simple function to visualize our results\n",
    "def show_preds(preds, ax=None):\n",
    "    if ax is None: ax=plt.subplots()[1]\n",
    "    ax.scatter(time, speed)\n",
    "    ax.scatter(time, to_np(preds), color='red')\n",
    "    ax.set_ylim(-300,100)"
   ]
  },
  {
   "cell_type": "code",
   "execution_count": 139,
   "id": "8eac394f",
   "metadata": {},
   "outputs": [
    {
     "data": {
      "image/png": "[encoded data removed]",
      "text/plain": [
       "<Figure size 432x288 with 1 Axes>"
      ]
     },
     "metadata": {
      "needs_background": "light"
     },
     "output_type": "display_data"
    }
   ],
   "source": [
    "show_preds(iter_1)"
   ]
  },
  {
   "cell_type": "code",
   "execution_count": 140,
   "id": "121cd3d3",
   "metadata": {},
   "outputs": [
    {
     "data": {
      "text/plain": [
       "tensor(160.6979, grad_fn=<SqrtBackward0>)"
      ]
     },
     "execution_count": 140,
     "metadata": {},
     "output_type": "execute_result"
    }
   ],
   "source": [
    "# taking the loss of the first iteration\n",
    "loss = mse(iter_1, speed)\n",
    "loss"
   ]
  },
  {
   "cell_type": "code",
   "execution_count": 141,
   "id": "e4b8153d",
   "metadata": {},
   "outputs": [
    {
     "data": {
      "text/plain": [
       "tensor([-165.5151,  -10.6402,   -0.7900])"
      ]
     },
     "execution_count": 141,
     "metadata": {},
     "output_type": "execute_result"
    }
   ],
   "source": [
    "# taking the gradient\n",
    "loss.backward()\n",
    "params.grad"
   ]
  },
  {
   "cell_type": "code",
   "execution_count": 142,
   "id": "9c1df7be",
   "metadata": {},
   "outputs": [
    {
     "data": {
      "text/plain": [
       "tensor([-1.6552e-03, -1.0640e-04, -7.8996e-06])"
      ]
     },
     "execution_count": 142,
     "metadata": {},
     "output_type": "execute_result"
    }
   ],
   "source": [
    "# lets assign an arbitrary step size for this gradient\n",
    "# This is known as the learning rate\n",
    "params.grad * 1e-5"
   ]
  },
  {
   "cell_type": "code",
   "execution_count": 143,
   "id": "69a204da",
   "metadata": {},
   "outputs": [
    {
     "data": {
      "text/plain": [
       "tensor([-165.5151,  -10.6402,   -0.7900])"
      ]
     },
     "execution_count": 143,
     "metadata": {},
     "output_type": "execute_result"
    }
   ],
   "source": [
    "params.grad"
   ]
  },
  {
   "cell_type": "code",
   "execution_count": 144,
   "id": "1fe9434b",
   "metadata": {},
   "outputs": [],
   "source": [
    "#To calculate the gradients we call backward on the loss. \n",
    "#But this loss was itself calculated by mse, which in turn took 'iter_1' as an input, \n",
    "#which was calculated using f taking as an input params, \n",
    "#which was the object on which we originally called required_grads_\n",
    "#—which is the original call that now allows us to call backward on loss. \n",
    "#This chain of function calls represents the mathematical composition of functions, \n",
    "#which enables PyTorch to use calculus's chain rule under the hood to calculate these gradients.\n",
    "# Stepping the weights\n",
    "\n",
    "# Calling the 'data' attribute prevents the gradient from being calculated in this operation as\n",
    "# it is being tracked\n",
    "lr = 1e-5\n",
    "params.data -= lr*params.grad.data\n",
    "params.grad = None"
   ]
  },
  {
   "cell_type": "code",
   "execution_count": 145,
   "id": "9eb29fa1",
   "metadata": {},
   "outputs": [
    {
     "data": {
      "text/plain": [
       "tensor(160.4228, grad_fn=<SqrtBackward0>)"
      ]
     },
     "execution_count": 145,
     "metadata": {},
     "output_type": "execute_result"
    }
   ],
   "source": [
    "preds = f(time, params)\n",
    "mse(preds,speed)"
   ]
  },
  {
   "cell_type": "code",
   "execution_count": 146,
   "id": "e6a10d57",
   "metadata": {},
   "outputs": [],
   "source": [
    "# Lets clean the above steps with a function to complete one iteration of this process\n",
    "def apply_step(params, prn = True): \n",
    "    preds = f(time,params)\n",
    "    loss = mse(preds, speed)\n",
    "    loss.backward()\n",
    "    params.grad\n",
    "    params.data -= lr*params.grad.data\n",
    "    params.grad = None\n",
    "    if prn: print(loss.item())\n",
    "    return preds\n",
    "    \n",
    "    "
   ]
  },
  {
   "cell_type": "code",
   "execution_count": 147,
   "id": "a0fe675c",
   "metadata": {},
   "outputs": [
    {
     "name": "stdout",
     "output_type": "stream",
     "text": [
      "160.42279052734375\n",
      "160.14772033691406\n",
      "159.87269592285156\n",
      "159.59768676757812\n",
      "159.3227081298828\n",
      "159.04774475097656\n",
      "158.7728271484375\n",
      "158.4979248046875\n",
      "158.22305297851562\n",
      "157.9481964111328\n"
     ]
    }
   ],
   "source": [
    "# Going the the iterations, we can see some steady improvements\n",
    "for o in range(10):\n",
    "    preds = apply_step(params)"
   ]
  },
  {
   "cell_type": "code",
   "execution_count": 148,
   "id": "4c46f698",
   "metadata": {},
   "outputs": [
    {
     "data": {
      "image/png": "[encoded data removed]",
      "text/plain": [
       "<Figure size 432x288 with 1 Axes>"
      ]
     },
     "metadata": {
      "needs_background": "light"
     },
     "output_type": "display_data"
    }
   ],
   "source": [
    "show_preds(preds)"
   ]
  },
  {
   "cell_type": "code",
   "execution_count": 149,
   "id": "37a442fd",
   "metadata": {},
   "outputs": [
    {
     "name": "stdout",
     "output_type": "stream",
     "text": [
      "157.67337036132812\n",
      "157.39857482910156\n",
      "157.12380981445312\n",
      "156.84906005859375\n",
      "156.5743408203125\n",
      "156.29966735839844\n",
      "156.02499389648438\n",
      "155.75035095214844\n",
      "155.4757537841797\n",
      "155.20118713378906\n",
      "154.92662048339844\n",
      "154.65211486816406\n",
      "154.37762451171875\n",
      "154.1031494140625\n",
      "153.82872009277344\n",
      "153.55430603027344\n",
      "153.27992248535156\n",
      "153.0055694580078\n",
      "152.73126220703125\n",
      "152.4569549560547\n",
      "152.18270874023438\n",
      "151.90847778320312\n",
      "151.63426208496094\n",
      "151.36009216308594\n",
      "151.08595275878906\n",
      "150.81185913085938\n",
      "150.5377655029297\n",
      "150.26370239257812\n",
      "149.9897003173828\n",
      "149.71571350097656\n",
      "149.44175720214844\n",
      "149.16783142089844\n",
      "148.89393615722656\n",
      "148.6200714111328\n",
      "148.3462371826172\n",
      "148.0724334716797\n",
      "147.79867553710938\n",
      "147.52493286132812\n",
      "147.25123596191406\n",
      "146.97756958007812\n",
      "146.7039337158203\n",
      "146.43032836914062\n",
      "146.15676879882812\n",
      "145.88323974609375\n",
      "145.60971069335938\n",
      "145.3362579345703\n",
      "145.06283569335938\n",
      "144.78941345214844\n",
      "144.51605224609375\n",
      "144.24273681640625\n",
      "143.96942138671875\n",
      "143.6961669921875\n",
      "143.4229278564453\n",
      "143.14974975585938\n",
      "142.87661743164062\n",
      "142.6034698486328\n",
      "142.3303985595703\n",
      "142.05734252929688\n",
      "141.78433227539062\n",
      "141.5113525390625\n",
      "141.23841857910156\n",
      "140.96554565429688\n",
      "140.69265747070312\n",
      "140.41983032226562\n",
      "140.14703369140625\n",
      "139.87429809570312\n",
      "139.60157775878906\n",
      "139.3289031982422\n",
      "139.05625915527344\n",
      "138.78367614746094\n",
      "138.51112365722656\n",
      "138.2386016845703\n",
      "137.96612548828125\n",
      "137.69369506835938\n",
      "137.42127990722656\n",
      "137.14894104003906\n",
      "136.87660217285156\n",
      "136.60433959960938\n",
      "136.33209228515625\n",
      "136.0598907470703\n",
      "135.7877197265625\n",
      "135.515625\n",
      "135.2435302734375\n",
      "134.9715118408203\n",
      "134.69952392578125\n",
      "134.42759704589844\n",
      "134.1556854248047\n",
      "133.88381958007812\n",
      "133.61199951171875\n",
      "133.3402099609375\n",
      "133.06849670410156\n",
      "132.79681396484375\n",
      "132.52517700195312\n",
      "132.25357055664062\n",
      "131.98204040527344\n",
      "131.71051025390625\n",
      "131.43905639648438\n",
      "131.16763305664062\n",
      "130.89627075195312\n",
      "130.62493896484375\n",
      "130.35366821289062\n",
      "130.08242797851562\n",
      "129.81126403808594\n",
      "129.54013061523438\n",
      "129.26902770996094\n",
      "128.99798583984375\n",
      "128.72698974609375\n",
      "128.4560546875\n",
      "128.18515014648438\n",
      "127.91431427001953\n",
      "127.64350891113281\n",
      "127.37277221679688\n",
      "127.1020736694336\n",
      "126.83142852783203\n",
      "126.56082916259766\n",
      "126.29029083251953\n",
      "126.01979064941406\n",
      "125.74934387207031\n",
      "125.47895812988281\n",
      "125.2086410522461\n",
      "124.93834686279297\n",
      "124.6681137084961\n",
      "124.39794921875\n",
      "124.12782287597656\n",
      "123.85773468017578\n",
      "123.58772277832031\n",
      "123.31776428222656\n",
      "123.04785919189453\n",
      "122.77799987792969\n",
      "122.5082015991211\n",
      "122.23847198486328\n",
      "121.96878814697266\n",
      "121.69915771484375\n",
      "121.42959594726562\n",
      "121.16007995605469\n",
      "120.89063262939453\n",
      "120.6212387084961\n",
      "120.35188293457031\n",
      "120.08260345458984\n",
      "119.81338500976562\n",
      "119.54422760009766\n",
      "119.27513122558594\n",
      "119.00609588623047\n",
      "118.73711395263672\n",
      "118.46820831298828\n",
      "118.19935607910156\n",
      "117.93054962158203\n",
      "117.66181182861328\n",
      "117.39315795898438\n",
      "117.12455749511719\n",
      "116.85600280761719\n",
      "116.5875473022461\n",
      "116.31912994384766\n",
      "116.05079650878906\n",
      "115.78250122070312\n",
      "115.51428985595703\n",
      "115.24613952636719\n",
      "114.97806549072266\n",
      "114.71004486083984\n",
      "114.44210052490234\n",
      "114.17422485351562\n",
      "113.90641784667969\n",
      "113.63868713378906\n",
      "113.37100982666016\n",
      "113.10340118408203\n",
      "112.83587646484375\n",
      "112.56842041015625\n",
      "112.30104064941406\n",
      "112.03372192382812\n",
      "111.7664794921875\n",
      "111.49931335449219\n",
      "111.23222351074219\n",
      "110.96520233154297\n",
      "110.6982421875\n",
      "110.43138122558594\n",
      "110.16458129882812\n",
      "109.89786529541016\n",
      "109.63121795654297\n",
      "109.36465454101562\n",
      "109.09815979003906\n",
      "108.83175659179688\n",
      "108.56542205810547\n",
      "108.2991714477539\n",
      "108.03300476074219\n",
      "107.76690673828125\n",
      "107.50091552734375\n",
      "107.23497772216797\n",
      "106.96913146972656\n",
      "106.70336151123047\n",
      "106.43769073486328\n",
      "106.17208862304688\n",
      "105.90658569335938\n",
      "105.64115142822266\n",
      "105.37582397460938\n",
      "105.1105728149414\n",
      "104.84541320800781\n",
      "104.58033752441406\n",
      "104.31534576416016\n",
      "104.05045318603516\n",
      "103.78563690185547\n",
      "103.52091979980469\n",
      "103.25628662109375\n",
      "102.99176025390625\n",
      "102.72731018066406\n",
      "102.46295928955078\n",
      "102.1987075805664\n",
      "101.9345474243164\n",
      "101.67047119140625\n",
      "101.40650177001953\n",
      "101.14262390136719\n",
      "100.87885284423828\n",
      "100.61516571044922\n",
      "100.35159301757812\n",
      "100.0881118774414\n",
      "99.8247299194336\n",
      "99.56144714355469\n",
      "99.29827117919922\n",
      "99.03519439697266\n",
      "98.772216796875\n",
      "98.50934600830078\n",
      "98.24658966064453\n",
      "97.98394012451172\n",
      "97.72138977050781\n",
      "97.45895385742188\n",
      "97.19661712646484\n",
      "96.93439483642578\n",
      "96.67227172851562\n",
      "96.41026306152344\n",
      "96.14837646484375\n",
      "95.88658905029297\n",
      "95.62493133544922\n",
      "95.3633804321289\n",
      "95.1019287109375\n",
      "94.84060668945312\n",
      "94.57940673828125\n",
      "94.31830596923828\n",
      "94.0573501586914\n",
      "93.79650115966797\n",
      "93.5357666015625\n",
      "93.27516174316406\n",
      "93.0146713256836\n",
      "92.75431823730469\n",
      "92.49407958984375\n",
      "92.23397827148438\n",
      "91.97398376464844\n",
      "91.7141342163086\n",
      "91.45439910888672\n",
      "91.1948013305664\n",
      "90.93533325195312\n",
      "90.67599487304688\n",
      "90.41679382324219\n",
      "90.15772247314453\n",
      "89.89878845214844\n",
      "89.63999938964844\n",
      "89.3813247680664\n",
      "89.122802734375\n",
      "88.86441802978516\n",
      "88.60618591308594\n",
      "88.34807586669922\n",
      "88.09011840820312\n",
      "87.8322982788086\n",
      "87.57463073730469\n",
      "87.31710815429688\n",
      "87.05973052978516\n",
      "86.80250549316406\n",
      "86.54542541503906\n",
      "86.28850555419922\n",
      "86.03172302246094\n",
      "85.77511596679688\n",
      "85.51864624023438\n",
      "85.26234436035156\n",
      "85.00618743896484\n",
      "84.75019836425781\n",
      "84.49436950683594\n",
      "84.23870086669922\n",
      "83.98320007324219\n",
      "83.72785949707031\n",
      "83.4726791381836\n",
      "83.21766662597656\n",
      "82.96282958984375\n",
      "82.70816802978516\n",
      "82.45367431640625\n",
      "82.19934844970703\n",
      "81.94519805908203\n",
      "81.69123077392578\n",
      "81.43744659423828\n",
      "81.18382263183594\n",
      "80.93038940429688\n",
      "80.67713928222656\n",
      "80.42406463623047\n",
      "80.17118072509766\n",
      "79.91848754882812\n",
      "79.66597747802734\n",
      "79.41366577148438\n",
      "79.16154479980469\n",
      "78.90961456298828\n",
      "78.65788269042969\n",
      "78.4063491821289\n",
      "78.15501403808594\n",
      "77.90387725830078\n",
      "77.65293884277344\n",
      "77.4022216796875\n",
      "77.15169525146484\n",
      "76.90137481689453\n",
      "76.65127563476562\n",
      "76.40138244628906\n",
      "76.15170288085938\n",
      "75.9022445678711\n",
      "75.65299224853516\n",
      "75.40396881103516\n",
      "75.15515899658203\n",
      "74.90658569335938\n",
      "74.6582260131836\n",
      "74.41009521484375\n",
      "74.16220092773438\n",
      "73.9145278930664\n",
      "73.6670913696289\n",
      "73.4198989868164\n",
      "73.17293548583984\n",
      "72.92621612548828\n",
      "72.67974853515625\n",
      "72.43351745605469\n",
      "72.18753051757812\n",
      "71.94180297851562\n",
      "71.69631958007812\n",
      "71.45108795166016\n",
      "71.20611572265625\n",
      "70.9614028930664\n",
      "70.71694946289062\n",
      "70.47276306152344\n",
      "70.22883605957031\n",
      "69.98519134521484\n",
      "69.74180603027344\n",
      "69.49870300292969\n",
      "69.25586700439453\n",
      "69.01331329345703\n",
      "68.77104187011719\n",
      "68.52906036376953\n",
      "68.28734588623047\n",
      "68.04594421386719\n",
      "67.80481719970703\n",
      "67.56399536132812\n",
      "67.3234634399414\n",
      "67.08323669433594\n",
      "66.84332275390625\n",
      "66.60370635986328\n",
      "66.36438751220703\n",
      "66.12539672851562\n",
      "65.88671875\n",
      "65.64836120605469\n",
      "65.41032409667969\n",
      "65.17259979248047\n",
      "64.93521881103516\n",
      "64.69815063476562\n",
      "64.46143341064453\n",
      "64.22505187988281\n",
      "63.98899841308594\n",
      "63.7532958984375\n",
      "63.5179328918457\n",
      "63.282928466796875\n",
      "63.04827117919922\n",
      "62.81398010253906\n",
      "62.580047607421875\n",
      "62.34648132324219\n",
      "62.11327362060547\n",
      "61.88043975830078\n",
      "61.64798355102539\n",
      "61.41590118408203\n",
      "61.184200286865234\n",
      "60.95288848876953\n",
      "60.72196960449219\n",
      "60.49143981933594\n",
      "60.26130294799805\n",
      "60.031578063964844\n",
      "59.80224609375\n",
      "59.573326110839844\n",
      "59.34482192993164\n",
      "59.116729736328125\n",
      "58.889068603515625\n",
      "58.66182327270508\n",
      "58.43500518798828\n",
      "58.2086296081543\n",
      "57.98268127441406\n",
      "57.757179260253906\n",
      "57.532127380371094\n",
      "57.307525634765625\n",
      "57.0833740234375\n",
      "56.85968780517578\n",
      "56.6364631652832\n",
      "56.413700103759766\n",
      "56.19141387939453\n",
      "55.969608306884766\n",
      "55.74828338623047\n",
      "55.52744674682617\n",
      "55.30709457397461\n",
      "55.087249755859375\n",
      "54.867897033691406\n",
      "54.649051666259766\n",
      "54.430721282958984\n",
      "54.21290969848633\n",
      "53.995609283447266\n",
      "53.77884292602539\n",
      "53.56260299682617\n",
      "53.34690475463867\n",
      "53.131744384765625\n",
      "52.91713333129883\n",
      "52.703067779541016\n",
      "52.489566802978516\n",
      "52.2766227722168\n",
      "52.06424331665039\n",
      "51.852447509765625\n",
      "51.641231536865234\n",
      "51.43058776855469\n",
      "51.220542907714844\n",
      "51.01108932495117\n",
      "50.802242279052734\n",
      "50.593997955322266\n",
      "50.38636779785156\n",
      "50.179351806640625\n",
      "49.972965240478516\n",
      "49.7672119140625\n",
      "49.56209182739258\n",
      "49.35761260986328\n",
      "49.153778076171875\n",
      "48.95060348510742\n",
      "48.74808120727539\n",
      "48.54623031616211\n",
      "48.345054626464844\n",
      "48.14455032348633\n",
      "47.944732666015625\n",
      "47.745609283447266\n",
      "47.547176361083984\n",
      "47.34945297241211\n",
      "47.152435302734375\n",
      "46.95613479614258\n",
      "46.76055908203125\n",
      "46.565704345703125\n",
      "46.3715934753418\n",
      "46.17822265625\n",
      "45.985599517822266\n",
      "45.79372787475586\n",
      "45.60261535644531\n",
      "45.41227340698242\n",
      "45.22270965576172\n",
      "45.03392028808594\n",
      "44.84592056274414\n",
      "44.65871810913086\n",
      "44.47231674194336\n",
      "44.286712646484375\n",
      "44.1019287109375\n",
      "43.91796875\n",
      "43.734832763671875\n",
      "43.552528381347656\n",
      "43.37106704711914\n",
      "43.190452575683594\n",
      "43.01069259643555\n",
      "42.83179473876953\n",
      "42.65375900268555\n",
      "42.476600646972656\n",
      "42.30031967163086\n",
      "42.12492752075195\n",
      "41.9504280090332\n",
      "41.77682876586914\n",
      "41.6041374206543\n",
      "41.43235778808594\n",
      "41.26150131225586\n",
      "41.09156799316406\n",
      "40.92256164550781\n",
      "40.75450134277344\n",
      "40.5873908996582\n",
      "40.42121887207031\n",
      "40.256011962890625\n",
      "40.091773986816406\n",
      "39.92850112915039\n",
      "39.766204833984375\n",
      "39.60489273071289\n",
      "39.4445686340332\n",
      "39.285240173339844\n",
      "39.12691116333008\n",
      "38.96958923339844\n",
      "38.81327438354492\n",
      "38.65798568725586\n",
      "38.50371551513672\n",
      "38.35047149658203\n",
      "38.19826889038086\n",
      "38.04710006713867\n",
      "37.896976470947266\n",
      "37.74790954589844\n",
      "37.59988784790039\n",
      "37.45293426513672\n",
      "37.30704116821289\n",
      "37.1622200012207\n",
      "37.01847457885742\n",
      "36.87580490112305\n",
      "36.73421859741211\n",
      "36.593719482421875\n",
      "36.454307556152344\n",
      "36.31599807739258\n",
      "36.17878341674805\n",
      "36.04267501831055\n",
      "35.90766906738281\n",
      "35.77377700805664\n",
      "35.640995025634766\n",
      "35.509334564208984\n",
      "35.378787994384766\n",
      "35.24936294555664\n",
      "35.121063232421875\n",
      "34.993892669677734\n",
      "34.86784744262695\n",
      "34.74293899536133\n",
      "34.619163513183594\n",
      "34.49652099609375\n",
      "34.37501907348633\n",
      "34.2546501159668\n",
      "34.13542556762695\n",
      "34.01734161376953\n",
      "33.90039825439453\n",
      "33.78459548950195\n",
      "33.66993713378906\n",
      "33.55642318725586\n",
      "33.44404983520508\n",
      "33.332820892333984\n",
      "33.22273635864258\n",
      "33.113792419433594\n",
      "33.00598907470703\n",
      "32.89932632446289\n",
      "32.79380416870117\n",
      "32.68942642211914\n",
      "32.58617401123047\n",
      "32.484066009521484\n",
      "32.38309097290039\n",
      "32.28324508666992\n",
      "32.18452835083008\n",
      "32.086936950683594\n",
      "31.99047088623047\n",
      "31.89512825012207\n",
      "31.800899505615234\n",
      "31.70779037475586\n",
      "31.61579132080078\n",
      "31.5248966217041\n",
      "31.435110092163086\n",
      "31.346420288085938\n",
      "31.25882911682129\n",
      "31.17232894897461\n",
      "31.086910247802734\n",
      "31.002580642700195\n",
      "30.919322967529297\n",
      "30.83713722229004\n",
      "30.756017684936523\n",
      "30.675962448120117\n",
      "30.596956253051758\n",
      "30.51900291442871\n",
      "30.442092895507812\n",
      "30.36622428894043\n",
      "30.291379928588867\n",
      "30.217559814453125\n",
      "30.14476203918457\n",
      "30.07297134399414\n",
      "30.00218963623047\n",
      "29.93239974975586\n",
      "29.863605499267578\n",
      "29.79578971862793\n",
      "29.72895050048828\n",
      "29.6630802154541\n",
      "29.598169326782227\n",
      "29.534212112426758\n",
      "29.4711971282959\n",
      "29.409116744995117\n",
      "29.347970962524414\n",
      "29.287738800048828\n",
      "29.228425979614258\n",
      "29.170013427734375\n",
      "29.11249351501465\n",
      "29.055862426757812\n",
      "29.000110626220703\n",
      "28.945226669311523\n",
      "28.891206741333008\n",
      "28.83803367614746\n",
      "28.78570556640625\n",
      "28.734214782714844\n",
      "28.683551788330078\n",
      "28.63370132446289\n",
      "28.584657669067383\n",
      "28.53641700744629\n",
      "28.488964080810547\n",
      "28.442289352416992\n",
      "28.396390914916992\n",
      "28.35125160217285\n",
      "28.306867599487305\n",
      "28.263225555419922\n",
      "28.220321655273438\n",
      "28.178142547607422\n",
      "28.136682510375977\n",
      "28.095928192138672\n",
      "28.055875778198242\n",
      "28.016508102416992\n",
      "27.977825164794922\n",
      "27.9398136138916\n",
      "27.902463912963867\n",
      "27.865768432617188\n",
      "27.829721450805664\n",
      "27.794307708740234\n",
      "27.759521484375\n",
      "27.725353240966797\n",
      "27.691795349121094\n",
      "27.65884017944336\n",
      "27.626476287841797\n",
      "27.594696044921875\n",
      "27.56348991394043\n",
      "27.532852172851562\n",
      "27.50277328491211\n",
      "27.473243713378906\n",
      "27.444255828857422\n",
      "27.415802001953125\n",
      "27.38787269592285\n",
      "27.360462188720703\n",
      "27.333559036254883\n",
      "27.30715560913086\n",
      "27.281248092651367\n",
      "27.25582504272461\n",
      "27.230878829956055\n",
      "27.206403732299805\n",
      "27.182390213012695\n",
      "27.158830642700195\n",
      "27.135719299316406\n",
      "27.113048553466797\n",
      "27.090810775756836\n",
      "27.06899642944336\n",
      "27.047603607177734\n",
      "27.02661895751953\n",
      "27.006038665771484\n",
      "26.985857009887695\n",
      "26.966068267822266\n",
      "26.946659088134766\n",
      "26.927631378173828\n",
      "26.908971786499023\n",
      "26.890676498413086\n",
      "26.872737884521484\n",
      "26.855154037475586\n",
      "26.837913513183594\n",
      "26.821012496948242\n",
      "26.804445266723633\n",
      "26.788204193115234\n",
      "26.77228546142578\n",
      "26.756681442260742\n",
      "26.74138832092285\n",
      "26.726398468017578\n",
      "26.711708068847656\n",
      "26.697311401367188\n",
      "26.683198928833008\n",
      "26.66937255859375\n",
      "26.65582275390625\n",
      "26.642541885375977\n",
      "26.629533767700195\n",
      "26.616785049438477\n",
      "26.604291915893555\n",
      "26.592052459716797\n",
      "26.580062866210938\n",
      "26.568313598632812\n",
      "26.55680274963379\n",
      "26.54552459716797\n",
      "26.53447723388672\n",
      "26.52365493774414\n",
      "26.513051986694336\n",
      "26.502666473388672\n",
      "26.492490768432617\n",
      "26.482528686523438\n",
      "26.472766876220703\n",
      "26.46320343017578\n",
      "26.453842163085938\n",
      "26.44466781616211\n",
      "26.43568229675293\n",
      "26.4268856048584\n",
      "26.41826820373535\n",
      "26.409826278686523\n",
      "26.401559829711914\n",
      "26.39346694946289\n",
      "26.38553810119629\n",
      "26.377775192260742\n",
      "26.37017250061035\n",
      "26.362730026245117\n",
      "26.355438232421875\n",
      "26.348299026489258\n",
      "26.341310501098633\n",
      "26.33446502685547\n",
      "26.327762603759766\n",
      "26.32120132446289\n",
      "26.314775466918945\n",
      "26.30848503112793\n",
      "26.302322387695312\n",
      "26.29629135131836\n",
      "26.29038429260254\n",
      "26.28460121154785\n",
      "26.27894401550293\n",
      "26.27340316772461\n",
      "26.267974853515625\n",
      "26.262662887573242\n",
      "26.257463455200195\n",
      "26.252370834350586\n",
      "26.247386932373047\n",
      "26.242507934570312\n",
      "26.23773193359375\n",
      "26.233055114746094\n",
      "26.228477478027344\n",
      "26.223997116088867\n",
      "26.219608306884766\n",
      "26.215314865112305\n",
      "26.211111068725586\n",
      "26.20699691772461\n",
      "26.20296859741211\n",
      "26.19902801513672\n",
      "26.195167541503906\n",
      "26.191389083862305\n",
      "26.18769073486328\n",
      "26.184070587158203\n",
      "26.18052864074707\n",
      "26.177061080932617\n",
      "26.173667907714844\n",
      "26.17034339904785\n",
      "26.16709327697754\n",
      "26.163909912109375\n",
      "26.16079330444336\n",
      "26.157745361328125\n",
      "26.154760360717773\n",
      "26.151840209960938\n",
      "26.14898109436035\n",
      "26.146183013916016\n",
      "26.14344596862793\n",
      "26.140766143798828\n",
      "26.13814353942871\n",
      "26.135576248168945\n",
      "26.133060455322266\n",
      "26.130603790283203\n",
      "26.128196716308594\n",
      "26.125839233398438\n",
      "26.123537063598633\n",
      "26.121280670166016\n",
      "26.11907196044922\n",
      "26.11690902709961\n",
      "26.114797592163086\n",
      "26.11272430419922\n",
      "26.110698699951172\n",
      "26.108718872070312\n",
      "26.10677719116211\n",
      "26.10487937927246\n",
      "26.103023529052734\n",
      "26.10120391845703\n",
      "26.09942626953125\n",
      "26.09768295288086\n",
      "26.095979690551758\n",
      "26.094310760498047\n",
      "26.092681884765625\n",
      "26.091081619262695\n",
      "26.089519500732422\n",
      "26.08799171447754\n",
      "26.08649253845215\n",
      "26.085031509399414\n",
      "26.083599090576172\n",
      "26.082195281982422\n",
      "26.080820083618164\n",
      "26.079477310180664\n",
      "26.07816505432129\n",
      "26.07687759399414\n",
      "26.075618743896484\n",
      "26.074386596679688\n",
      "26.073179244995117\n",
      "26.072004318237305\n",
      "26.070846557617188\n",
      "26.069719314575195\n",
      "26.068614959716797\n",
      "26.06753158569336\n",
      "26.06647300720215\n",
      "26.06543731689453\n",
      "26.064424514770508\n",
      "26.063432693481445\n",
      "26.062463760375977\n",
      "26.061511993408203\n",
      "26.060583114624023\n",
      "26.059673309326172\n",
      "26.05878257751465\n",
      "26.057912826538086\n",
      "26.05706214904785\n",
      "26.056228637695312\n",
      "26.055410385131836\n",
      "26.05461311340332\n",
      "26.0538330078125\n",
      "26.053068161010742\n",
      "26.05232048034668\n",
      "26.05158805847168\n",
      "26.050870895385742\n",
      "26.0501708984375\n",
      "26.049484252929688\n",
      "26.04881477355957\n",
      "26.04815673828125\n",
      "26.04751205444336\n",
      "26.046886444091797\n",
      "26.046268463134766\n",
      "26.04566764831543\n",
      "26.04507827758789\n",
      "26.04450035095215\n",
      "26.0439395904541\n",
      "26.043384552001953\n",
      "26.0428466796875\n",
      "26.04231834411621\n",
      "26.04180145263672\n",
      "26.04129409790039\n",
      "26.040800094604492\n",
      "26.040315628051758\n",
      "26.03984260559082\n",
      "26.039377212524414\n",
      "26.038921356201172\n",
      "26.038476943969727\n",
      "26.038042068481445\n",
      "26.037616729736328\n",
      "26.037200927734375\n",
      "26.036794662475586\n",
      "26.036394119262695\n",
      "26.0360050201416\n",
      "26.03562355041504\n",
      "26.03525161743164\n",
      "26.03488540649414\n",
      "26.034526824951172\n",
      "26.034177780151367\n",
      "26.03383445739746\n",
      "26.033498764038086\n",
      "26.033170700073242\n",
      "26.032852172851562\n",
      "26.032535552978516\n",
      "26.032228469848633\n",
      "26.03192901611328\n",
      "26.031635284423828\n",
      "26.03134536743164\n",
      "26.031064987182617\n",
      "26.03078842163086\n",
      "26.030517578125\n",
      "26.030254364013672\n",
      "26.02999496459961\n",
      "26.02974510192871\n",
      "26.029499053955078\n",
      "26.029254913330078\n",
      "26.029020309448242\n",
      "26.028785705566406\n",
      "26.0285587310791\n",
      "26.028337478637695\n",
      "26.028120040893555\n",
      "26.027908325195312\n",
      "26.027700424194336\n",
      "26.027498245239258\n",
      "26.02729606628418\n",
      "26.027101516723633\n",
      "26.02690887451172\n",
      "26.026721954345703\n",
      "26.026540756225586\n",
      "26.0263614654541\n",
      "26.026187896728516\n",
      "26.026016235351562\n",
      "26.025848388671875\n",
      "26.025684356689453\n",
      "26.025524139404297\n",
      "26.025365829467773\n",
      "26.02521324157715\n",
      "26.025062561035156\n",
      "26.02491569519043\n",
      "26.024770736694336\n",
      "26.024627685546875\n",
      "26.024494171142578\n",
      "26.024356842041016\n",
      "26.02422523498535\n",
      "26.02409553527832\n",
      "26.023969650268555\n",
      "26.023847579956055\n",
      "26.023725509643555\n",
      "26.023605346679688\n",
      "26.023488998413086\n",
      "26.023374557495117\n",
      "26.023263931274414\n",
      "26.023155212402344\n",
      "26.023048400878906\n",
      "26.0229434967041\n",
      "26.022842407226562\n",
      "26.022741317749023\n",
      "26.02264404296875\n",
      "26.022546768188477\n",
      "26.02245330810547\n",
      "26.022363662719727\n",
      "26.02227210998535\n",
      "26.022186279296875\n",
      "26.022096633911133\n",
      "26.022016525268555\n",
      "26.02193260192871\n",
      "26.021852493286133\n",
      "26.021772384643555\n",
      "26.02169418334961\n",
      "26.021617889404297\n",
      "26.02154541015625\n",
      "26.021472930908203\n",
      "26.02140235900879\n",
      "26.021331787109375\n",
      "26.021265029907227\n",
      "26.021198272705078\n",
      "26.021133422851562\n",
      "26.02107048034668\n",
      "26.021007537841797\n",
      "26.020946502685547\n",
      "26.02088737487793\n",
      "26.020828247070312\n",
      "26.020771026611328\n",
      "26.020713806152344\n",
      "26.020658493041992\n",
      "26.020605087280273\n",
      "26.020551681518555\n",
      "26.0205020904541\n",
      "26.020450592041016\n",
      "26.020402908325195\n",
      "26.020353317260742\n",
      "26.020305633544922\n",
      "26.0202579498291\n",
      "26.020214080810547\n",
      "26.02016830444336\n",
      "26.020126342773438\n",
      "26.020084381103516\n",
      "26.020042419433594\n",
      "26.020000457763672\n",
      "26.019960403442383\n",
      "26.019920349121094\n",
      "26.019882202148438\n",
      "26.019845962524414\n",
      "26.019807815551758\n",
      "26.019771575927734\n",
      "26.019737243652344\n",
      "26.01970100402832\n",
      "26.01966667175293\n",
      "26.019634246826172\n",
      "26.019601821899414\n",
      "26.019569396972656\n",
      "26.01953887939453\n",
      "26.019508361816406\n",
      "26.01947784423828\n",
      "26.019451141357422\n",
      "26.019418716430664\n",
      "26.019393920898438\n",
      "26.019365310668945\n",
      "26.019336700439453\n",
      "26.019309997558594\n",
      "26.019285202026367\n",
      "26.019258499145508\n",
      "26.019235610961914\n",
      "26.019208908081055\n",
      "26.019187927246094\n",
      "26.019163131713867\n",
      "26.019142150878906\n",
      "26.01911735534668\n",
      "26.01909637451172\n",
      "26.019075393676758\n",
      "26.019054412841797\n",
      "26.019033432006836\n",
      "26.019012451171875\n",
      "26.018991470336914\n",
      "26.018972396850586\n",
      "26.018953323364258\n",
      "26.01893424987793\n",
      "26.0189151763916\n",
      "26.018898010253906\n",
      "26.01888084411621\n",
      "26.018861770629883\n",
      "26.01884651184082\n",
      "26.018829345703125\n",
      "26.018814086914062\n",
      "26.018798828125\n",
      "26.018781661987305\n",
      "26.01876449584961\n",
      "26.018753051757812\n",
      "26.018735885620117\n",
      "26.018722534179688\n",
      "26.018707275390625\n",
      "26.018693923950195\n",
      "26.018678665161133\n",
      "26.018667221069336\n",
      "26.018651962280273\n",
      "26.018638610839844\n",
      "26.018625259399414\n",
      "26.018613815307617\n",
      "26.01860237121582\n",
      "26.018590927124023\n",
      "26.018579483032227\n",
      "26.018566131591797\n",
      "26.0185546875\n",
      "26.018545150756836\n",
      "26.01853370666504\n",
      "26.018524169921875\n",
      "26.018510818481445\n",
      "26.01850128173828\n",
      "26.018491744995117\n",
      "26.018484115600586\n",
      "26.018470764160156\n",
      "26.018461227416992\n",
      "26.018451690673828\n",
      "26.018442153930664\n",
      "26.018434524536133\n",
      "26.018423080444336\n"
     ]
    }
   ],
   "source": [
    "# Lets add 1000 iterations to the process:\n",
    "for o in range(1000):\n",
    "    preds = apply_step(params)"
   ]
  },
  {
   "cell_type": "code",
   "execution_count": 150,
   "id": "dca682e4",
   "metadata": {},
   "outputs": [
    {
     "data": {
      "image/png": "[encoded data removed]",
      "text/plain": [
       "<Figure size 432x288 with 1 Axes>"
      ]
     },
     "metadata": {
      "needs_background": "light"
     },
     "output_type": "display_data"
    }
   ],
   "source": [
    "# The results are slowly converging!\n",
    "show_preds(preds)"
   ]
  },
  {
   "cell_type": "code",
   "execution_count": 151,
   "id": "961cb18d",
   "metadata": {},
   "outputs": [
    {
     "data": {
      "text/plain": [
       "torch.Size([12396, 784])"
      ]
     },
     "execution_count": 151,
     "metadata": {},
     "output_type": "execute_result"
    }
   ],
   "source": [
    "# Training THE MNIST DATASET\n",
    "\n",
    "# We will now concatenate the stacked threes and stacked seven tensors and reshape the resulting tensor \n",
    "# such that all images are in rows and their correspnding pixels in the columns\n",
    "train_x = torch.cat([stacked_threes,stacked_sevens]).view(-1,28*28)\n",
    "train_x.shape"
   ]
  },
  {
   "cell_type": "code",
   "execution_count": 152,
   "id": "2e9b23e1",
   "metadata": {},
   "outputs": [
    {
     "data": {
      "text/plain": [
       "(torch.Size([12396, 1]), tensor(0))"
      ]
     },
     "execution_count": 152,
     "metadata": {},
     "output_type": "execute_result"
    }
   ],
   "source": [
    "# We assign boolean lables to the threes and sevens\n",
    "# The 'unsqueeze' method is used to convert the labels from a vector to a matrix \n",
    "train_y = tensor([1]*len(threes) + [0]*len(sevens)).unsqueeze(1)\n",
    "train_y.shape, train_y[10000,0]"
   ]
  },
  {
   "cell_type": "code",
   "execution_count": 153,
   "id": "e8227e4c",
   "metadata": {},
   "outputs": [
    {
     "data": {
      "text/plain": [
       "(torch.Size([784]), torch.Size([1]))"
      ]
     },
     "execution_count": 153,
     "metadata": {},
     "output_type": "execute_result"
    }
   ],
   "source": [
    "# A dataset is required to return a tuple when indexed\n",
    "# Python provides a 'zip' function that can be combined with a list to achieve this \n",
    "dataset = list(zip(train_x, train_y))\n",
    "x,y = dataset[0]\n",
    "x.shape, y.shape"
   ]
  },
  {
   "cell_type": "code",
   "execution_count": 154,
   "id": "57b6c9dd",
   "metadata": {},
   "outputs": [
    {
     "data": {
      "text/plain": [
       "(torch.Size([1010, 28, 28]), torch.Size([1028, 28, 28]))"
      ]
     },
     "execution_count": 154,
     "metadata": {},
     "output_type": "execute_result"
    }
   ],
   "source": [
    "# We convert and stack the tensors for the validation set\n",
    "\n",
    "valid_3_tens = torch.stack([tensor(Image.open(o)) \n",
    "                            for o in (path/'valid'/'3').ls()])\n",
    "valid_3_tens = valid_3_tens.float()/255\n",
    "valid_7_tens = torch.stack([tensor(Image.open(o)) \n",
    "                            for o in (path/'valid'/'7').ls()])\n",
    "valid_7_tens = valid_7_tens.float()/255\n",
    "valid_3_tens.shape,valid_7_tens.shape"
   ]
  },
  {
   "cell_type": "code",
   "execution_count": 155,
   "id": "72b14f6b",
   "metadata": {},
   "outputs": [],
   "source": [
    "# We perform the same operations as above to preaper the validation dataset\n",
    "valid_x = torch.cat([valid_3_tens, valid_7_tens]).view(-1, 28*28)\n",
    "valid_y = tensor([1]*len(valid_3_tens) + [0]*len(valid_7_tens)).unsqueeze(1)\n",
    "valid_dset = list(zip(valid_x,valid_y))"
   ]
  },
  {
   "cell_type": "code",
   "execution_count": 156,
   "id": "7b9c1dc0",
   "metadata": {},
   "outputs": [],
   "source": [
    "# We randomly initialize the weights for every pixel using this function where we will pass in the pixel size in \n",
    "# one image and a subjective variance, of course we will be tracking the gradients of these values using the\n",
    "# required grad function\n",
    "\n",
    "# There are better practices for intializing weights such that we reduce the phenomenon of vanishing or exploding\n",
    "# weights. See the link below for a quick video on that\n",
    "# https://www.youtube.com/watch?v=qO_NLVjD6zE\n",
    "def init_params(size, var=1.0): return (torch.randn(size)*var).requires_grad_()"
   ]
  },
  {
   "cell_type": "code",
   "execution_count": 157,
   "id": "518b2ada",
   "metadata": {},
   "outputs": [],
   "source": [
    "weights = init_params((28*28,1))"
   ]
  },
  {
   "cell_type": "code",
   "execution_count": 158,
   "id": "24a214d1",
   "metadata": {},
   "outputs": [],
   "source": [
    "# We plan on using a weights*pixels formula, given that the weight will have a value of 0 at the first pixels\n",
    "# we improvise by adding an intercept/bias, this is comparable to y= w*x+b\n",
    "bias = init_params(1)"
   ]
  },
  {
   "cell_type": "code",
   "execution_count": 159,
   "id": "7ae86228",
   "metadata": {},
   "outputs": [
    {
     "data": {
      "text/plain": [
       "tensor([20.2336], grad_fn=<AddBackward0>)"
      ]
     },
     "execution_count": 159,
     "metadata": {},
     "output_type": "execute_result"
    }
   ],
   "source": [
    "# Calculating the prediction for one image\n",
    "(train_x[0]*weights.T).sum()+bias"
   ]
  },
  {
   "cell_type": "code",
   "execution_count": 160,
   "id": "5b2b4ecb",
   "metadata": {},
   "outputs": [
    {
     "data": {
      "text/plain": [
       "(torch.Size([784]), torch.Size([1, 784]), torch.Size([784, 1]))"
      ]
     },
     "execution_count": 160,
     "metadata": {},
     "output_type": "execute_result"
    }
   ],
   "source": [
    "# A brief illustration of why we took the transpose to multiple the matrices above\n",
    "train_x[0].shape, (weights.T).shape, weights.shape"
   ]
  },
  {
   "cell_type": "code",
   "execution_count": 161,
   "id": "cad0bb55",
   "metadata": {
    "scrolled": true
   },
   "outputs": [
    {
     "data": {
      "text/plain": [
       "tensor([[20.2336],\n",
       "        [17.0644],\n",
       "        [15.2384],\n",
       "        ...,\n",
       "        [18.3804],\n",
       "        [23.8567],\n",
       "        [28.6816]], grad_fn=<AddBackward0>)"
      ]
     },
     "execution_count": 161,
     "metadata": {},
     "output_type": "execute_result"
    }
   ],
   "source": [
    "# To bring this into the grander scale of using the full training set we use the '@' operator for \n",
    "# matrix multiplication\n",
    "def linear1(x): return (x@weights + bias)\n",
    "preds = linear1(train_x)\n",
    "preds"
   ]
  },
  {
   "cell_type": "code",
   "execution_count": 162,
   "id": "f32ffd8a",
   "metadata": {},
   "outputs": [
    {
     "data": {
      "text/plain": [
       "tensor([[ True],\n",
       "        [ True],\n",
       "        [ True],\n",
       "        ...,\n",
       "        [False],\n",
       "        [False],\n",
       "        [False]])"
      ]
     },
     "execution_count": 162,
     "metadata": {},
     "output_type": "execute_result"
    }
   ],
   "source": [
    "# Comparing our output with the labels via checking which values have been identified as threes\n",
    "corrects = (preds>0.0).float() == train_y\n",
    "corrects"
   ]
  },
  {
   "cell_type": "code",
   "execution_count": 163,
   "id": "7c87ee00",
   "metadata": {},
   "outputs": [
    {
     "data": {
      "text/plain": [
       "0.4912068545818329"
      ]
     },
     "execution_count": 163,
     "metadata": {},
     "output_type": "execute_result"
    }
   ],
   "source": [
    "# We can check the accuracy of these predictions, which is probably not all that great\n",
    "# the 'item' method unwraps the value from a tensor to a scalar  \n",
    "corrects.float().mean().item()"
   ]
  },
  {
   "cell_type": "code",
   "execution_count": 164,
   "id": "df9ee767",
   "metadata": {},
   "outputs": [],
   "source": [
    "# We have stumbled onto an interesing question, what do we use as our metric for loss?\n",
    "# Using the accuracy, y = wx + b, will not be effective as the change in prediction will barely increase given\n",
    "# That the gradient is the slope rise/run, which will not change significantly, or at all, if we increase the \n",
    "# step size over each epoch\n",
    "\n",
    "# A baseline approach would be to create the following loss function:\n",
    "def mnist_loss(predictions,targets): return torch.where(targets == 1, 1-predictions, predictions).mean()\n",
    "\n",
    "# Note the where function takes in three arguments torch.where(a,b,c), this function takes looks at\n",
    "# the a condition, if it is true, it will perform option b, else c\n",
    "# Its important that we use the power of PyTorch library such as broadcasting and other methods\n",
    "# As for loops are processed on Pythons end, which are considerably slower"
   ]
  },
  {
   "cell_type": "code",
   "execution_count": 165,
   "id": "c6644afb",
   "metadata": {},
   "outputs": [
    {
     "data": {
      "text/plain": [
       "tensor([0.2000, 0.4000, 0.3000])"
      ]
     },
     "execution_count": 165,
     "metadata": {},
     "output_type": "execute_result"
    }
   ],
   "source": [
    "# Testing the loss function, we see that the loss is lower for each of the predictions\n",
    "# that are close to the desired outcome\n",
    "trgt = tensor([1, 0, 1])\n",
    "prd = tensor([0.8, 0.4, 0.7])\n",
    "\n",
    "torch.where(trgt == 1, 1-prd, prd)\n",
    "\n"
   ]
  },
  {
   "cell_type": "code",
   "execution_count": 166,
   "id": "3fa97cb1",
   "metadata": {},
   "outputs": [
    {
     "data": {
      "text/plain": [
       "tensor([0.6900, 0.4013, 0.6682])"
      ]
     },
     "execution_count": 166,
     "metadata": {},
     "output_type": "execute_result"
    }
   ],
   "source": [
    "# However, we run into a flaw where this function will not work well if our predictions are negative\n",
    "# So we introduce the sigmoid activation function\n",
    "\n",
    "\n",
    "prd = tensor([0.8, -0.4, 0.7])\n",
    "\n",
    "prd = prd.sigmoid()\n",
    "\n",
    "prd"
   ]
  },
  {
   "cell_type": "code",
   "execution_count": 167,
   "id": "3c46b998",
   "metadata": {},
   "outputs": [],
   "source": [
    "# Lets modify our loss function to include this\n",
    "def mnist_loss(predictions, targets):\n",
    "    predictions = predictions.sigmoid()\n",
    "    return torch.where(targets==1, 1-predictions, predictions).mean()"
   ]
  },
  {
   "cell_type": "code",
   "execution_count": 168,
   "id": "8c407130",
   "metadata": {},
   "outputs": [
    {
     "data": {
      "text/plain": [
       "[tensor([ 3, 12,  8, 10,  2]),\n",
       " tensor([ 9,  4,  7, 14,  5]),\n",
       " tensor([ 1, 13,  0,  6, 11])]"
      ]
     },
     "execution_count": 168,
     "metadata": {},
     "output_type": "execute_result"
    }
   ],
   "source": [
    "# To optimize our performance and leverage our GPU, we can declare a batch size\n",
    "# Which brings us to our dataloader:\n",
    "\n",
    "# Here is a brief example on how to do this\n",
    "\n",
    "collection = range(15)\n",
    "\n",
    "dl = DataLoader(collection, batch_size= 5, shuffle = True)\n",
    "\n",
    "list(dl)\n"
   ]
  },
  {
   "cell_type": "code",
   "execution_count": 169,
   "id": "a702c8c3",
   "metadata": {},
   "outputs": [],
   "source": [
    "# Showtime!\n",
    "\n",
    "# Re-initialze weights and biases\n",
    "\n",
    "weights = init_params((28*28,1))\n",
    "bias = init_params(1)"
   ]
  },
  {
   "cell_type": "code",
   "execution_count": 170,
   "id": "2c377bc1",
   "metadata": {},
   "outputs": [
    {
     "data": {
      "text/plain": [
       "(torch.Size([256, 784]), torch.Size([256, 1]))"
      ]
     },
     "execution_count": 170,
     "metadata": {},
     "output_type": "execute_result"
    }
   ],
   "source": [
    "# Recall that our dataset must be in tuple format, since we created this earlier, we will use it here\n",
    "\n",
    "dl = DataLoader(dataset, batch_size= 256)\n",
    "\n",
    "# lets look at the first set\n",
    "\n",
    "xb, yb = first(dl)\n",
    "\n",
    "#Images(dependent variable)  labels(independent variable)\n",
    "xb.shape, yb.shape"
   ]
  },
  {
   "cell_type": "code",
   "execution_count": 171,
   "id": "07474cfb",
   "metadata": {},
   "outputs": [],
   "source": [
    "valid_dl = DataLoader(valid_dset, batch_size=256)"
   ]
  },
  {
   "cell_type": "code",
   "execution_count": 172,
   "id": "f9785f0e",
   "metadata": {},
   "outputs": [],
   "source": [
    "# Lets write a auxilary function to calculate the gradient of one batch\n",
    "\n",
    "def calc_grad(xb,yb,model):\n",
    "        preds = model(xb)\n",
    "        loss = mnist_loss(preds,yb)\n",
    "        loss.backward()\n",
    "        "
   ]
  },
  {
   "cell_type": "code",
   "execution_count": 173,
   "id": "e25492c6",
   "metadata": {},
   "outputs": [],
   "source": [
    "# Lets write a function to run through one epoch\n",
    "\n",
    "# Recall that we use the data attribute since we do not want to update gradient when we apply the learning rate\n",
    "# formula\n",
    "\n",
    "# The gradient stores all previous gradients, since we want to calculate fresh new gradients we\n",
    "# use the zero_ method to set all the elements in gradients tensor to zero\n",
    "\n",
    "def train_epoch(model, lr, params):\n",
    "    for xb,yb in dl:\n",
    "        calc_grad(xb, yb, model)\n",
    "        for p in params:\n",
    "            p.data -= p.grad*lr\n",
    "            p.grad.zero_()"
   ]
  },
  {
   "cell_type": "code",
   "execution_count": 174,
   "id": "1bb0d3e7",
   "metadata": {},
   "outputs": [],
   "source": [
    "# We can calculate the accuracy of the predictions in this auxilary function  and return a boolean for threes\n",
    "\n",
    "# Since we are using the sigmoid function, where 0 corresponds to 0.5, we change the threshold to 0.5\n",
    "\n",
    "\n",
    "def batch_accuracy(xb,yb):\n",
    "    preds = xb.sigmoid()\n",
    "    correct = (preds>0.5) == yb\n",
    "    return correct.float().mean()"
   ]
  },
  {
   "cell_type": "code",
   "execution_count": 175,
   "id": "c59d6ffa",
   "metadata": {},
   "outputs": [],
   "source": [
    "# Putting the bathces together\n",
    "\n",
    "def validate_epoch(model):\n",
    "    accs = [batch_accuracy(model(xb), yb)for xb,yb in valid_dl]\n",
    "    return round(torch.stack(accs).mean().item(), 4)\n"
   ]
  },
  {
   "cell_type": "code",
   "execution_count": 176,
   "id": "7cf936cb",
   "metadata": {},
   "outputs": [
    {
     "data": {
      "text/plain": [
       "0.2918"
      ]
     },
     "execution_count": 176,
     "metadata": {},
     "output_type": "execute_result"
    }
   ],
   "source": [
    "lr = 0.01\n",
    "\n",
    "params = weights,bias\n",
    "\n",
    "train_epoch(linear1, lr, params)\n",
    "\n",
    "validate_epoch(linear1)"
   ]
  },
  {
   "cell_type": "code",
   "execution_count": 177,
   "id": "4f369ced",
   "metadata": {},
   "outputs": [
    {
     "name": "stdout",
     "output_type": "stream",
     "text": [
      "0.2968 0.3007 0.3061 0.3116 0.3155 0.3229 0.3279 0.3304 0.3368 0.3413 0.3472 0.3536 0.3615 0.3724 0.3812 0.3877 0.398 0.4029 0.4133 0.4233 "
     ]
    }
   ],
   "source": [
    "# Lets go through some more epochs\n",
    "\n",
    "for i in range(20):\n",
    "    train_epoch(linear1, lr, params)\n",
    "    print(validate_epoch(linear1), end = ' ')"
   ]
  },
  {
   "cell_type": "code",
   "execution_count": 178,
   "id": "9db5725c",
   "metadata": {},
   "outputs": [],
   "source": [
    "# This is a proud moment, we just created a linear model from the (almost) ground level that \n",
    "# is comparable to our pixel averaging baseline\n",
    "\n",
    "# We have achieved the right to use the easier API :D\n",
    "\n",
    "# The next step is to automate SGD through creating an object called an optimizer"
   ]
  },
  {
   "cell_type": "code",
   "execution_count": 179,
   "id": "614a7a7d",
   "metadata": {},
   "outputs": [],
   "source": [
    "# The first step is to replace the linear1 function with a existing torch function\n",
    "# This fucntion also initializes our weights and biases for us\n",
    "linear_model = nn.Linear(28*28,1)"
   ]
  },
  {
   "cell_type": "code",
   "execution_count": 180,
   "id": "366a7332",
   "metadata": {},
   "outputs": [
    {
     "data": {
      "text/plain": [
       "(Linear(in_features=784, out_features=1, bias=True),\n",
       " torch.Size([1, 784]),\n",
       " torch.Size([1]))"
      ]
     },
     "execution_count": 180,
     "metadata": {},
     "output_type": "execute_result"
    }
   ],
   "source": [
    "w,b = linear_model.parameters()\n",
    "linear_model, w.shape, b.shape"
   ]
  },
  {
   "cell_type": "code",
   "execution_count": 181,
   "id": "0cc6d3a9",
   "metadata": {},
   "outputs": [],
   "source": [
    "# We crete the optimizer class that can use these parameters\n",
    "\n",
    "# In short *args and **kwargs allow us to pass in an unspecifed number of arguments to a function\n",
    "# For more detailed info: https://book.pythontips.com/en/latest/args_and_kwargs.html\n",
    "\n",
    "class BasicOptim:\n",
    "    def __init__ (self, params, lr): self.params,self.lr = list(params), lr\n",
    "        \n",
    "    def step(self, *args, **kwargs):\n",
    "        for p in self.params: p.data -= p.grad.data*self.lr\n",
    "            \n",
    "    def zero_grad(self, *args, **kwargs):\n",
    "        for p in self.params: p.grad = None\n",
    "    \n",
    "    "
   ]
  },
  {
   "cell_type": "code",
   "execution_count": 182,
   "id": "f6ee4618",
   "metadata": {},
   "outputs": [],
   "source": [
    "# Lets instantiate the class\n",
    "\n",
    "opt = BasicOptim(linear_model.parameters(), lr)"
   ]
  },
  {
   "cell_type": "code",
   "execution_count": 183,
   "id": "eb6c0e0d",
   "metadata": {},
   "outputs": [],
   "source": [
    "# Lets recreate our single epoch function with this new optimizer object\n",
    "\n",
    "def train_epoch(model):\n",
    "    for xb,yb in dl:\n",
    "        calc_grad(xb,yb,model)\n",
    "        opt.step()\n",
    "        opt.zero_grad()"
   ]
  },
  {
   "cell_type": "code",
   "execution_count": 184,
   "id": "09488292",
   "metadata": {},
   "outputs": [
    {
     "data": {
      "text/plain": [
       "0.5583"
      ]
     },
     "execution_count": 184,
     "metadata": {},
     "output_type": "execute_result"
    }
   ],
   "source": [
    "# Using our same validate_epoch function\n",
    "validate_epoch(linear_model)"
   ]
  },
  {
   "cell_type": "code",
   "execution_count": 185,
   "id": "467477c5",
   "metadata": {},
   "outputs": [],
   "source": [
    "def train_model(model,epochs):\n",
    "    for i in range(epochs):\n",
    "        train_epoch(model)\n",
    "        print(validate_epoch(model), end = ' ')\n",
    "        "
   ]
  },
  {
   "cell_type": "code",
   "execution_count": 186,
   "id": "2161f57e",
   "metadata": {},
   "outputs": [
    {
     "name": "stdout",
     "output_type": "stream",
     "text": [
      "0.8852 0.9194 0.9433 0.9526 0.9565 0.9589 0.9594 0.9599 0.9603 0.9603 0.9608 0.9608 0.9613 0.9623 0.9632 0.9642 0.9652 0.9652 0.9652 0.9652 "
     ]
    }
   ],
   "source": [
    "train_model(linear_model,20)"
   ]
  },
  {
   "cell_type": "code",
   "execution_count": 187,
   "id": "934752e4",
   "metadata": {},
   "outputs": [
    {
     "name": "stdout",
     "output_type": "stream",
     "text": [
      "0.4932 0.8349 0.8403 0.9116 0.9336 0.9472 0.9551 0.9629 0.9658 0.9678 0.9692 0.9717 0.9736 0.9746 0.9761 0.9765 0.9775 0.978 0.978 0.978 "
     ]
    }
   ],
   "source": [
    "# Fastai provide the same BasicOptim class called SGD, so lets replace that accordingly\n",
    "linear_model = nn.Linear(28*28, 1)\n",
    "\n",
    "lr = 1\n",
    "opt = SGD(linear_model.parameters(), lr)\n",
    "\n",
    "train_model(linear_model,20)"
   ]
  },
  {
   "cell_type": "code",
   "execution_count": 188,
   "id": "1be11c95",
   "metadata": {},
   "outputs": [],
   "source": [
    "# Taking a further step with refactoring this process, we can replace the train_model wiht Learner.fit\n",
    "# To do this we will need to create Dataloaders object\n",
    "\n",
    "# This class is effective as it allows us to pass in all our previous dataloaders into one Datloaders object\n",
    "dls = DataLoaders(dl, valid_dl)"
   ]
  },
  {
   "cell_type": "code",
   "execution_count": 189,
   "id": "5077fc5b",
   "metadata": {},
   "outputs": [],
   "source": [
    "# To create a learner we will must pass in: Dataloaders, model, optimization function, the loss function\n",
    "# and (optional) any metrics that we would like to print\n",
    "\n",
    "learn = Learner(dls, nn.Linear(28*28,1), opt_func=SGD, loss_func = mnist_loss, metrics=batch_accuracy )"
   ]
  },
  {
   "cell_type": "code",
   "execution_count": 190,
   "id": "bd191cd6",
   "metadata": {},
   "outputs": [
    {
     "data": {
      "text/html": [
       "\n",
       "<style>\n",
       "    /* Turns off some styling */\n",
       "    progress {\n",
       "        /* gets rid of default border in Firefox and Opera. */\n",
       "        border: none;\n",
       "        /* Needs to be in here for Safari polyfill so background images work as expected. */\n",
       "        background-size: auto;\n",
       "    }\n",
       "    .progress-bar-interrupted, .progress-bar-interrupted::-webkit-progress-bar {\n",
       "        background: #F44336;\n",
       "    }\n",
       "</style>\n"
      ],
      "text/plain": [
       "<IPython.core.display.HTML object>"
      ]
     },
     "metadata": {},
     "output_type": "display_data"
    },
    {
     "data": {
      "text/html": [
       "<table border=\"1\" class=\"dataframe\">\n",
       "  <thead>\n",
       "    <tr style=\"text-align: left;\">\n",
       "      <th>epoch</th>\n",
       "      <th>train_loss</th>\n",
       "      <th>valid_loss</th>\n",
       "      <th>batch_accuracy</th>\n",
       "      <th>time</th>\n",
       "    </tr>\n",
       "  </thead>\n",
       "  <tbody>\n",
       "    <tr>\n",
       "      <td>0</td>\n",
       "      <td>0.637161</td>\n",
       "      <td>0.502858</td>\n",
       "      <td>0.495584</td>\n",
       "      <td>00:00</td>\n",
       "    </tr>\n",
       "    <tr>\n",
       "      <td>1</td>\n",
       "      <td>0.388674</td>\n",
       "      <td>0.277241</td>\n",
       "      <td>0.736506</td>\n",
       "      <td>00:00</td>\n",
       "    </tr>\n",
       "    <tr>\n",
       "      <td>2</td>\n",
       "      <td>0.148070</td>\n",
       "      <td>0.152936</td>\n",
       "      <td>0.862610</td>\n",
       "      <td>00:00</td>\n",
       "    </tr>\n",
       "    <tr>\n",
       "      <td>3</td>\n",
       "      <td>0.067901</td>\n",
       "      <td>0.097307</td>\n",
       "      <td>0.917566</td>\n",
       "      <td>00:00</td>\n",
       "    </tr>\n",
       "    <tr>\n",
       "      <td>4</td>\n",
       "      <td>0.038168</td>\n",
       "      <td>0.073200</td>\n",
       "      <td>0.936212</td>\n",
       "      <td>00:00</td>\n",
       "    </tr>\n",
       "    <tr>\n",
       "      <td>5</td>\n",
       "      <td>0.026406</td>\n",
       "      <td>0.059612</td>\n",
       "      <td>0.950442</td>\n",
       "      <td>00:00</td>\n",
       "    </tr>\n",
       "    <tr>\n",
       "      <td>6</td>\n",
       "      <td>0.021474</td>\n",
       "      <td>0.050992</td>\n",
       "      <td>0.957311</td>\n",
       "      <td>00:00</td>\n",
       "    </tr>\n",
       "    <tr>\n",
       "      <td>7</td>\n",
       "      <td>0.019205</td>\n",
       "      <td>0.045173</td>\n",
       "      <td>0.964181</td>\n",
       "      <td>00:00</td>\n",
       "    </tr>\n",
       "    <tr>\n",
       "      <td>8</td>\n",
       "      <td>0.018000</td>\n",
       "      <td>0.041026</td>\n",
       "      <td>0.966143</td>\n",
       "      <td>00:00</td>\n",
       "    </tr>\n",
       "    <tr>\n",
       "      <td>9</td>\n",
       "      <td>0.017243</td>\n",
       "      <td>0.037934</td>\n",
       "      <td>0.968597</td>\n",
       "      <td>00:00</td>\n",
       "    </tr>\n",
       "  </tbody>\n",
       "</table>"
      ],
      "text/plain": [
       "<IPython.core.display.HTML object>"
      ]
     },
     "metadata": {},
     "output_type": "display_data"
    }
   ],
   "source": [
    "# We call the fit method to train the model\n",
    "\n",
    "learn.fit(10, lr = lr)"
   ]
  },
  {
   "cell_type": "code",
   "execution_count": 191,
   "id": "09167371",
   "metadata": {},
   "outputs": [],
   "source": [
    "# Using Fastai, we have created a simple linear classifier\n",
    "\n",
    "# Lets create a Basic Neural Network:\n",
    "\n",
    "# This function takes our linear model, \n",
    "# uses the max method to convert all negative outputs to zero (ReLU function)\n",
    "# and passes the values to another linear fucntion with seperates weights and biases\n",
    "\n",
    "# The idea of using one functions output as input to the next function is called Function Composition\n",
    "\n",
    "# Adding the ReLU activation function between the layers is what adds the non-linearity \n",
    "# This non-linearity allows each layer to act 'independently' from the next layer, creating a \n",
    "# powerful tool that we can use to solve many arbitrary problems, this is derived from a called\n",
    "# The Universal Approximation Theorem\n",
    "\n",
    "# If we had ommited ReLE from this function, we would just be left with a similar linear model\n",
    "# that we we created earlier\n",
    "\n",
    "def simple_net(xb):\n",
    "    res = xb@w1 + b1\n",
    "    res = res.max(tensor(0.0))\n",
    "    res = xb@w2 + b2\n",
    "    return res\n",
    "    "
   ]
  },
  {
   "cell_type": "code",
   "execution_count": 192,
   "id": "1b064bbd",
   "metadata": {},
   "outputs": [],
   "source": [
    "# Lets intialize our w1, b1, w2, b2 tensors\n",
    "\n",
    "# We choose the subjective value of 30, which reflects a layer comprising of 30 neurons with their\n",
    "# own weights and biases\n",
    "\n",
    "# The output of this neural network (activation layer) will comprise of one neuron, which indicates\n",
    "# whether we have identified the value as  three\n",
    "\n",
    "# It is important to not that we must match the the input activations of a layer with the same number\n",
    "# of the output activations of the previous layer (30 in this case)\n",
    "\n",
    "w1 = init_params((28*28,30))\n",
    "b1 = init_params(30)\n",
    "w2 = init_params((30,1))\n",
    "b2 = init_params(1)"
   ]
  },
  {
   "cell_type": "code",
   "execution_count": 193,
   "id": "9e38a612",
   "metadata": {},
   "outputs": [
    {
     "name": "stderr",
     "output_type": "stream",
     "text": [
      "/home/slabban/anaconda3/envs/pytorch-fastai/lib/python3.9/site-packages/torch/nn/functional.py:1944: UserWarning: nn.functional.sigmoid is deprecated. Use torch.sigmoid instead.\n",
      "  warnings.warn(\"nn.functional.sigmoid is deprecated. Use torch.sigmoid instead.\")\n"
     ]
    },
    {
     "data": {
      "text/plain": [
       "(None, None)"
      ]
     },
     "execution_count": 193,
     "metadata": {},
     "output_type": "execute_result"
    },
    {
     "data": {
      "image/png": "[encoded data removed]",
      "text/plain": [
       "<Figure size 432x288 with 1 Axes>"
      ]
     },
     "metadata": {
      "needs_background": "light"
     },
     "output_type": "display_data"
    },
    {
     "data": {
      "image/png": "[encoded data removed]",
      "text/plain": [
       "<Figure size 432x288 with 1 Axes>"
      ]
     },
     "metadata": {
      "needs_background": "light"
     },
     "output_type": "display_data"
    }
   ],
   "source": [
    "# A quick visual on the ReLU and Sigmoid functions\n",
    "plot_function(F.relu), plot_function(F.sigmoid)"
   ]
  },
  {
   "cell_type": "code",
   "execution_count": 194,
   "id": "5c2a9fff",
   "metadata": {},
   "outputs": [],
   "source": [
    "# Lets re-write this simple model using our wonderful libraries\n",
    "\n",
    "# Pytorch provides a function to perform function composition called 'Sequential'\n",
    "\n",
    "# nn.ReLU and F.ReLU are similar, but nn.ReLU is a class\n",
    "\n",
    "simple_net = nn.Sequential(nn.Linear(28*28,30), nn.ReLU(), nn.Linear(30,1))\n",
    "\n"
   ]
  },
  {
   "cell_type": "code",
   "execution_count": 195,
   "id": "4ff7807d",
   "metadata": {},
   "outputs": [],
   "source": [
    "# Using a new Learner with our simple neural net model\n",
    "learn = Learner(dls, simple_net, opt_func=SGD, loss_func = mnist_loss, metrics=batch_accuracy )"
   ]
  },
  {
   "cell_type": "code",
   "execution_count": 196,
   "id": "245df2bf",
   "metadata": {},
   "outputs": [
    {
     "data": {
      "text/html": [
       "\n",
       "<style>\n",
       "    /* Turns off some styling */\n",
       "    progress {\n",
       "        /* gets rid of default border in Firefox and Opera. */\n",
       "        border: none;\n",
       "        /* Needs to be in here for Safari polyfill so background images work as expected. */\n",
       "        background-size: auto;\n",
       "    }\n",
       "    .progress-bar-interrupted, .progress-bar-interrupted::-webkit-progress-bar {\n",
       "        background: #F44336;\n",
       "    }\n",
       "</style>\n"
      ],
      "text/plain": [
       "<IPython.core.display.HTML object>"
      ]
     },
     "metadata": {},
     "output_type": "display_data"
    },
    {
     "data": {
      "text/html": [
       "<table border=\"1\" class=\"dataframe\">\n",
       "  <thead>\n",
       "    <tr style=\"text-align: left;\">\n",
       "      <th>epoch</th>\n",
       "      <th>train_loss</th>\n",
       "      <th>valid_loss</th>\n",
       "      <th>batch_accuracy</th>\n",
       "      <th>time</th>\n",
       "    </tr>\n",
       "  </thead>\n",
       "  <tbody>\n",
       "    <tr>\n",
       "      <td>0</td>\n",
       "      <td>0.354286</td>\n",
       "      <td>0.396134</td>\n",
       "      <td>0.510304</td>\n",
       "      <td>00:00</td>\n",
       "    </tr>\n",
       "    <tr>\n",
       "      <td>1</td>\n",
       "      <td>0.160530</td>\n",
       "      <td>0.245401</td>\n",
       "      <td>0.780177</td>\n",
       "      <td>00:00</td>\n",
       "    </tr>\n",
       "    <tr>\n",
       "      <td>2</td>\n",
       "      <td>0.086674</td>\n",
       "      <td>0.119410</td>\n",
       "      <td>0.911678</td>\n",
       "      <td>00:00</td>\n",
       "    </tr>\n",
       "    <tr>\n",
       "      <td>3</td>\n",
       "      <td>0.055475</td>\n",
       "      <td>0.079001</td>\n",
       "      <td>0.941609</td>\n",
       "      <td>00:00</td>\n",
       "    </tr>\n",
       "    <tr>\n",
       "      <td>4</td>\n",
       "      <td>0.041269</td>\n",
       "      <td>0.061175</td>\n",
       "      <td>0.957311</td>\n",
       "      <td>00:00</td>\n",
       "    </tr>\n",
       "    <tr>\n",
       "      <td>5</td>\n",
       "      <td>0.034172</td>\n",
       "      <td>0.051345</td>\n",
       "      <td>0.964181</td>\n",
       "      <td>00:00</td>\n",
       "    </tr>\n",
       "    <tr>\n",
       "      <td>6</td>\n",
       "      <td>0.030189</td>\n",
       "      <td>0.045197</td>\n",
       "      <td>0.966143</td>\n",
       "      <td>00:00</td>\n",
       "    </tr>\n",
       "    <tr>\n",
       "      <td>7</td>\n",
       "      <td>0.027649</td>\n",
       "      <td>0.041013</td>\n",
       "      <td>0.966634</td>\n",
       "      <td>00:00</td>\n",
       "    </tr>\n",
       "    <tr>\n",
       "      <td>8</td>\n",
       "      <td>0.025842</td>\n",
       "      <td>0.037975</td>\n",
       "      <td>0.969087</td>\n",
       "      <td>00:00</td>\n",
       "    </tr>\n",
       "    <tr>\n",
       "      <td>9</td>\n",
       "      <td>0.024452</td>\n",
       "      <td>0.035660</td>\n",
       "      <td>0.969578</td>\n",
       "      <td>00:00</td>\n",
       "    </tr>\n",
       "    <tr>\n",
       "      <td>10</td>\n",
       "      <td>0.023328</td>\n",
       "      <td>0.033829</td>\n",
       "      <td>0.972522</td>\n",
       "      <td>00:00</td>\n",
       "    </tr>\n",
       "    <tr>\n",
       "      <td>11</td>\n",
       "      <td>0.022391</td>\n",
       "      <td>0.032333</td>\n",
       "      <td>0.973503</td>\n",
       "      <td>00:00</td>\n",
       "    </tr>\n",
       "    <tr>\n",
       "      <td>12</td>\n",
       "      <td>0.021593</td>\n",
       "      <td>0.031078</td>\n",
       "      <td>0.974975</td>\n",
       "      <td>00:00</td>\n",
       "    </tr>\n",
       "    <tr>\n",
       "      <td>13</td>\n",
       "      <td>0.020903</td>\n",
       "      <td>0.030003</td>\n",
       "      <td>0.975957</td>\n",
       "      <td>00:00</td>\n",
       "    </tr>\n",
       "    <tr>\n",
       "      <td>14</td>\n",
       "      <td>0.020299</td>\n",
       "      <td>0.029067</td>\n",
       "      <td>0.975466</td>\n",
       "      <td>00:00</td>\n",
       "    </tr>\n",
       "    <tr>\n",
       "      <td>15</td>\n",
       "      <td>0.019763</td>\n",
       "      <td>0.028242</td>\n",
       "      <td>0.975957</td>\n",
       "      <td>00:00</td>\n",
       "    </tr>\n",
       "    <tr>\n",
       "      <td>16</td>\n",
       "      <td>0.019284</td>\n",
       "      <td>0.027507</td>\n",
       "      <td>0.976448</td>\n",
       "      <td>00:00</td>\n",
       "    </tr>\n",
       "    <tr>\n",
       "      <td>17</td>\n",
       "      <td>0.018852</td>\n",
       "      <td>0.026847</td>\n",
       "      <td>0.976938</td>\n",
       "      <td>00:00</td>\n",
       "    </tr>\n",
       "    <tr>\n",
       "      <td>18</td>\n",
       "      <td>0.018460</td>\n",
       "      <td>0.026251</td>\n",
       "      <td>0.977920</td>\n",
       "      <td>00:00</td>\n",
       "    </tr>\n",
       "    <tr>\n",
       "      <td>19</td>\n",
       "      <td>0.018102</td>\n",
       "      <td>0.025710</td>\n",
       "      <td>0.978410</td>\n",
       "      <td>00:00</td>\n",
       "    </tr>\n",
       "    <tr>\n",
       "      <td>20</td>\n",
       "      <td>0.017772</td>\n",
       "      <td>0.025216</td>\n",
       "      <td>0.978410</td>\n",
       "      <td>00:00</td>\n",
       "    </tr>\n",
       "    <tr>\n",
       "      <td>21</td>\n",
       "      <td>0.017468</td>\n",
       "      <td>0.024764</td>\n",
       "      <td>0.979392</td>\n",
       "      <td>00:00</td>\n",
       "    </tr>\n",
       "    <tr>\n",
       "      <td>22</td>\n",
       "      <td>0.017186</td>\n",
       "      <td>0.024348</td>\n",
       "      <td>0.979882</td>\n",
       "      <td>00:00</td>\n",
       "    </tr>\n",
       "    <tr>\n",
       "      <td>23</td>\n",
       "      <td>0.016922</td>\n",
       "      <td>0.023966</td>\n",
       "      <td>0.980373</td>\n",
       "      <td>00:00</td>\n",
       "    </tr>\n",
       "    <tr>\n",
       "      <td>24</td>\n",
       "      <td>0.016675</td>\n",
       "      <td>0.023612</td>\n",
       "      <td>0.980373</td>\n",
       "      <td>00:00</td>\n",
       "    </tr>\n",
       "    <tr>\n",
       "      <td>25</td>\n",
       "      <td>0.016444</td>\n",
       "      <td>0.023285</td>\n",
       "      <td>0.980373</td>\n",
       "      <td>00:00</td>\n",
       "    </tr>\n",
       "    <tr>\n",
       "      <td>26</td>\n",
       "      <td>0.016225</td>\n",
       "      <td>0.022981</td>\n",
       "      <td>0.980373</td>\n",
       "      <td>00:00</td>\n",
       "    </tr>\n",
       "    <tr>\n",
       "      <td>27</td>\n",
       "      <td>0.016019</td>\n",
       "      <td>0.022699</td>\n",
       "      <td>0.980373</td>\n",
       "      <td>00:00</td>\n",
       "    </tr>\n",
       "    <tr>\n",
       "      <td>28</td>\n",
       "      <td>0.015824</td>\n",
       "      <td>0.022437</td>\n",
       "      <td>0.980373</td>\n",
       "      <td>00:00</td>\n",
       "    </tr>\n",
       "    <tr>\n",
       "      <td>29</td>\n",
       "      <td>0.015639</td>\n",
       "      <td>0.022192</td>\n",
       "      <td>0.980864</td>\n",
       "      <td>00:00</td>\n",
       "    </tr>\n",
       "    <tr>\n",
       "      <td>30</td>\n",
       "      <td>0.015462</td>\n",
       "      <td>0.021964</td>\n",
       "      <td>0.981354</td>\n",
       "      <td>00:00</td>\n",
       "    </tr>\n",
       "    <tr>\n",
       "      <td>31</td>\n",
       "      <td>0.015294</td>\n",
       "      <td>0.021751</td>\n",
       "      <td>0.982336</td>\n",
       "      <td>00:00</td>\n",
       "    </tr>\n",
       "    <tr>\n",
       "      <td>32</td>\n",
       "      <td>0.015134</td>\n",
       "      <td>0.021551</td>\n",
       "      <td>0.982826</td>\n",
       "      <td>00:00</td>\n",
       "    </tr>\n",
       "    <tr>\n",
       "      <td>33</td>\n",
       "      <td>0.014981</td>\n",
       "      <td>0.021363</td>\n",
       "      <td>0.982826</td>\n",
       "      <td>00:00</td>\n",
       "    </tr>\n",
       "    <tr>\n",
       "      <td>34</td>\n",
       "      <td>0.014835</td>\n",
       "      <td>0.021187</td>\n",
       "      <td>0.982826</td>\n",
       "      <td>00:00</td>\n",
       "    </tr>\n",
       "    <tr>\n",
       "      <td>35</td>\n",
       "      <td>0.014694</td>\n",
       "      <td>0.021021</td>\n",
       "      <td>0.982826</td>\n",
       "      <td>00:00</td>\n",
       "    </tr>\n",
       "    <tr>\n",
       "      <td>36</td>\n",
       "      <td>0.014559</td>\n",
       "      <td>0.020864</td>\n",
       "      <td>0.982826</td>\n",
       "      <td>00:00</td>\n",
       "    </tr>\n",
       "    <tr>\n",
       "      <td>37</td>\n",
       "      <td>0.014429</td>\n",
       "      <td>0.020716</td>\n",
       "      <td>0.982826</td>\n",
       "      <td>00:00</td>\n",
       "    </tr>\n",
       "    <tr>\n",
       "      <td>38</td>\n",
       "      <td>0.014304</td>\n",
       "      <td>0.020576</td>\n",
       "      <td>0.982826</td>\n",
       "      <td>00:00</td>\n",
       "    </tr>\n",
       "    <tr>\n",
       "      <td>39</td>\n",
       "      <td>0.014183</td>\n",
       "      <td>0.020443</td>\n",
       "      <td>0.982336</td>\n",
       "      <td>00:00</td>\n",
       "    </tr>\n",
       "  </tbody>\n",
       "</table>"
      ],
      "text/plain": [
       "<IPython.core.display.HTML object>"
      ]
     },
     "metadata": {},
     "output_type": "display_data"
    }
   ],
   "source": [
    "learn.fit(40, 0.1)"
   ]
  },
  {
   "cell_type": "code",
   "execution_count": 197,
   "id": "acdbe6b6",
   "metadata": {},
   "outputs": [
    {
     "data": {
      "text/plain": [
       "[<matplotlib.lines.Line2D at 0x7efb5c0519d0>]"
      ]
     },
     "execution_count": 197,
     "metadata": {},
     "output_type": "execute_result"
    },
    {
     "data": {
      "image/png": "[encoded data removed]",
      "text/plain": [
       "<Figure size 432x288 with 1 Axes>"
      ]
     },
     "metadata": {
      "needs_background": "light"
     },
     "output_type": "display_data"
    }
   ],
   "source": [
    "plt.plot(L(learn.recorder.values).itemgot(2))"
   ]
  },
  {
   "cell_type": "code",
   "execution_count": 198,
   "id": "abddc797",
   "metadata": {},
   "outputs": [
    {
     "data": {
      "text/plain": [
       "0.98233562707901"
      ]
     },
     "execution_count": 198,
     "metadata": {},
     "output_type": "execute_result"
    }
   ],
   "source": [
    "learn.recorder.values[-1][2]"
   ]
  },
  {
   "cell_type": "code",
   "execution_count": 199,
   "id": "fad0304e",
   "metadata": {},
   "outputs": [
    {
     "data": {
      "text/plain": [
       "Sequential(\n",
       "  (0): Linear(in_features=784, out_features=30, bias=True)\n",
       "  (1): ReLU()\n",
       "  (2): Linear(in_features=30, out_features=1, bias=True)\n",
       ")"
      ]
     },
     "execution_count": 199,
     "metadata": {},
     "output_type": "execute_result"
    }
   ],
   "source": [
    "m = learn.model\n",
    "m"
   ]
  },
  {
   "cell_type": "code",
   "execution_count": 200,
   "id": "359ef0c4",
   "metadata": {},
   "outputs": [],
   "source": [
    "w,b = m[0].parameters()"
   ]
  },
  {
   "cell_type": "code",
   "execution_count": 201,
   "id": "24b5b93a",
   "metadata": {},
   "outputs": [
    {
     "data": {
      "text/plain": [
       "(<AxesSubplot:>, <AxesSubplot:>)"
      ]
     },
     "execution_count": 201,
     "metadata": {},
     "output_type": "execute_result"
    },
    {
     "data": {
      "image/png": "[encoded data removed]",
      "text/plain": [
       "<Figure size 72x72 with 1 Axes>"
      ]
     },
     "metadata": {
      "needs_background": "light"
     },
     "output_type": "display_data"
    },
    {
     "data": {
      "image/png": "[encoded data removed]",
      "text/plain": [
       "<Figure size 72x72 with 1 Axes>"
      ]
     },
     "metadata": {
      "needs_background": "light"
     },
     "output_type": "display_data"
    }
   ],
   "source": [
    "# We can visualize the features in the layer by reshaping the results in a chosen layer and using \n",
    "# the 'show_image' function\n",
    "show_image(w[10].view(28,28)), show_image(w[29].view(28,28))"
   ]
  },
  {
   "cell_type": "code",
   "execution_count": 202,
   "id": "a9cbb213",
   "metadata": {},
   "outputs": [
    {
     "data": {
      "text/html": [
       "\n",
       "<style>\n",
       "    /* Turns off some styling */\n",
       "    progress {\n",
       "        /* gets rid of default border in Firefox and Opera. */\n",
       "        border: none;\n",
       "        /* Needs to be in here for Safari polyfill so background images work as expected. */\n",
       "        background-size: auto;\n",
       "    }\n",
       "    .progress-bar-interrupted, .progress-bar-interrupted::-webkit-progress-bar {\n",
       "        background: #F44336;\n",
       "    }\n",
       "</style>\n"
      ],
      "text/plain": [
       "<IPython.core.display.HTML object>"
      ]
     },
     "metadata": {},
     "output_type": "display_data"
    },
    {
     "data": {
      "text/html": [
       "<table border=\"1\" class=\"dataframe\">\n",
       "  <thead>\n",
       "    <tr style=\"text-align: left;\">\n",
       "      <th>epoch</th>\n",
       "      <th>train_loss</th>\n",
       "      <th>valid_loss</th>\n",
       "      <th>accuracy</th>\n",
       "      <th>time</th>\n",
       "    </tr>\n",
       "  </thead>\n",
       "  <tbody>\n",
       "    <tr>\n",
       "      <td>0</td>\n",
       "      <td>0.074192</td>\n",
       "      <td>0.009735</td>\n",
       "      <td>0.997056</td>\n",
       "      <td>00:05</td>\n",
       "    </tr>\n",
       "  </tbody>\n",
       "</table>"
      ],
      "text/plain": [
       "<IPython.core.display.HTML object>"
      ]
     },
     "metadata": {},
     "output_type": "display_data"
    }
   ],
   "source": [
    "# Lets compare this with the resnet18 model\n",
    "# We have almost 100% accuracy in one epoch vs our 40 epochs\n",
    "dls = ImageDataLoaders.from_folder(path)\n",
    "learn = cnn_learner(dls, resnet18, pretrained=False,\n",
    "                    loss_func=F.cross_entropy, metrics=accuracy)\n",
    "learn.fit_one_cycle(1, 0.1)"
   ]
  },
  {
   "cell_type": "code",
   "execution_count": 203,
   "id": "d0f5a42a",
   "metadata": {},
   "outputs": [
    {
     "data": {
      "text/plain": [
       "Sequential(\n",
       "  (0): Sequential(\n",
       "    (0): Conv2d(3, 64, kernel_size=(7, 7), stride=(2, 2), padding=(3, 3), bias=False)\n",
       "    (1): BatchNorm2d(64, eps=1e-05, momentum=0.1, affine=True, track_running_stats=True)\n",
       "    (2): ReLU(inplace=True)\n",
       "    (3): MaxPool2d(kernel_size=3, stride=2, padding=1, dilation=1, ceil_mode=False)\n",
       "    (4): Sequential(\n",
       "      (0): BasicBlock(\n",
       "        (conv1): Conv2d(64, 64, kernel_size=(3, 3), stride=(1, 1), padding=(1, 1), bias=False)\n",
       "        (bn1): BatchNorm2d(64, eps=1e-05, momentum=0.1, affine=True, track_running_stats=True)\n",
       "        (relu): ReLU(inplace=True)\n",
       "        (conv2): Conv2d(64, 64, kernel_size=(3, 3), stride=(1, 1), padding=(1, 1), bias=False)\n",
       "        (bn2): BatchNorm2d(64, eps=1e-05, momentum=0.1, affine=True, track_running_stats=True)\n",
       "      )\n",
       "      (1): BasicBlock(\n",
       "        (conv1): Conv2d(64, 64, kernel_size=(3, 3), stride=(1, 1), padding=(1, 1), bias=False)\n",
       "        (bn1): BatchNorm2d(64, eps=1e-05, momentum=0.1, affine=True, track_running_stats=True)\n",
       "        (relu): ReLU(inplace=True)\n",
       "        (conv2): Conv2d(64, 64, kernel_size=(3, 3), stride=(1, 1), padding=(1, 1), bias=False)\n",
       "        (bn2): BatchNorm2d(64, eps=1e-05, momentum=0.1, affine=True, track_running_stats=True)\n",
       "      )\n",
       "    )\n",
       "    (5): Sequential(\n",
       "      (0): BasicBlock(\n",
       "        (conv1): Conv2d(64, 128, kernel_size=(3, 3), stride=(2, 2), padding=(1, 1), bias=False)\n",
       "        (bn1): BatchNorm2d(128, eps=1e-05, momentum=0.1, affine=True, track_running_stats=True)\n",
       "        (relu): ReLU(inplace=True)\n",
       "        (conv2): Conv2d(128, 128, kernel_size=(3, 3), stride=(1, 1), padding=(1, 1), bias=False)\n",
       "        (bn2): BatchNorm2d(128, eps=1e-05, momentum=0.1, affine=True, track_running_stats=True)\n",
       "        (downsample): Sequential(\n",
       "          (0): Conv2d(64, 128, kernel_size=(1, 1), stride=(2, 2), bias=False)\n",
       "          (1): BatchNorm2d(128, eps=1e-05, momentum=0.1, affine=True, track_running_stats=True)\n",
       "        )\n",
       "      )\n",
       "      (1): BasicBlock(\n",
       "        (conv1): Conv2d(128, 128, kernel_size=(3, 3), stride=(1, 1), padding=(1, 1), bias=False)\n",
       "        (bn1): BatchNorm2d(128, eps=1e-05, momentum=0.1, affine=True, track_running_stats=True)\n",
       "        (relu): ReLU(inplace=True)\n",
       "        (conv2): Conv2d(128, 128, kernel_size=(3, 3), stride=(1, 1), padding=(1, 1), bias=False)\n",
       "        (bn2): BatchNorm2d(128, eps=1e-05, momentum=0.1, affine=True, track_running_stats=True)\n",
       "      )\n",
       "    )\n",
       "    (6): Sequential(\n",
       "      (0): BasicBlock(\n",
       "        (conv1): Conv2d(128, 256, kernel_size=(3, 3), stride=(2, 2), padding=(1, 1), bias=False)\n",
       "        (bn1): BatchNorm2d(256, eps=1e-05, momentum=0.1, affine=True, track_running_stats=True)\n",
       "        (relu): ReLU(inplace=True)\n",
       "        (conv2): Conv2d(256, 256, kernel_size=(3, 3), stride=(1, 1), padding=(1, 1), bias=False)\n",
       "        (bn2): BatchNorm2d(256, eps=1e-05, momentum=0.1, affine=True, track_running_stats=True)\n",
       "        (downsample): Sequential(\n",
       "          (0): Conv2d(128, 256, kernel_size=(1, 1), stride=(2, 2), bias=False)\n",
       "          (1): BatchNorm2d(256, eps=1e-05, momentum=0.1, affine=True, track_running_stats=True)\n",
       "        )\n",
       "      )\n",
       "      (1): BasicBlock(\n",
       "        (conv1): Conv2d(256, 256, kernel_size=(3, 3), stride=(1, 1), padding=(1, 1), bias=False)\n",
       "        (bn1): BatchNorm2d(256, eps=1e-05, momentum=0.1, affine=True, track_running_stats=True)\n",
       "        (relu): ReLU(inplace=True)\n",
       "        (conv2): Conv2d(256, 256, kernel_size=(3, 3), stride=(1, 1), padding=(1, 1), bias=False)\n",
       "        (bn2): BatchNorm2d(256, eps=1e-05, momentum=0.1, affine=True, track_running_stats=True)\n",
       "      )\n",
       "    )\n",
       "    (7): Sequential(\n",
       "      (0): BasicBlock(\n",
       "        (conv1): Conv2d(256, 512, kernel_size=(3, 3), stride=(2, 2), padding=(1, 1), bias=False)\n",
       "        (bn1): BatchNorm2d(512, eps=1e-05, momentum=0.1, affine=True, track_running_stats=True)\n",
       "        (relu): ReLU(inplace=True)\n",
       "        (conv2): Conv2d(512, 512, kernel_size=(3, 3), stride=(1, 1), padding=(1, 1), bias=False)\n",
       "        (bn2): BatchNorm2d(512, eps=1e-05, momentum=0.1, affine=True, track_running_stats=True)\n",
       "        (downsample): Sequential(\n",
       "          (0): Conv2d(256, 512, kernel_size=(1, 1), stride=(2, 2), bias=False)\n",
       "          (1): BatchNorm2d(512, eps=1e-05, momentum=0.1, affine=True, track_running_stats=True)\n",
       "        )\n",
       "      )\n",
       "      (1): BasicBlock(\n",
       "        (conv1): Conv2d(512, 512, kernel_size=(3, 3), stride=(1, 1), padding=(1, 1), bias=False)\n",
       "        (bn1): BatchNorm2d(512, eps=1e-05, momentum=0.1, affine=True, track_running_stats=True)\n",
       "        (relu): ReLU(inplace=True)\n",
       "        (conv2): Conv2d(512, 512, kernel_size=(3, 3), stride=(1, 1), padding=(1, 1), bias=False)\n",
       "        (bn2): BatchNorm2d(512, eps=1e-05, momentum=0.1, affine=True, track_running_stats=True)\n",
       "      )\n",
       "    )\n",
       "  )\n",
       "  (1): Sequential(\n",
       "    (0): AdaptiveConcatPool2d(\n",
       "      (ap): AdaptiveAvgPool2d(output_size=1)\n",
       "      (mp): AdaptiveMaxPool2d(output_size=1)\n",
       "    )\n",
       "    (1): Flatten(full=False)\n",
       "    (2): BatchNorm1d(1024, eps=1e-05, momentum=0.1, affine=True, track_running_stats=True)\n",
       "    (3): Dropout(p=0.25, inplace=False)\n",
       "    (4): Linear(in_features=1024, out_features=512, bias=False)\n",
       "    (5): ReLU(inplace=True)\n",
       "    (6): BatchNorm1d(512, eps=1e-05, momentum=0.1, affine=True, track_running_stats=True)\n",
       "    (7): Dropout(p=0.5, inplace=False)\n",
       "    (8): Linear(in_features=512, out_features=2, bias=False)\n",
       "  )\n",
       ")"
      ]
     },
     "execution_count": 203,
     "metadata": {},
     "output_type": "execute_result"
    }
   ],
   "source": [
    "# Looking at the layers of this model, we can easily see that there are a lot of things going on\n",
    "# that make this model so efficient\n",
    "resnet_m = learn.model\n",
    "resnet_m"
   ]
  }
 ],
 "metadata": {
  "kernelspec": {
   "display_name": "Python [conda env:pytorch-fastai]",
   "language": "python",
   "name": "conda-env-pytorch-fastai-py"
  },
  "language_info": {
   "codemirror_mode": {
    "name": "ipython",
    "version": 3
   },
   "file_extension": ".py",
   "mimetype": "text/x-python",
   "name": "python",
   "nbconvert_exporter": "python",
   "pygments_lexer": "ipython3",
   "version": "3.9.12"
  }
 },
 "nbformat": 4,
 "nbformat_minor": 5
}
