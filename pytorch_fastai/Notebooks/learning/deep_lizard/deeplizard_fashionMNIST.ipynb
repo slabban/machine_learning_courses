{
 "cells": [
  {
   "cell_type": "code",
   "execution_count": 1,
   "id": "1d26234d",
   "metadata": {},
   "outputs": [],
   "source": [
    "!pip install -Uqq fastbook\n",
    "import fastbook\n",
    "fastbook.setup_book()"
   ]
  },
  {
   "cell_type": "code",
   "execution_count": 2,
   "id": "47112191",
   "metadata": {},
   "outputs": [],
   "source": [
    "from fastai.vision.all import *\n",
    "from fastbook import *"
   ]
  },
  {
   "cell_type": "code",
   "execution_count": 3,
   "id": "c5226abe",
   "metadata": {},
   "outputs": [],
   "source": [
    "import torchvision\n",
    "import torchvision.transforms as transforms\n",
    "import torch.optim as optim\n"
   ]
  },
  {
   "cell_type": "code",
   "execution_count": 4,
   "id": "795722d5",
   "metadata": {},
   "outputs": [],
   "source": [
    "# This is the low level implementation of the fastai api, i.e pytorch at it's core\n",
    "\n",
    "# We will perform the base oeration of ETL:\n",
    "# Extract - get the fashion mnist data from source\n",
    "# Transform - put our data in tensor form\n",
    "# Load - put our data to an object to make it easily accessible \n",
    "\n",
    "# This will be done using the dataset and dataloader abstract classes directly from the torch library"
   ]
  },
  {
   "cell_type": "code",
   "execution_count": 5,
   "id": "aa7370d7",
   "metadata": {},
   "outputs": [
    {
     "name": "stderr",
     "output_type": "stream",
     "text": [
      "/home/slabban/anaconda3/lib/python3.8/site-packages/torchvision/datasets/mnist.py:498: UserWarning: The given NumPy array is not writeable, and PyTorch does not support non-writeable tensors. This means you can write to the underlying (supposedly non-writeable) NumPy array using the tensor. You may want to copy the array to protect its data or make it writeable before converting it to a tensor. This type of warning will be suppressed for the rest of this program. (Triggered internally at  /opt/conda/conda-bld/pytorch_1623448234945/work/torch/csrc/utils/tensor_numpy.cpp:180.)\n",
      "  return torch.from_numpy(parsed.astype(m[2], copy=False)).view(*s)\n"
     ]
    }
   ],
   "source": [
    "train_set = torchvision.datasets.FashionMNIST(\n",
    "    root='/home/slabban/machine_learning_courses/datasets'\n",
    "    ,train=True\n",
    "    ,download=True\n",
    "    ,transform=transforms.Compose([\n",
    "        transforms.ToTensor()\n",
    "    ])\n",
    "    \n",
    ")\n",
    "\n",
    "#'./data/FashionMNIST'"
   ]
  },
  {
   "cell_type": "code",
   "execution_count": 6,
   "id": "da3e2bb5",
   "metadata": {},
   "outputs": [
    {
     "name": "stdout",
     "output_type": "stream",
     "text": [
      "\u001b[0;31mType:\u001b[0m        FashionMNIST\n",
      "\u001b[0;31mString form:\u001b[0m\n",
      "Dataset FashionMNIST\n",
      "           Number of datapoints: 60000\n",
      "           Root location: /home/slabban/machine_lea <...>     Split: Train\n",
      "           StandardTransform\n",
      "           Transform: Compose(\n",
      "           ToTensor()\n",
      "           )\n",
      "\u001b[0;31mLength:\u001b[0m      60000\n",
      "\u001b[0;31mFile:\u001b[0m        ~/anaconda3/lib/python3.8/site-packages/torchvision/datasets/mnist.py\n",
      "\u001b[0;31mDocstring:\u001b[0m  \n",
      "`Fashion-MNIST <https://github.com/zalandoresearch/fashion-mnist>`_ Dataset.\n",
      "\n",
      "Args:\n",
      "    root (string): Root directory of dataset where ``FashionMNIST/processed/training.pt``\n",
      "        and  ``FashionMNIST/processed/test.pt`` exist.\n",
      "    train (bool, optional): If True, creates dataset from ``training.pt``,\n",
      "        otherwise from ``test.pt``.\n",
      "    download (bool, optional): If true, downloads the dataset from the internet and\n",
      "        puts it in root directory. If dataset is already downloaded, it is not\n",
      "        downloaded again.\n",
      "    transform (callable, optional): A function/transform that  takes in an PIL image\n",
      "        and returns a transformed version. E.g, ``transforms.RandomCrop``\n",
      "    target_transform (callable, optional): A function/transform that takes in the\n",
      "        target and transforms it.\n"
     ]
    }
   ],
   "source": [
    "train_set?\n"
   ]
  },
  {
   "cell_type": "code",
   "execution_count": 7,
   "id": "59c0e4d2",
   "metadata": {},
   "outputs": [],
   "source": [
    "# We set up the dataloader iterator\n",
    "train_loader = torch.utils.data.DataLoader(train_set)"
   ]
  },
  {
   "cell_type": "code",
   "execution_count": 8,
   "id": "aa9554da",
   "metadata": {},
   "outputs": [
    {
     "name": "stdout",
     "output_type": "stream",
     "text": [
      "\u001b[0;31mType:\u001b[0m        DataLoader\n",
      "\u001b[0;31mString form:\u001b[0m <torch.utils.data.dataloader.DataLoader object at 0x7f028df75520>\n",
      "\u001b[0;31mLength:\u001b[0m      60000\n",
      "\u001b[0;31mFile:\u001b[0m        ~/anaconda3/lib/python3.8/site-packages/torch/utils/data/dataloader.py\n",
      "\u001b[0;31mDocstring:\u001b[0m  \n",
      "Data loader. Combines a dataset and a sampler, and provides an iterable over\n",
      "the given dataset.\n",
      "\n",
      "The :class:`~torch.utils.data.DataLoader` supports both map-style and\n",
      "iterable-style datasets with single- or multi-process loading, customizing\n",
      "loading order and optional automatic batching (collation) and memory pinning.\n",
      "\n",
      "See :py:mod:`torch.utils.data` documentation page for more details.\n",
      "\n",
      "Args:\n",
      "    dataset (Dataset): dataset from which to load the data.\n",
      "    batch_size (int, optional): how many samples per batch to load\n",
      "        (default: ``1``).\n",
      "    shuffle (bool, optional): set to ``True`` to have the data reshuffled\n",
      "        at every epoch (default: ``False``).\n",
      "    sampler (Sampler or Iterable, optional): defines the strategy to draw\n",
      "        samples from the dataset. Can be any ``Iterable`` with ``__len__``\n",
      "        implemented. If specified, :attr:`shuffle` must not be specified.\n",
      "    batch_sampler (Sampler or Iterable, optional): like :attr:`sampler`, but\n",
      "        returns a batch of indices at a time. Mutually exclusive with\n",
      "        :attr:`batch_size`, :attr:`shuffle`, :attr:`sampler`,\n",
      "        and :attr:`drop_last`.\n",
      "    num_workers (int, optional): how many subprocesses to use for data\n",
      "        loading. ``0`` means that the data will be loaded in the main process.\n",
      "        (default: ``0``)\n",
      "    collate_fn (callable, optional): merges a list of samples to form a\n",
      "        mini-batch of Tensor(s).  Used when using batched loading from a\n",
      "        map-style dataset.\n",
      "    pin_memory (bool, optional): If ``True``, the data loader will copy Tensors\n",
      "        into CUDA pinned memory before returning them.  If your data elements\n",
      "        are a custom type, or your :attr:`collate_fn` returns a batch that is a custom type,\n",
      "        see the example below.\n",
      "    drop_last (bool, optional): set to ``True`` to drop the last incomplete batch,\n",
      "        if the dataset size is not divisible by the batch size. If ``False`` and\n",
      "        the size of dataset is not divisible by the batch size, then the last batch\n",
      "        will be smaller. (default: ``False``)\n",
      "    timeout (numeric, optional): if positive, the timeout value for collecting a batch\n",
      "        from workers. Should always be non-negative. (default: ``0``)\n",
      "    worker_init_fn (callable, optional): If not ``None``, this will be called on each\n",
      "        worker subprocess with the worker id (an int in ``[0, num_workers - 1]``) as\n",
      "        input, after seeding and before data loading. (default: ``None``)\n",
      "    generator (torch.Generator, optional): If not ``None``, this RNG will be used\n",
      "        by RandomSampler to generate random indexes and multiprocessing to generate\n",
      "        `base_seed` for workers. (default: ``None``)\n",
      "    prefetch_factor (int, optional, keyword-only arg): Number of samples loaded\n",
      "        in advance by each worker. ``2`` means there will be a total of\n",
      "        2 * num_workers samples prefetched across all workers. (default: ``2``)\n",
      "    persistent_workers (bool, optional): If ``True``, the data loader will not shutdown\n",
      "        the worker processes after a dataset has been consumed once. This allows to\n",
      "        maintain the workers `Dataset` instances alive. (default: ``False``)\n",
      "\n",
      "\n",
      ".. warning:: If the ``spawn`` start method is used, :attr:`worker_init_fn`\n",
      "             cannot be an unpicklable object, e.g., a lambda function. See\n",
      "             :ref:`multiprocessing-best-practices` on more details related\n",
      "             to multiprocessing in PyTorch.\n",
      "\n",
      ".. warning:: ``len(dataloader)`` heuristic is based on the length of the sampler used.\n",
      "             When :attr:`dataset` is an :class:`~torch.utils.data.IterableDataset`,\n",
      "             it instead returns an estimate based on ``len(dataset) / batch_size``, with proper\n",
      "             rounding depending on :attr:`drop_last`, regardless of multi-process loading\n",
      "             configurations. This represents the best guess PyTorch can make because PyTorch\n",
      "             trusts user :attr:`dataset` code in correctly handling multi-process\n",
      "             loading to avoid duplicate data.\n",
      "\n",
      "             However, if sharding results in multiple workers having incomplete last batches,\n",
      "             this estimate can still be inaccurate, because (1) an otherwise complete batch can\n",
      "             be broken into multiple ones and (2) more than one batch worth of samples can be\n",
      "             dropped when :attr:`drop_last` is set. Unfortunately, PyTorch can not detect such\n",
      "             cases in general.\n",
      "\n",
      "             See `Dataset Types`_ for more details on these two types of datasets and how\n",
      "             :class:`~torch.utils.data.IterableDataset` interacts with\n",
      "             `Multi-process data loading`_.\n",
      "\n",
      ".. warning:: See :ref:`reproducibility`, and :ref:`dataloader-workers-random-seed`, and\n",
      "             :ref:`data-loading-randomness` notes for random seed related questions.\n"
     ]
    }
   ],
   "source": [
    "train_loader?"
   ]
  },
  {
   "cell_type": "code",
   "execution_count": 9,
   "id": "57df2909",
   "metadata": {},
   "outputs": [],
   "source": [
    "# We set up the same Dataloader, but include the batch size\n",
    "train_loader = torch.utils.data.DataLoader(train_set, batch_size=10)"
   ]
  },
  {
   "cell_type": "code",
   "execution_count": 10,
   "id": "c1d1be41",
   "metadata": {},
   "outputs": [
    {
     "name": "stderr",
     "output_type": "stream",
     "text": [
      "/home/slabban/anaconda3/lib/python3.8/site-packages/torchvision/datasets/mnist.py:52: UserWarning: train_labels has been renamed targets\n",
      "  warnings.warn(\"train_labels has been renamed targets\")\n"
     ]
    },
    {
     "data": {
      "text/plain": [
       "tensor([9, 0, 0,  ..., 3, 0, 5])"
      ]
     },
     "execution_count": 10,
     "metadata": {},
     "output_type": "execute_result"
    }
   ],
   "source": [
    "# We can have a look at our train set data\n",
    "len(train_set)\n",
    "train_set.train_labels"
   ]
  },
  {
   "cell_type": "code",
   "execution_count": 11,
   "id": "deda2607",
   "metadata": {},
   "outputs": [
    {
     "data": {
      "text/plain": [
       "tensor([6000, 6000, 6000, 6000, 6000, 6000, 6000, 6000, 6000, 6000])"
      ]
     },
     "execution_count": 11,
     "metadata": {},
     "output_type": "execute_result"
    }
   ],
   "source": [
    "# Here we use the bincount method to validate that we have the same amount of data for each category\n",
    "# It is very important that the numbers match!\n",
    "train_set.train_labels.bincount()"
   ]
  },
  {
   "cell_type": "code",
   "execution_count": 12,
   "id": "5ed6d4c9",
   "metadata": {},
   "outputs": [],
   "source": [
    "# We can inspect an element of this train set using pythons built-in iter function \n",
    "sample = next(iter(train_set))"
   ]
  },
  {
   "cell_type": "code",
   "execution_count": 13,
   "id": "67a1bed2",
   "metadata": {},
   "outputs": [
    {
     "data": {
      "text/plain": [
       "2"
      ]
     },
     "execution_count": 13,
     "metadata": {},
     "output_type": "execute_result"
    }
   ],
   "source": [
    "len(sample)"
   ]
  },
  {
   "cell_type": "code",
   "execution_count": 14,
   "id": "a38bed0e",
   "metadata": {},
   "outputs": [
    {
     "data": {
      "text/plain": [
       "tuple"
      ]
     },
     "execution_count": 14,
     "metadata": {},
     "output_type": "execute_result"
    }
   ],
   "source": [
    "type(sample)"
   ]
  },
  {
   "cell_type": "code",
   "execution_count": 15,
   "id": "f5d52657",
   "metadata": {},
   "outputs": [],
   "source": [
    "image, label = sample"
   ]
  },
  {
   "cell_type": "code",
   "execution_count": 16,
   "id": "7bcf7f9d",
   "metadata": {},
   "outputs": [
    {
     "data": {
      "text/plain": [
       "torch.Tensor"
      ]
     },
     "execution_count": 16,
     "metadata": {},
     "output_type": "execute_result"
    }
   ],
   "source": [
    "type(image)"
   ]
  },
  {
   "cell_type": "code",
   "execution_count": 17,
   "id": "4e8a1eaf",
   "metadata": {},
   "outputs": [
    {
     "data": {
      "text/plain": [
       "torch.Size([1, 28, 28])"
      ]
     },
     "execution_count": 17,
     "metadata": {},
     "output_type": "execute_result"
    }
   ],
   "source": [
    "# We have respectively: Color Chanel, Height, Width\n",
    "image.shape"
   ]
  },
  {
   "cell_type": "code",
   "execution_count": 18,
   "id": "46f46a81",
   "metadata": {},
   "outputs": [
    {
     "name": "stdout",
     "output_type": "stream",
     "text": [
      "label = 9\n"
     ]
    },
    {
     "data": {
      "image/png": "[encoded data removed]",
      "text/plain": [
       "<Figure size 432x288 with 1 Axes>"
      ]
     },
     "metadata": {
      "needs_background": "light"
     },
     "output_type": "display_data"
    }
   ],
   "source": [
    "plt.imshow(image.squeeze(), cmap='gray')\n",
    "print('label =', label)"
   ]
  },
  {
   "cell_type": "code",
   "execution_count": 19,
   "id": "3fe7a46f",
   "metadata": {},
   "outputs": [],
   "source": [
    "# Similar to the train set, we may also iterate through the data loader\n",
    "batch = next(iter(train_loader))"
   ]
  },
  {
   "cell_type": "code",
   "execution_count": 20,
   "id": "3253f200",
   "metadata": {},
   "outputs": [
    {
     "data": {
      "text/plain": [
       "list"
      ]
     },
     "execution_count": 20,
     "metadata": {},
     "output_type": "execute_result"
    }
   ],
   "source": [
    "type(batch)"
   ]
  },
  {
   "cell_type": "code",
   "execution_count": 21,
   "id": "dacb08b4",
   "metadata": {},
   "outputs": [
    {
     "data": {
      "text/plain": [
       "2"
      ]
     },
     "execution_count": 21,
     "metadata": {},
     "output_type": "execute_result"
    }
   ],
   "source": [
    "len(batch)"
   ]
  },
  {
   "cell_type": "code",
   "execution_count": 22,
   "id": "9311d3f5",
   "metadata": {},
   "outputs": [],
   "source": [
    "images, labels = batch"
   ]
  },
  {
   "cell_type": "code",
   "execution_count": 23,
   "id": "38ac8d15",
   "metadata": {},
   "outputs": [
    {
     "data": {
      "text/plain": [
       "torch.Tensor"
      ]
     },
     "execution_count": 23,
     "metadata": {},
     "output_type": "execute_result"
    }
   ],
   "source": [
    "type(images)"
   ]
  },
  {
   "cell_type": "code",
   "execution_count": 24,
   "id": "86ca60bc",
   "metadata": {},
   "outputs": [
    {
     "data": {
      "text/plain": [
       "torch.Size([10, 1, 28, 28])"
      ]
     },
     "execution_count": 24,
     "metadata": {},
     "output_type": "execute_result"
    }
   ],
   "source": [
    "# We can see that the images tensor is a batch of images of size 10 as we specified\n",
    "images.shape"
   ]
  },
  {
   "cell_type": "code",
   "execution_count": 25,
   "id": "32816332",
   "metadata": {},
   "outputs": [
    {
     "data": {
      "text/plain": [
       "torch.Size([10])"
      ]
     },
     "execution_count": 25,
     "metadata": {},
     "output_type": "execute_result"
    }
   ],
   "source": [
    "labels.shape"
   ]
  },
  {
   "cell_type": "code",
   "execution_count": 26,
   "id": "166d78b4",
   "metadata": {},
   "outputs": [],
   "source": [
    "grid = torchvision.utils.make_grid(images, nrow=10)"
   ]
  },
  {
   "cell_type": "code",
   "execution_count": 27,
   "id": "66dd06ed",
   "metadata": {},
   "outputs": [
    {
     "data": {
      "text/plain": [
       "<matplotlib.image.AxesImage at 0x7f028a07d2e0>"
      ]
     },
     "execution_count": 27,
     "metadata": {},
     "output_type": "execute_result"
    },
    {
     "data": {
      "image/png": "[encoded data removed]",
      "text/plain": [
       "<Figure size 1080x1080 with 1 Axes>"
      ]
     },
     "metadata": {
      "needs_background": "light"
     },
     "output_type": "display_data"
    }
   ],
   "source": [
    "plt.figure(figsize=(15,15))\n",
    "plt.imshow(np.transpose(grid, (1,2,0)))"
   ]
  },
  {
   "cell_type": "code",
   "execution_count": 28,
   "id": "46f3d28b",
   "metadata": {},
   "outputs": [],
   "source": [
    "# Now that that ETL process is done, we can set up our model\n",
    "# This is done using the base class called 'Module'. Module is the core class from which neural nets\n",
    "# are built from\n",
    "\n",
    "# The next building block is a method called forward pass, which is the transformation of our tensor as it passes\n",
    "# through our layer or neural network\n",
    "# Within the forward pass, we use methods from the torch's functional class to construct layers"
   ]
  },
  {
   "cell_type": "code",
   "execution_count": 29,
   "id": "ff3f61dc",
   "metadata": {},
   "outputs": [],
   "source": [
    "# The nn.Module is the base class that we will use to build our neural networks\n",
    "class Network(nn.Module):\n",
    "    def __init__(self):\n",
    "        super(Network, self).__init__()\n",
    "        self.conv1 = nn.Conv2d(in_channels=1, out_channels=6, kernel_size=5)\n",
    "        self.conv2 = nn.Conv2d(in_channels=6, out_channels=12, kernel_size=5)\n",
    "        \n",
    "        self.fc1 = nn.Linear(in_features=12*4*4, out_features=120)\n",
    "        self.fc2 = nn.Linear(in_features=120, out_features=60)\n",
    "        self.fc3 = nn.Linear(in_features=60, out_features=10)\n",
    "        \n",
    "    def forward(self, t):\n",
    "        t = self.layer(t)\n",
    "        return t"
   ]
  },
  {
   "cell_type": "code",
   "execution_count": 30,
   "id": "80bc45c7",
   "metadata": {},
   "outputs": [],
   "source": [
    "network = Network()"
   ]
  },
  {
   "cell_type": "code",
   "execution_count": 31,
   "id": "0bb132ee",
   "metadata": {},
   "outputs": [
    {
     "name": "stdout",
     "output_type": "stream",
     "text": [
      "Network(\n",
      "  (conv1): Conv2d(1, 6, kernel_size=(5, 5), stride=(1, 1))\n",
      "  (conv2): Conv2d(6, 12, kernel_size=(5, 5), stride=(1, 1))\n",
      "  (fc1): Linear(in_features=192, out_features=120, bias=True)\n",
      "  (fc2): Linear(in_features=120, out_features=60, bias=True)\n",
      "  (fc3): Linear(in_features=60, out_features=10, bias=True)\n",
      ")\n"
     ]
    }
   ],
   "source": [
    "# We can very our nn structure using the 'print' operator\n",
    "print(network)"
   ]
  },
  {
   "cell_type": "code",
   "execution_count": 32,
   "id": "ed2992c4",
   "metadata": {},
   "outputs": [
    {
     "name": "stdout",
     "output_type": "stream",
     "text": [
      "\u001b[0;31mSignature:\u001b[0m       \u001b[0mnetwork\u001b[0m\u001b[0;34m(\u001b[0m\u001b[0;34m*\u001b[0m\u001b[0minput\u001b[0m\u001b[0;34m,\u001b[0m \u001b[0;34m**\u001b[0m\u001b[0mkwargs\u001b[0m\u001b[0;34m)\u001b[0m\u001b[0;34m\u001b[0m\u001b[0;34m\u001b[0m\u001b[0m\n",
      "\u001b[0;31mType:\u001b[0m            Network\n",
      "\u001b[0;31mString form:\u001b[0m    \n",
      "Network(\n",
      "  (conv1): Conv2d(1, 6, kernel_size=(5, 5), stride=(1, 1))\n",
      "  (conv2): Conv2d(6, 12, kernel_size=(5, 5), stride=(1, 1))\n",
      "  (fc1): Linear(in_features=192, out_features=120, bias=True)\n",
      "  (fc2): Linear(in_features=120, out_features=60, bias=True)\n",
      "  (fc3): Linear(in_features=60, out_features=10, bias=True)\n",
      ")\n",
      "\u001b[0;31mDocstring:\u001b[0m       <no docstring>\n",
      "\u001b[0;31mClass docstring:\u001b[0m\n",
      "Base class for all neural network modules.\n",
      "\n",
      "Your models should also subclass this class.\n",
      "\n",
      "Modules can also contain other Modules, allowing to nest them in\n",
      "a tree structure. You can assign the submodules as regular attributes::\n",
      "\n",
      "    import torch.nn as nn\n",
      "    import torch.nn.functional as F\n",
      "\n",
      "    class Model(nn.Module):\n",
      "        def __init__(self):\n",
      "            super(Model, self).__init__()\n",
      "            self.conv1 = nn.Conv2d(1, 20, 5)\n",
      "            self.conv2 = nn.Conv2d(20, 20, 5)\n",
      "\n",
      "        def forward(self, x):\n",
      "            x = F.relu(self.conv1(x))\n",
      "            return F.relu(self.conv2(x))\n",
      "\n",
      "Submodules assigned in this way will be registered, and will have their\n",
      "parameters converted too when you call :meth:`to`, etc.\n",
      "\n",
      ":ivar training: Boolean represents whether this module is in training or\n",
      "                evaluation mode.\n",
      ":vartype training: bool\n",
      "\u001b[0;31mInit docstring:\u001b[0m  Initializes internal Module state, shared by both nn.Module and ScriptModule.\n"
     ]
    }
   ],
   "source": [
    "# We can also view additonal information using the '?' operator provided in Notebooks\n",
    "network??"
   ]
  },
  {
   "cell_type": "code",
   "execution_count": 33,
   "id": "5308af88",
   "metadata": {},
   "outputs": [
    {
     "data": {
      "text/plain": [
       "<slot wrapper '__repr__' of 'object' objects>"
      ]
     },
     "execution_count": 33,
     "metadata": {},
     "output_type": "execute_result"
    }
   ],
   "source": [
    "# A quick python lesson, dunder functions (ex. __init__, __repr__) are functions that are written using the 'object'\n",
    "# base class written in python. We simply override these functions when we inherit 'object'\n",
    "# __repr__ in this case is meant to tell the user what the class represents, this is part of good \n",
    "# API writing practices\n",
    "network.__repr__\n",
    "object.__repr__"
   ]
  },
  {
   "cell_type": "code",
   "execution_count": 34,
   "id": "dd614356",
   "metadata": {},
   "outputs": [
    {
     "data": {
      "text/plain": [
       "Conv2d(1, 6, kernel_size=(5, 5), stride=(1, 1))"
      ]
     },
     "execution_count": 34,
     "metadata": {},
     "output_type": "execute_result"
    }
   ],
   "source": [
    "# Accessing the internals of the class using the dot operator\n",
    "\n",
    "network.conv1"
   ]
  },
  {
   "cell_type": "code",
   "execution_count": 35,
   "id": "971077e0",
   "metadata": {},
   "outputs": [
    {
     "data": {
      "text/plain": [
       "torch.Size([6, 1, 5, 5])"
      ]
     },
     "execution_count": 35,
     "metadata": {},
     "output_type": "execute_result"
    }
   ],
   "source": [
    "# We see that the convolutional layer, while comprised of 6 ourput filters, is packaged into a single tensor \n",
    "network.conv1.weight.shape"
   ]
  },
  {
   "cell_type": "code",
   "execution_count": 36,
   "id": "aed11017",
   "metadata": {},
   "outputs": [
    {
     "data": {
      "text/plain": [
       "torch.Size([1, 5, 5])"
      ]
     },
     "execution_count": 36,
     "metadata": {},
     "output_type": "execute_result"
    }
   ],
   "source": [
    "# To access the individual filter\n",
    "\n",
    "network.conv1.weight[0].shape"
   ]
  },
  {
   "cell_type": "code",
   "execution_count": 37,
   "id": "863392ba",
   "metadata": {},
   "outputs": [
    {
     "data": {
      "text/plain": [
       "torch.Size([12, 6, 5, 5])"
      ]
     },
     "execution_count": 37,
     "metadata": {},
     "output_type": "execute_result"
    }
   ],
   "source": [
    "# Conv2 will have 6 filters coming in from conv1\n",
    "\n",
    "network.conv2.weight.shape"
   ]
  },
  {
   "cell_type": "code",
   "execution_count": 38,
   "id": "a326f84e",
   "metadata": {},
   "outputs": [
    {
     "data": {
      "text/plain": [
       "torch.Size([6, 5, 5])"
      ]
     },
     "execution_count": 38,
     "metadata": {},
     "output_type": "execute_result"
    }
   ],
   "source": [
    "# We can access the filters similarly\n",
    "\n",
    "network.conv2.weight[0].shape"
   ]
  },
  {
   "cell_type": "code",
   "execution_count": 39,
   "id": "8c0f9fe9",
   "metadata": {},
   "outputs": [
    {
     "data": {
      "text/plain": [
       "torch.Size([120, 192])"
      ]
     },
     "execution_count": 39,
     "metadata": {},
     "output_type": "execute_result"
    }
   ],
   "source": [
    "# Looking at the fully connected layers, we see a rank 2 tensor that is known as a weight matrix\n",
    "# Where the rows are layer output shape and the columns are the input shape\n",
    "# This reflects how matrix multiplication works.. Internally the linear layer creates a weight matrix that \n",
    "# transforms the in_feature to the out_features\n",
    "# This equation manifests in the form of y = Ax+b, where: \n",
    "# y = out_features, A = weight matrix, x = in_features, b = bias\n",
    "\n",
    "network.fc1.weight.shape"
   ]
  },
  {
   "cell_type": "code",
   "execution_count": 40,
   "id": "54b6c4af",
   "metadata": {},
   "outputs": [
    {
     "data": {
      "text/plain": [
       "torch.Size([60, 120])"
      ]
     },
     "execution_count": 40,
     "metadata": {},
     "output_type": "execute_result"
    }
   ],
   "source": [
    "network.fc2.weight.shape"
   ]
  },
  {
   "cell_type": "code",
   "execution_count": 41,
   "id": "bfe52dd5",
   "metadata": {},
   "outputs": [
    {
     "name": "stdout",
     "output_type": "stream",
     "text": [
      "torch.Size([6, 1, 5, 5])\n",
      "torch.Size([6])\n",
      "torch.Size([12, 6, 5, 5])\n",
      "torch.Size([12])\n",
      "torch.Size([120, 192])\n",
      "torch.Size([120])\n",
      "torch.Size([60, 120])\n",
      "torch.Size([60])\n",
      "torch.Size([10, 60])\n",
      "torch.Size([10])\n"
     ]
    }
   ],
   "source": [
    "# We can quickly access these weights using iteration\n",
    "\n",
    "for param in network.parameters():\n",
    "    print(param.shape)"
   ]
  },
  {
   "cell_type": "code",
   "execution_count": 42,
   "id": "3f4acab0",
   "metadata": {},
   "outputs": [
    {
     "name": "stdout",
     "output_type": "stream",
     "text": [
      "conv1.weight \t\t torch.Size([6, 1, 5, 5])\n",
      "conv1.bias \t\t torch.Size([6])\n",
      "conv2.weight \t\t torch.Size([12, 6, 5, 5])\n",
      "conv2.bias \t\t torch.Size([12])\n",
      "fc1.weight \t\t torch.Size([120, 192])\n",
      "fc1.bias \t\t torch.Size([120])\n",
      "fc2.weight \t\t torch.Size([60, 120])\n",
      "fc2.bias \t\t torch.Size([60])\n",
      "fc3.weight \t\t torch.Size([10, 60])\n",
      "fc3.bias \t\t torch.Size([10])\n"
     ]
    }
   ],
   "source": [
    "# for a labelled view\n",
    "\n",
    "for name, param in network.named_parameters():\n",
    "    print(name, '\\t\\t',param.shape)"
   ]
  },
  {
   "cell_type": "code",
   "execution_count": 43,
   "id": "b081adbb",
   "metadata": {},
   "outputs": [],
   "source": [
    "# Lets build on our Network class by implementing the 'forward' method, which accepts and returns a tensor\n",
    "# We dont actually call this method ourselves as it is called via the __call__ function in our instantiated layers\n",
    "class Network(nn.Module):\n",
    "    def __init__(self):\n",
    "        super(Network, self).__init__()\n",
    "        self.conv1 = nn.Conv2d(in_channels=1, out_channels=6, kernel_size=5)\n",
    "        self.conv2 = nn.Conv2d(in_channels=6, out_channels=12, kernel_size=5)\n",
    "        \n",
    "        self.fc1 = nn.Linear(in_features=12*4*4, out_features=120)\n",
    "        self.fc2 = nn.Linear(in_features=120, out_features=60)\n",
    "        self.out = nn.Linear(in_features=60, out_features=10)\n",
    "        \n",
    "    def forward(self, t):\n",
    "       t = self.conv1(t)\n",
    "       t = F.relu(t)\n",
    "       t = F.max_pool2d(t, kernel_size =2, stride=2)\n",
    "\n",
    "       t = self.conv2(t)\n",
    "       t = F.relu(t)\n",
    "       t = F.max_pool2d(t, kernel_size =2, stride=2)\n",
    "\n",
    "       t = t.reshape(-1, 12*4*4)\n",
    "       t = self.fc1(t)\n",
    "       t = F.relu(t)\n",
    "\n",
    "       t = self.fc2(t)\n",
    "       t = F.relu(t)\n",
    "\n",
    "       t = self.out(t)\n",
    "\n",
    "       return t"
   ]
  },
  {
   "cell_type": "code",
   "execution_count": 44,
   "id": "3f95086e",
   "metadata": {},
   "outputs": [],
   "source": [
    "# Lets use our forward method to get a prediction for iteration of our batch from above!\n",
    "\n",
    "network  = Network()\n"
   ]
  },
  {
   "cell_type": "code",
   "execution_count": 45,
   "id": "3c29be97",
   "metadata": {},
   "outputs": [
    {
     "name": "stderr",
     "output_type": "stream",
     "text": [
      "/home/slabban/anaconda3/lib/python3.8/site-packages/torch/nn/functional.py:718: UserWarning: Named tensors and all their associated APIs are an experimental feature and subject to change. Please do not use them for anything important until they are released as stable. (Triggered internally at  /opt/conda/conda-bld/pytorch_1623448234945/work/c10/core/TensorImpl.h:1156.)\n",
      "  return torch.max_pool2d(input, kernel_size, stride, padding, dilation, ceil_mode)\n"
     ]
    }
   ],
   "source": [
    "preds = network(images)"
   ]
  },
  {
   "cell_type": "code",
   "execution_count": 46,
   "id": "6d8c9348",
   "metadata": {},
   "outputs": [
    {
     "data": {
      "text/plain": [
       "tensor([[-3.3426e-03, -7.1323e-02,  7.8255e-02, -8.3808e-02,  6.5652e-03, -5.0777e-02, -8.8978e-02, -5.0551e-02,  8.2188e-02, -1.0216e-01],\n",
       "        [ 1.0020e-04, -7.1054e-02,  8.0478e-02, -8.3540e-02,  9.1273e-03, -5.0264e-02, -8.4848e-02, -5.0446e-02,  8.3748e-02, -1.0265e-01],\n",
       "        [ 1.0123e-03, -6.7141e-02,  8.4918e-02, -8.7293e-02,  8.3175e-03, -5.6603e-02, -9.0827e-02, -4.6471e-02,  8.3293e-02, -9.6956e-02],\n",
       "        [-5.7489e-04, -6.9723e-02,  8.0905e-02, -8.6568e-02,  9.3787e-03, -5.4597e-02, -8.9130e-02, -4.6755e-02,  8.2357e-02, -9.6836e-02],\n",
       "        [-3.9236e-03, -7.1148e-02,  7.7897e-02, -8.1536e-02,  5.4800e-03, -5.2923e-02, -8.4848e-02, -5.0493e-02,  8.1978e-02, -1.0026e-01],\n",
       "        [ 2.0220e-03, -7.1849e-02,  8.4364e-02, -8.4682e-02,  1.1787e-02, -5.2186e-02, -8.8768e-02, -4.9554e-02,  8.2816e-02, -1.0016e-01],\n",
       "        [ 2.6240e-03, -6.6019e-02,  8.6990e-02, -8.8091e-02,  1.3576e-02, -4.7835e-02, -9.2482e-02, -4.5429e-02,  8.5548e-02, -9.6504e-02],\n",
       "        [-2.7865e-03, -6.9877e-02,  7.9501e-02, -8.0881e-02,  3.7041e-03, -5.5594e-02, -8.4991e-02, -4.6395e-02,  7.8978e-02, -9.8508e-02],\n",
       "        [ 6.5356e-03, -7.0144e-02,  8.7336e-02, -9.0406e-02,  1.2987e-02, -5.8333e-02, -9.0006e-02, -5.1523e-02,  8.3626e-02, -9.8822e-02],\n",
       "        [ 8.4902e-03, -7.2512e-02,  8.5484e-02, -9.1391e-02,  1.3347e-02, -5.7465e-02, -8.5033e-02, -5.3065e-02,  8.2278e-02, -1.0014e-01]], grad_fn=<AddmmBackward>)"
      ]
     },
     "execution_count": 46,
     "metadata": {},
     "output_type": "execute_result"
    }
   ],
   "source": [
    "preds"
   ]
  },
  {
   "cell_type": "code",
   "execution_count": 47,
   "id": "e5364d9e",
   "metadata": {},
   "outputs": [
    {
     "data": {
      "text/plain": [
       "tensor([[0.1023, 0.0956, 0.1110, 0.0944, 0.1033, 0.0976, 0.0939, 0.0976, 0.1115, 0.0927],\n",
       "        [0.1025, 0.0955, 0.1111, 0.0943, 0.1035, 0.0975, 0.0942, 0.0975, 0.1115, 0.0925],\n",
       "        [0.1026, 0.0958, 0.1116, 0.0939, 0.1034, 0.0969, 0.0936, 0.0978, 0.1114, 0.0930],\n",
       "        [0.1025, 0.0956, 0.1112, 0.0940, 0.1035, 0.0971, 0.0938, 0.0979, 0.1113, 0.0931],\n",
       "        [0.1022, 0.0956, 0.1109, 0.0946, 0.1032, 0.0973, 0.0943, 0.0976, 0.1114, 0.0928],\n",
       "        [0.1027, 0.0954, 0.1115, 0.0942, 0.1037, 0.0973, 0.0938, 0.0975, 0.1113, 0.0927],\n",
       "        [0.1026, 0.0957, 0.1116, 0.0937, 0.1037, 0.0975, 0.0932, 0.0977, 0.1114, 0.0929],\n",
       "        [0.1023, 0.0957, 0.1111, 0.0946, 0.1030, 0.0971, 0.0942, 0.0980, 0.1110, 0.0930],\n",
       "        [0.1032, 0.0955, 0.1118, 0.0936, 0.1038, 0.0967, 0.0937, 0.0973, 0.1114, 0.0928],\n",
       "        [0.1034, 0.0953, 0.1117, 0.0936, 0.1039, 0.0968, 0.0942, 0.0972, 0.1113, 0.0927]], grad_fn=<SoftmaxBackward>)"
      ]
     },
     "execution_count": 47,
     "metadata": {},
     "output_type": "execute_result"
    }
   ],
   "source": [
    "# We can view these values as a probablility using the softmax function\n",
    "\n",
    "F.softmax(preds, dim=1)"
   ]
  },
  {
   "cell_type": "code",
   "execution_count": 48,
   "id": "b18d7012",
   "metadata": {},
   "outputs": [
    {
     "data": {
      "text/plain": [
       "tensor([9, 0, 0, 3, 0, 2, 7, 2, 5, 5])"
      ]
     },
     "execution_count": 48,
     "metadata": {},
     "output_type": "execute_result"
    }
   ],
   "source": [
    "labels"
   ]
  },
  {
   "cell_type": "code",
   "execution_count": 49,
   "id": "b555e5df",
   "metadata": {},
   "outputs": [
    {
     "data": {
      "text/plain": [
       "tensor([8, 8, 2, 8, 8, 2, 2, 2, 2, 2])"
      ]
     },
     "execution_count": 49,
     "metadata": {},
     "output_type": "execute_result"
    }
   ],
   "source": [
    "# Comparing the preds to the argmax, which returns the index with the highest value, we can see that the batch predictions are clearly inaccurate\n",
    "# which is what we would expect, interestingly, it predicts all objects to be the same, this is may be due to the batch havin similar images\n",
    "preds.argmax(dim=1)"
   ]
  },
  {
   "cell_type": "code",
   "execution_count": 50,
   "id": "2c8a0a89",
   "metadata": {},
   "outputs": [
    {
     "data": {
      "text/plain": [
       "torch.Size([10, 10])"
      ]
     },
     "execution_count": 50,
     "metadata": {},
     "output_type": "execute_result"
    }
   ],
   "source": [
    "preds.shape"
   ]
  },
  {
   "cell_type": "code",
   "execution_count": 51,
   "id": "91b624e2",
   "metadata": {},
   "outputs": [
    {
     "data": {
      "text/plain": [
       "tensor([8, 8, 2, 8, 2, 8, 8, 8, 2, 2])"
      ]
     },
     "execution_count": 51,
     "metadata": {},
     "output_type": "execute_result"
    }
   ],
   "source": [
    "# Lets try another batch, we can see in the second iteration, we can see that the second batch has different predictions\n",
    "sample = iter(train_loader)\n",
    "iter1 = sample.next()\n",
    "iter2 = sample.next()\n",
    "images1, labels1 = iter2\n",
    "preds = network(images1)\n",
    "preds.argmax(dim=1)"
   ]
  },
  {
   "cell_type": "code",
   "execution_count": 52,
   "id": "43c5f041",
   "metadata": {},
   "outputs": [
    {
     "data": {
      "text/plain": [
       "tensor([9, 9, 9, 9, 9, 9, 9, 9, 9, 9])"
      ]
     },
     "execution_count": 52,
     "metadata": {},
     "output_type": "execute_result"
    }
   ],
   "source": [
    "# Since these weights are randomly initialized everytime we instantiate the class, we will most likely see different predictions if we instantiate\n",
    "# the class again, just to keep in mind..\n",
    "\n",
    "net1 = Network()\n",
    "preds1 = net1(images)\n",
    "preds1.argmax(dim=1)"
   ]
  },
  {
   "cell_type": "code",
   "execution_count": 53,
   "id": "c2b1f3fd",
   "metadata": {},
   "outputs": [
    {
     "data": {
      "text/plain": [
       "tensor([False, False, False, False, False, False, False, False, False, False])"
      ]
     },
     "execution_count": 53,
     "metadata": {},
     "output_type": "execute_result"
    }
   ],
   "source": [
    "# We can predict the predictions against the label using:\n",
    "\n",
    "preds.argmax(dim=1).eq(labels)"
   ]
  },
  {
   "cell_type": "code",
   "execution_count": 54,
   "id": "865eb628",
   "metadata": {},
   "outputs": [
    {
     "data": {
      "text/plain": [
       "tensor(0)"
      ]
     },
     "execution_count": 54,
     "metadata": {},
     "output_type": "execute_result"
    }
   ],
   "source": [
    "# We can sum our correct predictions using \n",
    "\n",
    "preds.argmax(dim=1).eq(labels).sum()"
   ]
  },
  {
   "cell_type": "code",
   "execution_count": 55,
   "id": "00d066d1",
   "metadata": {},
   "outputs": [],
   "source": [
    "# Lets create a quick util function for this\n",
    "\n",
    "def get_num_correct(preds, labels):\n",
    "    return preds.argmax(dim=1).eq(labels).sum().item()"
   ]
  },
  {
   "cell_type": "code",
   "execution_count": 56,
   "id": "ed9a2ba2",
   "metadata": {},
   "outputs": [],
   "source": [
    "# Lets get to training! I will recreate the dataloader, but will use a a batch size of 100 \n",
    "\n",
    "train_loader = torch.utils.data.DataLoader(train_set, batch_size=100)\n",
    "batch = next(iter(train_loader))\n",
    "images, labels = batch"
   ]
  },
  {
   "cell_type": "code",
   "execution_count": 57,
   "id": "34a55284",
   "metadata": {},
   "outputs": [],
   "source": [
    "# An important thing for multiple class predictions is the use a loss function called 'Cross-Entropy Loss'.\n",
    "# Cross-Entropy loss comprises of two parts\n",
    "\n",
    "# 1. Softmax. This is a extension of  sigmoid fucntion that allows us to get predictions for multiple \n",
    "# clasification i.e have an output layer that comprises of more than one neuron. \n",
    "# The basic Sigmoid falls short as taking the sum of the predictions for 2 or more classes will give us\n",
    "# a value that is greater than one, which does not make any sense.\n",
    "# The Softmax modification correts for this and sums the total predictions to one, as done above.\n",
    "# An interesting observation about Softmax is that it exponentially increases the output.\n",
    "\n",
    "# 2. Log Likelihood. In a nutshell, this uses indexing to enumerate individual classes with their \n",
    "# own unique value, this enables us to assign predictions to multiple classes, and hence, have their own\n",
    "# prediction\n",
    "\n",
    "# Interstingly enough, we don't actually take the natural log, it is found to be much more efficient and accurate \n",
    "# to take the nautal log during the Softmax portion. The reason we take the log is to give our model the ability\n",
    "# To further train our model beyond the restriction of 0 to 1, from -infinity to 0 (ln(0) - ln(1))"
   ]
  },
  {
   "cell_type": "code",
   "execution_count": 58,
   "id": "72f17181",
   "metadata": {},
   "outputs": [
    {
     "data": {
      "text/plain": [
       "2.3157265186309814"
      ]
     },
     "execution_count": 58,
     "metadata": {},
     "output_type": "execute_result"
    }
   ],
   "source": [
    "# Calculating the loss:\n",
    "\n",
    "preds = network(images)\n",
    "loss = F.cross_entropy(preds, labels)\n",
    "loss.item()"
   ]
  },
  {
   "cell_type": "code",
   "execution_count": 59,
   "id": "1a250a90",
   "metadata": {},
   "outputs": [
    {
     "name": "stdout",
     "output_type": "stream",
     "text": [
      "Parameter containing:\n",
      "tensor([[[[-2.8316e-02, -4.8351e-02, -3.7559e-02,  6.8216e-02,  5.5711e-02],\n",
      "          [-3.6886e-02,  8.0723e-02,  3.0644e-02,  2.6414e-02, -6.2474e-02],\n",
      "          [-2.0288e-02,  7.2119e-02,  5.3936e-02,  4.2113e-02, -3.9325e-02],\n",
      "          [-2.0261e-02,  3.3725e-02,  2.7609e-02, -2.5013e-02, -4.1496e-02],\n",
      "          [-6.5895e-02, -6.5045e-02, -3.3760e-02,  4.3067e-02, -3.9707e-02]],\n",
      "\n",
      "         [[ 2.6576e-02, -5.7274e-02, -2.5711e-03, -4.8753e-02, -3.7714e-02],\n",
      "          [ 4.9149e-02,  2.1616e-02,  7.2044e-02,  2.0826e-02,  2.0473e-03],\n",
      "          [ 6.6232e-02, -5.7235e-02,  4.7176e-02, -2.2034e-04, -2.3772e-03],\n",
      "          [-5.0638e-02, -3.6921e-04, -5.2505e-02,  4.7058e-02, -5.4225e-02],\n",
      "          [-8.3587e-03,  7.7379e-02, -6.9040e-03, -6.5488e-02,  2.0533e-02]],\n",
      "\n",
      "         [[ 2.1017e-02, -4.0556e-02, -6.9674e-02, -8.1555e-02, -4.4096e-02],\n",
      "          [ 2.1344e-03, -7.3207e-02, -6.8388e-02,  2.5125e-02, -6.5908e-02],\n",
      "          [ 5.1277e-04,  2.2318e-02,  7.2474e-02, -1.3682e-04,  2.0157e-02],\n",
      "          [ 6.3067e-02,  2.1000e-02,  7.2714e-02, -1.2260e-02,  8.0392e-02],\n",
      "          [-5.0824e-02,  5.6616e-02,  1.2534e-02, -3.3054e-03,  7.8172e-02]],\n",
      "\n",
      "         [[ 3.9490e-02,  1.2574e-02, -1.9047e-02,  6.9811e-02,  5.0978e-03],\n",
      "          [ 1.8899e-02, -5.4132e-03, -3.0502e-02, -4.3542e-02,  4.4722e-02],\n",
      "          [ 1.4687e-02,  1.3192e-02,  3.9419e-03, -2.9678e-02, -3.3059e-03],\n",
      "          [-4.1061e-02,  8.3348e-03,  3.7471e-02, -7.7978e-02,  7.0219e-02],\n",
      "          [-2.4092e-02,  6.5199e-02,  6.7002e-02,  3.5802e-02,  7.2735e-02]],\n",
      "\n",
      "         [[-7.1206e-02, -7.4469e-02,  4.7887e-03, -4.0352e-02, -3.9499e-02],\n",
      "          [-8.5785e-03, -5.4241e-02, -2.7755e-03, -4.4079e-02,  2.0325e-02],\n",
      "          [ 1.1394e-02, -5.4711e-02, -3.6241e-02, -5.2428e-03,  4.6175e-02],\n",
      "          [ 7.3607e-02,  3.0156e-02,  2.7303e-03, -2.9607e-03,  7.5590e-02],\n",
      "          [-4.6572e-02, -4.9364e-02,  1.6325e-02, -5.5171e-02,  8.1082e-02]],\n",
      "\n",
      "         [[-4.5506e-02, -4.4200e-02,  4.9392e-02, -1.5384e-02,  7.8277e-02],\n",
      "          [-3.5410e-02,  4.0505e-02,  1.2751e-02,  2.0478e-02, -8.0611e-02],\n",
      "          [-1.2006e-02, -6.2339e-03, -4.6215e-02,  4.6437e-02,  7.5905e-02],\n",
      "          [ 7.9732e-02,  5.9591e-02, -2.1117e-02, -4.2978e-02,  4.9596e-02],\n",
      "          [ 6.5799e-02, -2.9952e-02,  5.3122e-02, -4.0226e-02, -2.4297e-02]]],\n",
      "\n",
      "\n",
      "        [[[ 6.5495e-02,  7.8174e-02, -7.0631e-02,  4.4868e-02,  7.0115e-02],\n",
      "          [ 1.6004e-02,  3.2326e-02,  3.6120e-02,  3.0985e-03,  4.9297e-02],\n",
      "          [-5.4167e-02, -8.2006e-03, -2.5772e-02,  4.2629e-02, -5.5176e-02],\n",
      "          [ 3.6987e-02, -3.5056e-02,  6.0348e-02, -3.9096e-03,  1.1744e-02],\n",
      "          [ 3.1194e-02,  2.8292e-02,  3.7752e-02,  5.1070e-02, -2.0183e-02]],\n",
      "\n",
      "         [[-3.2911e-02,  2.8075e-02, -7.9959e-02,  1.8659e-02,  3.5895e-02],\n",
      "          [ 6.5355e-02,  6.1622e-02, -4.4427e-02, -5.9685e-02, -2.1196e-02],\n",
      "          [-6.7619e-02,  8.9804e-03,  4.7768e-02,  4.6097e-02, -7.9157e-02],\n",
      "          [ 3.3122e-02, -4.0065e-02, -3.5648e-02, -5.7990e-02, -2.3786e-02],\n",
      "          [-3.3010e-02, -4.1317e-02,  6.5056e-02, -7.5590e-03,  3.0042e-02]],\n",
      "\n",
      "         [[-1.8061e-02,  5.0992e-02, -5.8353e-02, -2.0637e-02, -4.8485e-02],\n",
      "          [-4.7938e-02, -2.7258e-02, -7.8056e-02, -1.1987e-03, -7.8764e-02],\n",
      "          [ 9.5311e-03,  1.6988e-02,  5.4209e-02, -6.3708e-02, -1.5515e-02],\n",
      "          [-1.2655e-02, -7.2621e-02,  4.6946e-02,  4.3074e-02,  3.4694e-02],\n",
      "          [-9.7731e-03,  9.1738e-03,  4.9304e-02, -3.6127e-02,  3.0935e-02]],\n",
      "\n",
      "         [[ 3.0895e-02, -7.6153e-02, -3.7646e-02, -4.7599e-02, -6.1429e-02],\n",
      "          [ 6.2437e-02, -2.8200e-02, -2.4344e-02, -7.4505e-02,  7.1099e-02],\n",
      "          [-1.0735e-02,  6.5537e-02,  6.5096e-02, -3.6307e-02,  2.3282e-03],\n",
      "          [ 4.1216e-02,  7.6672e-02, -1.1750e-02, -2.9055e-02,  8.1174e-02],\n",
      "          [ 4.8076e-02, -4.5709e-02,  3.2942e-02, -6.8941e-02,  2.3832e-02]],\n",
      "\n",
      "         [[ 2.5828e-02, -2.9390e-02, -3.4402e-02,  4.8011e-02,  3.3312e-03],\n",
      "          [-6.7281e-02,  3.5239e-02,  3.3160e-02, -4.1877e-02,  6.1341e-02],\n",
      "          [-6.1524e-02,  1.4581e-02, -4.9263e-02, -7.1788e-02,  4.8518e-02],\n",
      "          [ 6.2513e-02, -7.1936e-02, -5.3566e-02, -3.6629e-02, -6.6784e-02],\n",
      "          [ 5.6604e-03,  6.8158e-02,  2.4134e-02, -3.9375e-02, -2.7811e-02]],\n",
      "\n",
      "         [[ 1.1716e-02, -5.1161e-02, -7.1053e-02,  1.9716e-03,  1.3168e-03],\n",
      "          [-4.8645e-02, -5.3689e-02,  7.7672e-02,  9.5591e-03, -1.1944e-02],\n",
      "          [-3.5383e-02,  4.8741e-02,  8.4684e-03,  6.2553e-02, -1.9230e-02],\n",
      "          [-4.7916e-02,  5.4063e-02, -3.2186e-02,  6.9092e-02, -1.2359e-03],\n",
      "          [ 1.1915e-02, -4.2587e-02, -7.9782e-02, -4.5748e-02,  2.8610e-02]]],\n",
      "\n",
      "\n",
      "        [[[-6.8253e-02, -1.3303e-02, -5.1963e-03,  1.5662e-02, -8.0994e-02],\n",
      "          [-2.1932e-02, -6.1668e-03,  9.8939e-03, -2.2807e-02,  7.9109e-02],\n",
      "          [-1.3276e-02,  7.3733e-02,  7.3577e-02,  3.6997e-02,  4.0457e-02],\n",
      "          [ 7.3946e-02, -6.4113e-02, -5.8808e-02,  2.3091e-02, -2.1227e-02],\n",
      "          [-3.9077e-02, -6.7042e-02,  2.1539e-02,  6.1983e-02, -3.0083e-02]],\n",
      "\n",
      "         [[ 3.7963e-02,  3.2907e-02,  3.1684e-03, -4.5270e-02,  4.9376e-02],\n",
      "          [ 3.6345e-02, -3.0885e-02,  6.0624e-02,  5.9932e-02, -4.2438e-02],\n",
      "          [-7.0099e-02,  2.8229e-02,  4.8963e-02, -7.5374e-03,  7.2091e-02],\n",
      "          [-1.0858e-02, -1.3425e-03,  5.5715e-02, -9.3623e-03,  6.1793e-02],\n",
      "          [ 1.1354e-02,  2.8127e-02, -1.2297e-02, -5.1580e-03,  3.2842e-02]],\n",
      "\n",
      "         [[-5.2473e-02, -3.6840e-02,  1.1059e-02, -1.9661e-02, -3.8156e-02],\n",
      "          [-5.6117e-02, -2.0367e-02,  7.8860e-02, -4.2812e-02,  2.6023e-02],\n",
      "          [ 7.0453e-02,  6.1511e-02,  3.3117e-04, -2.0790e-02,  7.1223e-02],\n",
      "          [ 2.3192e-02, -7.1391e-02, -4.1643e-02, -2.5827e-02, -1.1954e-02],\n",
      "          [-3.9806e-02,  1.6521e-02,  3.4833e-02, -6.2712e-02, -5.6169e-02]],\n",
      "\n",
      "         [[ 3.6603e-02, -8.0415e-02,  2.7679e-02,  1.8834e-02, -7.5146e-02],\n",
      "          [-2.9527e-03,  6.2594e-02, -4.6803e-03, -1.4203e-02, -6.0450e-02],\n",
      "          [ 1.3512e-04, -8.0531e-02,  6.0007e-02, -6.9276e-02, -1.8714e-02],\n",
      "          [ 3.2686e-02, -6.7250e-03,  1.6386e-02,  9.7107e-03, -1.4084e-02],\n",
      "          [-2.6619e-02,  6.8290e-02,  1.7545e-02,  3.5742e-03,  2.5390e-02]],\n",
      "\n",
      "         [[ 2.7790e-02,  3.3136e-02, -1.8018e-03, -3.3328e-03, -9.8214e-03],\n",
      "          [-5.9875e-02, -6.2391e-03, -6.2417e-02,  5.4154e-02,  4.1674e-02],\n",
      "          [ 1.6511e-02, -7.9884e-02,  7.2584e-03,  1.2199e-02,  2.3126e-02],\n",
      "          [ 8.0484e-02,  6.2369e-02,  2.6902e-02,  7.4390e-02, -5.3038e-03],\n",
      "          [ 5.2807e-02,  5.2135e-03,  1.6424e-02,  2.0847e-02, -1.5558e-02]],\n",
      "\n",
      "         [[ 7.7589e-02,  6.5856e-02, -3.8622e-02, -6.1333e-02,  7.2738e-02],\n",
      "          [ 3.2772e-02, -3.3860e-02, -8.0556e-02, -6.1743e-03,  2.8148e-02],\n",
      "          [ 7.3471e-02,  3.5136e-02,  6.5408e-03,  7.2271e-02,  2.4868e-02],\n",
      "          [ 2.7200e-02, -1.2918e-02,  7.3725e-02,  3.4188e-02, -1.0342e-02],\n",
      "          [ 2.8249e-02, -5.0686e-02, -7.0810e-02,  8.0960e-02,  4.4671e-02]]],\n",
      "\n",
      "\n",
      "        ...,\n",
      "\n",
      "\n",
      "        [[[ 3.5261e-02,  4.2685e-02,  4.9343e-02,  1.3308e-02, -3.4281e-02],\n",
      "          [ 3.3924e-02,  6.5567e-02,  5.4147e-02, -5.4472e-02,  3.0035e-02],\n",
      "          [-2.7812e-02,  6.6821e-02, -3.3419e-02, -1.3670e-02,  2.5992e-02],\n",
      "          [-7.3399e-02,  1.6255e-02,  4.3327e-02, -1.3903e-02, -7.5144e-02],\n",
      "          [-7.9499e-02, -5.9701e-02, -7.0390e-02,  3.6687e-02, -2.1404e-02]],\n",
      "\n",
      "         [[-2.2256e-02,  5.5675e-02,  1.4912e-02, -5.8394e-02,  1.5723e-02],\n",
      "          [ 3.5603e-02, -3.8385e-02,  1.7103e-02, -3.1577e-02, -7.1818e-02],\n",
      "          [-4.8558e-02, -4.4670e-02,  4.7815e-02,  7.1397e-02, -5.5687e-02],\n",
      "          [ 4.7311e-02, -3.2466e-02, -1.2989e-02,  6.2892e-03,  1.9767e-02],\n",
      "          [ 1.4079e-02, -7.7005e-02,  1.7846e-02, -8.0767e-02,  7.8528e-02]],\n",
      "\n",
      "         [[ 7.9769e-02, -7.3786e-02,  3.7877e-02,  5.5863e-02, -5.0390e-02],\n",
      "          [ 1.7658e-02, -3.8866e-02, -5.6992e-02, -3.4699e-02, -3.6020e-02],\n",
      "          [-5.8552e-02, -2.2791e-03,  7.8960e-02,  1.8863e-02, -2.2969e-03],\n",
      "          [-7.9882e-02,  3.5959e-02,  7.3894e-02, -1.0172e-02,  7.6788e-02],\n",
      "          [ 7.9366e-02,  2.9052e-02, -7.1770e-02, -1.9836e-02, -2.0253e-02]],\n",
      "\n",
      "         [[ 1.4541e-03, -3.1891e-02, -3.0376e-02, -2.6979e-02, -7.9685e-03],\n",
      "          [-6.6455e-02, -4.6932e-02,  2.0980e-02,  6.4864e-02,  7.3284e-02],\n",
      "          [ 5.6014e-02, -7.9185e-02, -1.3397e-02, -3.2469e-02,  3.4195e-02],\n",
      "          [ 8.1632e-02,  5.4429e-02,  5.1611e-02, -4.6061e-02,  7.0184e-02],\n",
      "          [-5.5935e-02, -6.0632e-02,  3.5090e-02,  6.3679e-02,  4.4162e-02]],\n",
      "\n",
      "         [[-8.1057e-02,  4.4876e-02, -2.7287e-02,  1.8783e-02, -3.6588e-02],\n",
      "          [-4.3116e-02, -2.1854e-02,  7.1035e-04,  3.8075e-02, -4.1324e-02],\n",
      "          [-3.3744e-02,  4.4015e-02, -3.3393e-02, -5.9680e-02,  2.2694e-03],\n",
      "          [ 3.6024e-02, -1.0585e-02,  4.6644e-03,  7.3671e-02,  3.1848e-02],\n",
      "          [ 2.7958e-03,  5.7671e-02, -1.5207e-02, -4.0137e-02,  2.9314e-02]],\n",
      "\n",
      "         [[-6.1732e-02,  2.4146e-02,  3.4934e-02,  4.4698e-02,  1.4030e-02],\n",
      "          [ 5.3915e-02,  5.2016e-02,  4.4329e-02, -6.0245e-02,  1.5027e-02],\n",
      "          [ 3.9506e-02,  6.6715e-02,  7.2457e-02, -7.5587e-02,  7.0198e-02],\n",
      "          [ 1.9859e-02, -4.4846e-02, -7.1523e-02,  3.0583e-02,  6.2682e-02],\n",
      "          [ 5.7582e-02,  4.5690e-02, -6.4323e-02, -7.7264e-02, -1.7014e-02]]],\n",
      "\n",
      "\n",
      "        [[[-3.9336e-02, -5.1610e-02, -7.3884e-02,  2.8875e-02,  2.5497e-02],\n",
      "          [ 3.7587e-02, -4.4717e-02, -4.9611e-02,  3.1111e-03,  4.7392e-02],\n",
      "          [ 3.4991e-02,  2.6174e-02, -2.2081e-02,  1.6524e-02, -2.7060e-02],\n",
      "          [ 5.3568e-02,  6.0664e-02,  4.2457e-03, -7.8802e-03,  7.3031e-02],\n",
      "          [-5.4830e-02, -1.2774e-03,  1.3442e-02, -2.7237e-02, -2.2564e-03]],\n",
      "\n",
      "         [[-5.1715e-02,  2.7768e-03,  4.2895e-02,  5.5823e-02,  6.0079e-02],\n",
      "          [ 3.5081e-02,  7.6482e-02,  4.0793e-02,  2.8155e-02,  3.8059e-02],\n",
      "          [ 3.7148e-02,  1.3184e-02, -6.8029e-02,  2.5143e-03, -1.8347e-02],\n",
      "          [-3.3118e-02, -3.5469e-02, -2.4521e-02, -3.1356e-02,  7.3001e-02],\n",
      "          [-2.7635e-02, -1.1191e-03, -1.2778e-02,  6.4275e-02, -3.7306e-02]],\n",
      "\n",
      "         [[ 3.3307e-02, -7.8180e-02,  1.7488e-02, -5.5227e-02,  2.5037e-02],\n",
      "          [ 2.5609e-02,  2.6452e-02,  1.1206e-02, -2.9486e-02, -5.3904e-02],\n",
      "          [-5.3633e-02, -1.2957e-02, -1.8378e-02,  7.4705e-02,  4.2599e-02],\n",
      "          [-6.2249e-03,  5.6158e-02, -6.8327e-03, -7.7142e-02, -2.5576e-02],\n",
      "          [ 7.2318e-02,  4.6198e-02,  1.2150e-03, -4.0262e-02, -5.1922e-03]],\n",
      "\n",
      "         [[-1.5128e-03, -5.9484e-02, -1.3093e-02, -5.3587e-02,  3.5405e-02],\n",
      "          [ 2.7611e-02,  9.2123e-03,  2.7736e-02,  2.3713e-02, -5.2616e-02],\n",
      "          [-1.6730e-02, -6.7205e-02,  1.8837e-02,  5.3119e-02, -2.4116e-02],\n",
      "          [ 2.4180e-03,  6.7291e-02,  4.5553e-02,  3.6306e-02,  3.0522e-02],\n",
      "          [ 9.7253e-03,  7.3191e-02, -5.5743e-02,  6.0235e-02, -1.2716e-02]],\n",
      "\n",
      "         [[-4.6318e-02,  6.3960e-02,  8.1007e-02,  6.9818e-02,  2.3033e-02],\n",
      "          [ 5.5254e-03, -3.1002e-02,  9.2568e-03,  1.2334e-02, -2.9042e-02],\n",
      "          [-3.9977e-02, -5.0511e-02,  2.4771e-02,  3.6493e-02,  1.7636e-02],\n",
      "          [ 5.7611e-02, -2.3559e-02, -3.5599e-02,  5.7426e-02,  1.7928e-02],\n",
      "          [ 2.7755e-03,  2.7735e-02, -4.9018e-02, -3.8030e-02,  6.9762e-02]],\n",
      "\n",
      "         [[-3.6135e-02,  5.8501e-03,  6.4899e-02,  6.9750e-02,  4.6144e-02],\n",
      "          [ 1.9668e-02, -7.1182e-02, -7.8993e-03, -3.3032e-04, -2.5662e-02],\n",
      "          [-5.0960e-02, -5.2914e-02,  6.4473e-02, -1.9428e-03, -2.9569e-02],\n",
      "          [-4.3276e-02, -3.1421e-02,  8.0820e-02, -2.6094e-02, -4.5659e-02],\n",
      "          [-7.7547e-02,  5.9547e-02,  8.0229e-02,  5.5332e-02,  6.8008e-02]]],\n",
      "\n",
      "\n",
      "        [[[-1.0621e-02, -6.6509e-02, -2.7892e-02,  1.3004e-02,  7.7374e-02],\n",
      "          [ 1.0496e-02,  3.7373e-02,  7.1874e-02, -2.2756e-02, -7.1398e-02],\n",
      "          [-3.7363e-02, -8.1313e-02,  3.6953e-02, -3.7703e-02, -1.3243e-02],\n",
      "          [-4.4465e-02, -2.1420e-02,  8.0652e-02,  2.0527e-02, -3.5757e-02],\n",
      "          [ 6.4327e-02, -4.9146e-02,  1.6587e-02, -6.0045e-02, -8.5742e-04]],\n",
      "\n",
      "         [[-5.9063e-02,  4.6563e-02, -1.2126e-02,  1.0769e-02, -5.0245e-02],\n",
      "          [ 7.6339e-02,  7.7146e-02,  5.6022e-02, -7.9658e-02, -8.1491e-02],\n",
      "          [-5.2522e-02,  4.0073e-02,  4.2986e-02,  2.6363e-02, -6.2910e-02],\n",
      "          [ 4.9328e-02, -7.0523e-02, -7.7501e-02, -3.5956e-02,  4.5035e-02],\n",
      "          [-5.3567e-02,  4.8457e-02,  4.0908e-02,  3.9634e-02, -7.6255e-02]],\n",
      "\n",
      "         [[-1.3011e-02, -8.0893e-02, -1.7810e-02,  4.9065e-02, -1.1930e-02],\n",
      "          [ 8.0040e-02,  7.2976e-02, -1.8659e-02,  9.6923e-03,  5.2098e-02],\n",
      "          [-2.8487e-04, -1.0712e-02,  6.3272e-02, -6.3136e-02, -3.4816e-02],\n",
      "          [-1.6491e-02,  7.8389e-02, -7.4697e-02, -5.2029e-02, -3.5816e-02],\n",
      "          [-2.5305e-02, -7.3107e-02, -6.1454e-02,  1.2080e-02,  6.4237e-02]],\n",
      "\n",
      "         [[ 1.4210e-02,  1.5329e-02,  6.7378e-02,  3.7542e-05,  4.2675e-02],\n",
      "          [ 1.6199e-02, -4.1415e-02,  5.0961e-02,  1.2348e-02, -4.3149e-03],\n",
      "          [ 6.3913e-02,  4.0405e-02,  2.7127e-02, -4.5480e-02, -1.3366e-03],\n",
      "          [-4.5415e-02, -2.4465e-02, -2.7394e-02,  1.3545e-02,  2.8412e-03],\n",
      "          [ 2.6829e-02, -6.2656e-02, -1.6843e-02, -8.5096e-03,  6.1755e-02]],\n",
      "\n",
      "         [[-3.0861e-02,  4.6607e-02,  5.7247e-03,  6.8494e-02, -7.4034e-02],\n",
      "          [ 4.8458e-02, -2.6499e-02, -4.7023e-02, -5.6432e-02, -3.5129e-03],\n",
      "          [ 1.8962e-02, -3.7998e-02, -2.1338e-02, -6.4442e-03, -3.1069e-02],\n",
      "          [-4.1558e-03,  6.1620e-02, -7.3230e-02, -4.3895e-02,  2.6642e-02],\n",
      "          [-3.9108e-02,  2.8647e-03,  7.6633e-02, -5.7891e-02, -7.8030e-02]],\n",
      "\n",
      "         [[ 2.8772e-02,  8.0955e-02, -6.6580e-02,  6.4723e-02, -2.1880e-02],\n",
      "          [-3.3810e-02,  4.6062e-02,  7.8651e-02,  1.4428e-02, -3.0086e-02],\n",
      "          [-2.9315e-02, -2.1963e-02, -7.8734e-02,  1.7030e-02,  3.4245e-02],\n",
      "          [-8.7051e-03,  1.5366e-02,  3.1034e-02,  3.6975e-02,  1.5342e-02],\n",
      "          [ 5.5482e-02, -5.4647e-02,  2.9839e-02,  3.4201e-02, -6.8147e-02]]]], requires_grad=True)\n"
     ]
    }
   ],
   "source": [
    "# When looking at the weights in the conv kernels, you can see at the end that there is a parameter called 'required_grad'\n",
    "# That tracks the operations done on the weight and is the key behind backpropagation\n",
    "print(network.conv2.weight)"
   ]
  },
  {
   "cell_type": "code",
   "execution_count": 60,
   "id": "035c01f0",
   "metadata": {},
   "outputs": [
    {
     "name": "stdout",
     "output_type": "stream",
     "text": [
      "None\n"
     ]
    }
   ],
   "source": [
    "# We can inspect access the current gradient of those weight, which should not exist since we havent\n",
    "# actually backpropagated the loss\n",
    "print(network.conv2.weight.grad)"
   ]
  },
  {
   "cell_type": "code",
   "execution_count": 61,
   "id": "4be9b4f6",
   "metadata": {},
   "outputs": [],
   "source": [
    "# Calculating the gradients\n",
    "loss.backward()"
   ]
  },
  {
   "cell_type": "code",
   "execution_count": 62,
   "id": "dda63fb0",
   "metadata": {},
   "outputs": [
    {
     "data": {
      "text/plain": [
       "torch.Size([6, 1, 5, 5])"
      ]
     },
     "execution_count": 62,
     "metadata": {},
     "output_type": "execute_result"
    }
   ],
   "source": [
    "network.conv1.weight.grad.shape"
   ]
  },
  {
   "cell_type": "code",
   "execution_count": 63,
   "id": "cb200216",
   "metadata": {},
   "outputs": [],
   "source": [
    "# Now that we have our gradients, we can an optimizer such as SGD or ADAM to update the weights and assign a learning rate 'lr'\n",
    "optimizer = optim.Adam(network.parameters(), lr=0.01)"
   ]
  },
  {
   "cell_type": "code",
   "execution_count": 64,
   "id": "fa2c8a1a",
   "metadata": {},
   "outputs": [
    {
     "data": {
      "text/plain": [
       "2.3157265186309814"
      ]
     },
     "execution_count": 64,
     "metadata": {},
     "output_type": "execute_result"
    }
   ],
   "source": [
    "loss.item()"
   ]
  },
  {
   "cell_type": "code",
   "execution_count": 65,
   "id": "7566c54c",
   "metadata": {},
   "outputs": [
    {
     "data": {
      "text/plain": [
       "13"
      ]
     },
     "execution_count": 65,
     "metadata": {},
     "output_type": "execute_result"
    }
   ],
   "source": [
    "# Let do a quick check for the orrect predicitons using our new function\n",
    "get_num_correct(preds, labels)"
   ]
  },
  {
   "cell_type": "code",
   "execution_count": 66,
   "id": "f616ccd4",
   "metadata": {},
   "outputs": [],
   "source": [
    "# This is the magical weight updating step for backpropagation\n",
    "optimizer.step()"
   ]
  },
  {
   "cell_type": "code",
   "execution_count": 67,
   "id": "8cc8370c",
   "metadata": {},
   "outputs": [],
   "source": [
    "# New lets pass the batch in again an see if we had some imporvement\n",
    "preds = network(images)\n",
    "loss = F.cross_entropy(preds, labels)"
   ]
  },
  {
   "cell_type": "code",
   "execution_count": 68,
   "id": "a6612e3f",
   "metadata": {},
   "outputs": [
    {
     "data": {
      "text/plain": [
       "2.2907307147979736"
      ]
     },
     "execution_count": 68,
     "metadata": {},
     "output_type": "execute_result"
    }
   ],
   "source": [
    "# The loss has decreased\n",
    "loss.item()"
   ]
  },
  {
   "cell_type": "code",
   "execution_count": 69,
   "id": "64af4b65",
   "metadata": {},
   "outputs": [
    {
     "data": {
      "text/plain": [
       "20"
      ]
     },
     "execution_count": 69,
     "metadata": {},
     "output_type": "execute_result"
    }
   ],
   "source": [
    "# Our correct predictions have gone from 4 to 14\n",
    "get_num_correct(preds, labels)"
   ]
  },
  {
   "cell_type": "code",
   "execution_count": 70,
   "id": "15bf628f",
   "metadata": {},
   "outputs": [
    {
     "name": "stdout",
     "output_type": "stream",
     "text": [
      "loss1: 2.3020825386047363\n",
      "loss2: 2.2572433948516846\n"
     ]
    }
   ],
   "source": [
    "# Lets group the steps needed to run one batch through our network \n",
    "\n",
    "network = Network()\n",
    "\n",
    "train_loader = torch.utils.data.DataLoader(train_set, batch_size=100)\n",
    "optimizer = optim.Adam(network.parameters(), lr=0.01)\n",
    "\n",
    "batch = next(iter(train_loader))\n",
    "images, labels = batch\n",
    "\n",
    "preds = network(images)\n",
    "loss = F.cross_entropy(preds, labels)\n",
    "\n",
    "loss.backward()\n",
    "optimizer.step()\n",
    "\n",
    "# Print the loss decrease after 1 epoch\n",
    "print('loss1:', loss.item())\n",
    "preds = network(images)\n",
    "loss = F.cross_entropy(preds, labels)\n",
    "print('loss2:', loss.item())"
   ]
  },
  {
   "cell_type": "code",
   "execution_count": 72,
   "id": "e62cf06f",
   "metadata": {},
   "outputs": [
    {
     "name": "stdout",
     "output_type": "stream",
     "text": [
      "epoch: 0 total_correct 46518 loss: 355.6099427640438\n"
     ]
    }
   ],
   "source": [
    "# Using our dataloader iterator, we can loop through all the batches using the same block run above\n",
    "# The complete run of all batches is called an epoch\n",
    "\n",
    "network = Network()\n",
    "\n",
    "train_loader = torch.utils.data.DataLoader(train_set, batch_size=100)\n",
    "optimizer = optim.Adam(network.parameters(), lr=0.01)\n",
    "\n",
    "total_loss = 0 \n",
    "total_correct = 0\n",
    "\n",
    "for batch in train_loader:\n",
    "  images, labels = batch\n",
    "\n",
    "  preds = network(images)\n",
    "  loss = F.cross_entropy(preds, labels)\n",
    "\n",
    "  # In the iterative case, we zero out the gradients as they are accumulated by default\n",
    "  optimizer.zero_grad()\n",
    "  loss.backward()\n",
    "  optimizer.step()\n",
    "\n",
    "  total_loss += loss.item()\n",
    "  total_correct += get_num_correct(preds, labels)\n",
    "\n",
    "print(\"epoch:\", 0, \"total_correct\", total_correct, \"loss:\", total_loss)"
   ]
  },
  {
   "cell_type": "code",
   "execution_count": 73,
   "id": "e3367643",
   "metadata": {},
   "outputs": [
    {
     "name": "stdout",
     "output_type": "stream",
     "text": [
      "0.7753\n"
     ]
    }
   ],
   "source": [
    "# We can gauge out accuracy using our total correct values\n",
    "\n",
    "model_accuracy = total_correct/len(train_set)\n",
    "print(model_accuracy)"
   ]
  },
  {
   "cell_type": "code",
   "execution_count": 75,
   "id": "f99ed115",
   "metadata": {},
   "outputs": [
    {
     "name": "stdout",
     "output_type": "stream",
     "text": [
      "epoch: 0 total_correct 47055 loss: 343.2991219460964\n",
      "epoch: 1 total_correct 51273 loss: 235.7713549733162\n",
      "epoch: 2 total_correct 52058 loss: 212.8116049617529\n",
      "epoch: 3 total_correct 52534 loss: 203.6005694270134\n",
      "epoch: 4 total_correct 52794 loss: 196.73454809188843\n"
     ]
    }
   ],
   "source": [
    "# Building further on the block, we introduce multiple epochs \n",
    "\n",
    "network = Network()\n",
    "\n",
    "train_loader = torch.utils.data.DataLoader(train_set, batch_size=100)\n",
    "optimizer = optim.Adam(network.parameters(), lr=0.01)\n",
    "\n",
    "for epoch in range(5):\n",
    "\n",
    "  total_loss = 0 \n",
    "  total_correct = 0\n",
    "\n",
    "  for batch in train_loader:\n",
    "    images, labels = batch\n",
    "\n",
    "    preds = network(images)\n",
    "    loss = F.cross_entropy(preds, labels)\n",
    "\n",
    "    # In the iterative case, we zero out the gradients as they are accumulated by default\n",
    "    optimizer.zero_grad()\n",
    "    loss.backward()\n",
    "    optimizer.step()\n",
    "\n",
    "    total_loss += loss.item()\n",
    "    total_correct += get_num_correct(preds, labels)\n",
    "\n",
    "  print(\"epoch:\", epoch, \"total_correct\", total_correct, \"loss:\", total_loss)"
   ]
  },
  {
   "cell_type": "code",
   "execution_count": 77,
   "id": "78235cfd",
   "metadata": {},
   "outputs": [
    {
     "name": "stdout",
     "output_type": "stream",
     "text": [
      "0.8799\n"
     ]
    }
   ],
   "source": [
    "# Lets gauge our accuracy again\n",
    "\n",
    "model_accuracy = total_correct/len(train_set)\n",
    "print(model_accuracy)"
   ]
  },
  {
   "cell_type": "code",
   "execution_count": 81,
   "id": "99b8afd3",
   "metadata": {},
   "outputs": [
    {
     "data": {
      "text/plain": [
       "60000"
      ]
     },
     "execution_count": 81,
     "metadata": {},
     "output_type": "execute_result"
    }
   ],
   "source": [
    "# Analyzing CNN Results via building a confusion matrix\n",
    "\n",
    "len(train_set)"
   ]
  },
  {
   "cell_type": "code",
   "execution_count": 82,
   "id": "d5e19a96",
   "metadata": {},
   "outputs": [
    {
     "data": {
      "text/plain": [
       "60000"
      ]
     },
     "execution_count": 82,
     "metadata": {},
     "output_type": "execute_result"
    }
   ],
   "source": [
    "# The targets correspond to the labels, which should match the train set\n",
    "len(train_set.targets)"
   ]
  },
  {
   "cell_type": "code",
   "execution_count": 83,
   "id": "e2c0a957",
   "metadata": {},
   "outputs": [],
   "source": [
    "# We will need to get the predictions from the model, which we would prefer to get\n",
    "# via our dataloader, since it is better than feeding the entire set in one run (Unless you have a monster machine)\n",
    "\n",
    "def get_all_preds(model, loader):\n",
    "  all_preds = torch.tensor([])\n",
    "  for batch in loader:\n",
    "    images, labels = batch\n",
    "    preds = model(images)\n",
    "    all_preds = torch.cat((all_preds, preds), dim=0)\n",
    "  return all_preds\n"
   ]
  },
  {
   "cell_type": "code",
   "execution_count": 84,
   "id": "ac9b06b2",
   "metadata": {},
   "outputs": [
    {
     "data": {
      "text/plain": [
       "torch.Size([100, 10])"
      ]
     },
     "execution_count": 84,
     "metadata": {},
     "output_type": "execute_result"
    }
   ],
   "source": [
    "# Getting a little insight into the 'cat' method, we can confirm that the predictions \n",
    "# is in the form of a rank 2 tensor, where the first axis are the images and the \n",
    "# second axis are our classes, concatenating by the first dimension, the output\n",
    "# of this function should be (60000, 10)\n",
    "\n",
    "preds = network(images)\n",
    "preds.shape"
   ]
  },
  {
   "cell_type": "code",
   "execution_count": 89,
   "id": "8549d71a",
   "metadata": {},
   "outputs": [],
   "source": [
    "# Lets create a larger batch size for these predictions and run the our function\n",
    "# As a good practice, its computationally better to run these operations with the \n",
    "# gradient disabled: \n",
    "\n",
    "with torch.no_grad():\n",
    "  prediction_loader = torch.utils.data.DataLoader(train_set, batch_size= 10000)\n",
    "  train_preds = get_all_preds(network, prediction_loader)\n"
   ]
  },
  {
   "cell_type": "code",
   "execution_count": 90,
   "id": "b706b385",
   "metadata": {},
   "outputs": [
    {
     "data": {
      "text/plain": [
       "torch.Size([60000, 10])"
      ]
     },
     "execution_count": 90,
     "metadata": {},
     "output_type": "execute_result"
    }
   ],
   "source": [
    "# We confirm the output of our function\n",
    "\n",
    "train_preds.shape"
   ]
  },
  {
   "cell_type": "code",
   "execution_count": 118,
   "id": "b0262b6e",
   "metadata": {},
   "outputs": [],
   "source": [
    "# Now to build our confusion matrix\n",
    "# First we need to align our original targets(labels) with our predicitons\n",
    "\n",
    "train_set.targets\n",
    "train_preds.argmax(dim=1)\n",
    "\n",
    "stacked = torch.stack((train_set.targets, train_preds.argmax(dim=1)), dim=1)"
   ]
  },
  {
   "cell_type": "code",
   "execution_count": 119,
   "id": "9bdc27d4",
   "metadata": {},
   "outputs": [
    {
     "data": {
      "text/plain": [
       "torch.Size([60000, 2])"
      ]
     },
     "execution_count": 119,
     "metadata": {},
     "output_type": "execute_result"
    }
   ],
   "source": [
    "stacked.shape"
   ]
  },
  {
   "cell_type": "code",
   "execution_count": 120,
   "id": "f77caa61",
   "metadata": {},
   "outputs": [
    {
     "data": {
      "text/plain": [
       "tensor([[9, 9],\n",
       "        [0, 0],\n",
       "        [0, 0],\n",
       "        ...,\n",
       "        [3, 3],\n",
       "        [0, 0],\n",
       "        [5, 5]])"
      ]
     },
     "execution_count": 120,
     "metadata": {},
     "output_type": "execute_result"
    }
   ],
   "source": [
    "stacked"
   ]
  },
  {
   "cell_type": "code",
   "execution_count": 128,
   "id": "74ef0993",
   "metadata": {},
   "outputs": [
    {
     "data": {
      "text/plain": [
       "tensor([[0, 0, 0, 0, 0, 0, 0, 0, 0, 0],\n",
       "        [0, 0, 0, 0, 0, 0, 0, 0, 0, 0],\n",
       "        [0, 0, 0, 0, 0, 0, 0, 0, 0, 0],\n",
       "        [0, 0, 0, 0, 0, 0, 0, 0, 0, 0],\n",
       "        [0, 0, 0, 0, 0, 0, 0, 0, 0, 0],\n",
       "        [0, 0, 0, 0, 0, 0, 0, 0, 0, 0],\n",
       "        [0, 0, 0, 0, 0, 0, 0, 0, 0, 0],\n",
       "        [0, 0, 0, 0, 0, 0, 0, 0, 0, 0],\n",
       "        [0, 0, 0, 0, 0, 0, 0, 0, 0, 0],\n",
       "        [0, 0, 0, 0, 0, 0, 0, 0, 0, 0]], dtype=torch.int32)"
      ]
     },
     "execution_count": 128,
     "metadata": {},
     "output_type": "execute_result"
    }
   ],
   "source": [
    "# Lets now create a tensor to represent the confusion matrix\n",
    "cMat = torch.zeros(10,10, dtype=torch.int32)\n",
    "cMat"
   ]
  },
  {
   "cell_type": "code",
   "execution_count": 129,
   "id": "52f97ce1",
   "metadata": {},
   "outputs": [],
   "source": [
    "# going through our stacked values, we can increment the respective correct slot \n",
    "for p in stacked:\n",
    "  tl,pl = p.tolist()\n",
    "  cMat[tl,pl] = cMat[tl,pl]+1"
   ]
  },
  {
   "cell_type": "code",
   "execution_count": 130,
   "id": "3990f358",
   "metadata": {},
   "outputs": [
    {
     "data": {
      "text/plain": [
       "tensor([[5633,    4,   71,   85,   11,    3,  164,    0,   29,    0],\n",
       "        [  16, 5883,   13,   68,    8,    0,    8,    0,    4,    0],\n",
       "        [ 104,    5, 4689,   62,  551,    0,  581,    0,    8,    0],\n",
       "        [ 285,   63,   13, 5361,  180,    0,   93,    0,    5,    0],\n",
       "        [  22,    7,  303,  181, 4538,    0,  940,    0,    9,    0],\n",
       "        [   4,    0,    2,    3,    0, 5732,    0,  186,   14,   59],\n",
       "        [1570,   15,  423,  105,  220,    0, 3602,    0,   65,    0],\n",
       "        [   0,    0,    0,    0,    0,   39,    0, 5833,    2,  126],\n",
       "        [  24,    6,   35,   17,   22,    5,   46,   17, 5824,    4],\n",
       "        [   0,    0,    0,    1,    0,   23,    0,  231,    4, 5741]], dtype=torch.int32)"
      ]
     },
     "execution_count": 130,
     "metadata": {},
     "output_type": "execute_result"
    }
   ],
   "source": [
    "cMat"
   ]
  },
  {
   "cell_type": "code",
   "execution_count": 132,
   "id": "1a5e2661",
   "metadata": {},
   "outputs": [],
   "source": [
    "# To make things easier down the line, we can use libraries to plot these matrices \n",
    "\n",
    "import matplotlib.pyplot as plt\n",
    "\n",
    "from sklearn.metrics import confusion_matrix, plot_confusion_matrix\n",
    "\n",
    "\n"
   ]
  },
  {
   "cell_type": "code",
   "execution_count": 134,
   "id": "e8bd4aba",
   "metadata": {},
   "outputs": [
    {
     "name": "stdout",
     "output_type": "stream",
     "text": [
      "<class 'numpy.ndarray'>\n"
     ]
    }
   ],
   "source": [
    "conf_mat = confusion_matrix(train_set.targets, train_preds.argmax(dim=1))\n",
    "print(type(conf_mat))"
   ]
  },
  {
   "cell_type": "code",
   "execution_count": 140,
   "id": "e77712e0",
   "metadata": {},
   "outputs": [],
   "source": [
    "# Using Chris' function for plotting the confusion matrix\n",
    "# source: https://deeplizard.com/learn/video/0LhiS6yu2qQ\n",
    "def plot_confusion_matrix(cm, classes, normalize=False, title='Confusion matrix', cmap=plt.cm.Blues):\n",
    "    if normalize:\n",
    "        cm = cm.astype('float') / cm.sum(axis=1)[:, np.newaxis]\n",
    "        print(\"Normalized confusion matrix\")\n",
    "    else:\n",
    "        print('Confusion matrix, without normalization')\n",
    "\n",
    "    print(cm)\n",
    "    plt.imshow(cm, interpolation='nearest', cmap=cmap)\n",
    "    plt.title(title)\n",
    "    plt.colorbar()\n",
    "    tick_marks = np.arange(len(classes))\n",
    "    plt.xticks(tick_marks, classes, rotation=45)\n",
    "    plt.yticks(tick_marks, classes)\n",
    "\n",
    "    fmt = '.2f' if normalize else 'd'\n",
    "    thresh = cm.max() / 2.\n",
    "    for i, j in itertools.product(range(cm.shape[0]), range(cm.shape[1])):\n",
    "        plt.text(j, i, format(cm[i, j], fmt), horizontalalignment=\"center\", color=\"white\" if cm[i, j] > thresh else \"black\")\n",
    "\n",
    "    plt.tight_layout()\n",
    "    plt.ylabel('True label')\n",
    "    plt.xlabel('Predicted label')"
   ]
  },
  {
   "cell_type": "code",
   "execution_count": 144,
   "id": "bac55ae0",
   "metadata": {},
   "outputs": [
    {
     "name": "stdout",
     "output_type": "stream",
     "text": [
      "Confusion matrix, without normalization\n",
      "tensor([[5633,    4,   71,   85,   11,    3,  164,    0,   29,    0],\n",
      "        [  16, 5883,   13,   68,    8,    0,    8,    0,    4,    0],\n",
      "        [ 104,    5, 4689,   62,  551,    0,  581,    0,    8,    0],\n",
      "        [ 285,   63,   13, 5361,  180,    0,   93,    0,    5,    0],\n",
      "        [  22,    7,  303,  181, 4538,    0,  940,    0,    9,    0],\n",
      "        [   4,    0,    2,    3,    0, 5732,    0,  186,   14,   59],\n",
      "        [1570,   15,  423,  105,  220,    0, 3602,    0,   65,    0],\n",
      "        [   0,    0,    0,    0,    0,   39,    0, 5833,    2,  126],\n",
      "        [  24,    6,   35,   17,   22,    5,   46,   17, 5824,    4],\n",
      "        [   0,    0,    0,    1,    0,   23,    0,  231,    4, 5741]], dtype=torch.int32)\n"
     ]
    },
    {
     "data": {
      "image/png": "[encoded data removed]",
      "text/plain": [
       "<Figure size 720x720 with 2 Axes>"
      ]
     },
     "metadata": {
      "needs_background": "light"
     },
     "output_type": "display_data"
    }
   ],
   "source": [
    "\n",
    "names = ('tshirt', 'trouser','pullover', 'dress', 'coat','sandal','shirt','sneaker','bag','ankle boot')\n",
    "plt.figure(figsize=(10,10))\n",
    "plot_confusion_matrix(cMat, names)"
   ]
  },
  {
   "cell_type": "code",
   "execution_count": null,
   "id": "18afd13f",
   "metadata": {},
   "outputs": [],
   "source": []
  }
 ],
 "metadata": {
  "interpreter": {
   "hash": "87c69a23efa0ee1d5c64982a8e9486c08d519e3aa99d691b2ceccc04345ec1d7"
  },
  "kernelspec": {
   "display_name": "Python [conda env:pytorch-fastai]",
   "language": "python",
   "name": "python3"
  },
  "language_info": {
   "codemirror_mode": {
    "name": "ipython",
    "version": 3
   },
   "file_extension": ".py",
   "mimetype": "text/x-python",
   "name": "python",
   "nbconvert_exporter": "python",
   "pygments_lexer": "ipython3",
   "version": "3.8.8"
  }
 },
 "nbformat": 4,
 "nbformat_minor": 5
}
